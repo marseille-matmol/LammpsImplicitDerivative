{
 "cells": [
  {
   "cell_type": "markdown",
   "metadata": {},
   "source": [
    "# `LammpsImplicitDer` parent class\n",
    "This is the core parent class that contains the implicit derivative implementations and the LAMMPS simulator. Any LAMMPS system class should inherit from this class."
   ]
  },
  {
   "cell_type": "code",
   "execution_count": 3,
   "metadata": {},
   "outputs": [],
   "source": [
    "from lammps_implicit_der import LammpsImplicitDer, SNAP"
   ]
  },
  {
   "cell_type": "markdown",
   "metadata": {},
   "source": [
    "## Example how to create a LAMMPS simulation based on `LammpsImplicitDer` class"
   ]
  },
  {
   "cell_type": "code",
   "execution_count": 4,
   "metadata": {},
   "outputs": [
    {
     "name": "stdout",
     "output_type": "stream",
     "text": [
      "None\n",
      "Running LAMMPS with the following arguments:\n",
      "-screen none -log none\n"
     ]
    }
   ],
   "source": [
    "class Bcc(LammpsImplicitDer):\n",
    "    def __init__(self):\n",
    "        super().__init__()\n",
    "\n",
    "        # Load the SNAP potential\n",
    "        self.pot = SNAP.from_files('W.snapcoeff', data_path='../lammps_implicit_der/data_files/')\n",
    "\n",
    "bcc = Bcc()"
   ]
  }
 ],
 "metadata": {
  "kernelspec": {
   "display_name": "jax",
   "language": "python",
   "name": "python3"
  },
  "language_info": {
   "codemirror_mode": {
    "name": "ipython",
    "version": 3
   },
   "file_extension": ".py",
   "mimetype": "text/x-python",
   "name": "python",
   "nbconvert_exporter": "python",
   "pygments_lexer": "ipython3",
   "version": "3.10.12"
  }
 },
 "nbformat": 4,
 "nbformat_minor": 2
}
