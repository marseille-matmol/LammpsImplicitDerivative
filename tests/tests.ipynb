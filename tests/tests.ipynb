{
 "cells": [
  {
   "cell_type": "code",
   "execution_count": 1,
   "metadata": {},
   "outputs": [],
   "source": [
    "import numpy as np\n",
    "from lammps_implicit_der.systems import Bcc, BccBinary, BccBinaryVacancy, BccVacancy, BccSIA\n"
   ]
  },
  {
   "cell_type": "markdown",
   "metadata": {},
   "source": [
    "# Systems"
   ]
  },
  {
   "cell_type": "code",
   "execution_count": 16,
   "metadata": {},
   "outputs": [
    {
     "name": "stdout",
     "output_type": "stream",
     "text": [
      "-89.060889667491\n",
      "55\n",
      "-89.06088966749098\n"
     ]
    }
   ],
   "source": [
    "bcc_pure = Bcc(alat=3.18427, ncell_x=2, minimize=True, logname=None, data_path='./refs/', snapcoeff_filename = 'W.snapcoeff', verbose=False)\n",
    "print(bcc_pure.energy)\n",
    "print(bcc_pure.Ndesc)\n",
    "print(bcc_pure.dU_dTheta @ bcc_pure.Theta)"
   ]
  },
  {
   "cell_type": "code",
   "execution_count": 3,
   "metadata": {},
   "outputs": [
    {
     "name": "stdout",
     "output_type": "stream",
     "text": [
      "-89.0555278168474\n"
     ]
    }
   ],
   "source": [
    "bcc_pure = Bcc(alat=3.18, ncell_x=2, minimize=False, logname=None, data_path='./refs/', snapcoeff_filename = 'W.snapcoeff', verbose=False)\n",
    "print(bcc_pure.energy)"
   ]
  },
  {
   "cell_type": "code",
   "execution_count": 17,
   "metadata": {},
   "outputs": [
    {
     "name": "stdout",
     "output_type": "stream",
     "text": [
      "-80.36527467896518\n",
      "15\n"
     ]
    }
   ],
   "source": [
    "bcc_vac = BccVacancy(alat=3.163, ncell_x=2, minimize=True, logname=None, data_path='./refs/', snapcoeff_filename = 'W.snapcoeff', verbose=False)\n",
    "print(bcc_vac.energy)\n",
    "print(bcc_vac.Natom)"
   ]
  },
  {
   "cell_type": "code",
   "execution_count": 5,
   "metadata": {},
   "outputs": [
    {
     "name": "stdout",
     "output_type": "stream",
     "text": [
      "-122.76839711519715\n",
      "16\n",
      "[1 1 1 2 2 2 2 2 2 1 1 2 1 1 1 1]\n",
      "30\n"
     ]
    }
   ],
   "source": [
    "bcc_binary = BccBinary(alat=3.13, ncell_x=2, minimize=True, logname=None, data_path='./refs/', snapcoeff_filename = 'NiMo.snapcoeff', verbose=False)\n",
    "print(bcc_binary.energy)\n",
    "print(bcc_binary.Natom)\n",
    "print(bcc_binary.species)\n",
    "print(bcc_binary.Ndesc)"
   ]
  },
  {
   "cell_type": "code",
   "execution_count": 6,
   "metadata": {},
   "outputs": [
    {
     "name": "stdout",
     "output_type": "stream",
     "text": [
      "-116.12471812826522\n",
      "15\n",
      "[1 1 1 2 2 2 2 2 2 1 1 2 1 1 1]\n"
     ]
    }
   ],
   "source": [
    "bcc_binary = BccBinaryVacancy(alat=3.13, ncell_x=2, minimize=True, logname=None, data_path='./refs/', snapcoeff_filename = 'NiMo.snapcoeff', verbose=False)\n",
    "print(bcc_binary.energy)\n",
    "print(bcc_binary.Natom)\n",
    "print(bcc_binary.species)"
   ]
  },
  {
   "cell_type": "code",
   "execution_count": 7,
   "metadata": {},
   "outputs": [
    {
     "name": "stdout",
     "output_type": "stream",
     "text": [
      "-53.04187280340517\n",
      "17\n"
     ]
    }
   ],
   "source": [
    "bcc_SIA = BccSIA(alat=3.18, ncell_x=2, minimize=False, logname=None, data_path='./refs/', snapcoeff_filename = 'W.snapcoeff', verbose=False)\n",
    "print(bcc_SIA.energy)\n",
    "print(bcc_SIA.Natom)"
   ]
  },
  {
   "cell_type": "code",
   "execution_count": 8,
   "metadata": {},
   "outputs": [
    {
     "name": "stdout",
     "output_type": "stream",
     "text": [
      "3.163163264038606\n",
      "-80.3652809680334\n"
     ]
    }
   ],
   "source": [
    "alat0 = 3.175\n",
    "ncell_x = 2\n",
    "system = BccVacancy(alat=alat0, ncell_x=ncell_x, minimize=True, logname=None,\n",
    "                    data_path='./refs/', snapcoeff_filename='W.snapcoeff', fix_box_relax=True, verbose=False)\n",
    "\n",
    "alat = system.volume**(1/3) / ncell_x\n",
    "print(alat)\n",
    "print(system.energy)"
   ]
  },
  {
   "cell_type": "markdown",
   "metadata": {},
   "source": [
    "# Potential object"
   ]
  },
  {
   "cell_type": "code",
   "execution_count": 9,
   "metadata": {},
   "outputs": [
    {
     "name": "stdout",
     "output_type": "stream",
     "text": [
      "dict_keys(['Ni', 'Mo', 'radii', 'weights'])\n",
      "0.5 1.0 0.575 0.575\n",
      "-11.1413071988\n"
     ]
    }
   ],
   "source": [
    "bcc_binary = BccBinary(alat=3.13, specie_B_concentration=0.2, ncell_x=2, minimize=False, logname=None, data_path='./refs/', snapcoeff_filename = 'NiMo.snapcoeff', verbose=False)\n",
    "print(bcc_binary.pot.Theta_dict.keys())\n",
    "print(bcc_binary.pot.Theta_dict['weights'], bcc_binary.pot.Theta_dict['radii'])\n",
    "print(bcc_binary.pot.Theta_dict['Mo']['beta0'])\n",
    "assert all( el in bcc_binary.pot.Theta_dict for el in ['Ni', 'Mo'])"
   ]
  },
  {
   "cell_type": "code",
   "execution_count": 10,
   "metadata": {},
   "outputs": [
    {
     "name": "stdout",
     "output_type": "stream",
     "text": [
      "(55,)\n",
      "(55,)\n"
     ]
    }
   ],
   "source": [
    "bcc_pure = Bcc(alat=3.18427, ncell_x=2, minimize=False, logname=None, data_path='./refs/', snapcoeff_filename='W.snapcoeff', verbose=False)\n",
    "coeffs = np.loadtxt('./refs/W.snapcoeff', skiprows=7)\n",
    "print(coeffs.shape)\n",
    "print(bcc_pure.pot.Theta_dict['W']['Theta'].shape)"
   ]
  },
  {
   "cell_type": "markdown",
   "metadata": {},
   "source": [
    "# System properties"
   ]
  },
  {
   "cell_type": "code",
   "execution_count": 19,
   "metadata": {},
   "outputs": [
    {
     "name": "stdout",
     "output_type": "stream",
     "text": [
      "-11.115719916006501\n",
      "-11.1157199160065\n",
      "[ 0.03163  0.03163  0.03163 -1.54987 -1.54987 -1.54987]\n",
      "[[3.163 0.    0.   ]\n",
      " [0.    3.163 0.   ]\n",
      " [0.    0.    3.163]]\n",
      "[[0.31615555 0.         0.        ]\n",
      " [0.         0.31615555 0.        ]\n",
      " [0.         0.         0.31615555]]\n"
     ]
    }
   ],
   "source": [
    "bcc_vacancy = BccVacancy(alat=3.163, ncell_x=1, minimize=False, logname=None, data_path='./refs/', snapcoeff_filename='W.snapcoeff', verbose=False)\n",
    "print(bcc_vacancy.energy)\n",
    "print(bcc_vacancy.dU_dTheta @ bcc_vacancy.Theta)\n",
    "print(bcc_vacancy.X_coord)\n",
    "\n",
    "print(bcc_vacancy.cell)\n",
    "print(bcc_vacancy.inv_cell)"
   ]
  },
  {
   "cell_type": "code",
   "execution_count": 12,
   "metadata": {},
   "outputs": [
    {
     "name": "stdout",
     "output_type": "stream",
     "text": [
      "[ 1.022    0.03163  0.03163 -0.608   -1.54987 -1.54987]\n"
     ]
    }
   ],
   "source": [
    "X_coord_test = bcc_vacancy.X_coord.copy()\n",
    "X_coord_test[0] = 20.0\n",
    "X_coord_test[3] = 50.0\n",
    "bcc_vacancy.X_coord = X_coord_test\n",
    "print(bcc_vacancy.X_coord)"
   ]
  },
  {
   "cell_type": "code",
   "execution_count": 13,
   "metadata": {},
   "outputs": [
    {
     "name": "stdout",
     "output_type": "stream",
     "text": [
      "[[4.7445 0.     0.    ]\n",
      " [0.     4.7445 0.    ]\n",
      " [0.     0.     4.7445]]\n"
     ]
    }
   ],
   "source": [
    "cell0 = bcc_vacancy.cell.copy()\n",
    "strain = 1.5\n",
    "cell_test = np.dot(cell0, np.eye(3) * strain)\n",
    "bcc_vacancy.apply_strain(cell_test, update_system=True)\n",
    "print(bcc_vacancy.cell)\n",
    "bcc_vacancy.apply_strain(cell0, update_system=True)"
   ]
  },
  {
   "cell_type": "code",
   "execution_count": 14,
   "metadata": {},
   "outputs": [
    {
     "name": "stdout",
     "output_type": "stream",
     "text": [
      "31.644451746999998\n"
     ]
    }
   ],
   "source": [
    "print(bcc_vacancy.volume)"
   ]
  },
  {
   "cell_type": "code",
   "execution_count": 27,
   "metadata": {},
   "outputs": [
    {
     "name": "stdout",
     "output_type": "stream",
     "text": [
      "[550.51114458   2.01479374  -5.99821035  -5.99993478  -8.00846585\n",
      "  -5.99999999  -9.9999742  143.41878999 -22.66293236  -7.96996449\n",
      " -11.99406225  34.92610888  29.79360043 168.39461996 -14.73697034\n",
      "  -9.97213532 -13.97448532  -7.87213139  41.26969941  30.12738214\n",
      "  45.58408436  35.2644781    2.8297426  -13.76368866 -11.99952588\n",
      " -15.99261993  -4.92320288  -6.85702118 -12.4324085  -13.35457254\n",
      "  -8.40087413 -17.70520886 519.47576739 -16.41943691 -14.02526168\n",
      " -17.996125    65.06167156  48.15601955  20.18407558 -22.04668129\n",
      "  40.91004687  90.75393928 323.64108603 -33.01066077 -15.97312894\n",
      "  12.96415603  26.55092319  -9.57943424  51.48242956  16.47068853\n",
      " 300.97239624 -17.99041169  16.26521112  22.15065682   1.62815362]\n",
      "(55,)\n",
      "(55, 6)\n"
     ]
    }
   ],
   "source": [
    "bcc_vacancy = BccVacancy(alat=3.163, ncell_x=1, minimize=False, logname=None, data_path='./refs/', snapcoeff_filename='W.snapcoeff', verbose=False)\n",
    "print(bcc_vacancy.dU_dTheta)\n",
    "X_coord_test = bcc_vacancy.X_coord.copy()\n",
    "X_coord_test[4] = 0.5\n",
    "bcc_vacancy.scatter_coord(X_coord=X_coord_test)\n",
    "bcc_vacancy.compute_D_dD()\n",
    "bcc_vacancy.gather_D_dD()\n",
    "print(bcc_vacancy.dU_dTheta.shape)\n",
    "print(bcc_vacancy.mixed_hessian.shape)\n",
    "\n",
    "# save mixed hessian to npy\n",
    "np.save('test_system_props_dU_dTheta.npy', bcc_vacancy.dU_dTheta)\n",
    "np.save('test_system_props_mixed_hessian.npy', bcc_vacancy.mixed_hessian)\n",
    "\n",
    "# load mixed hessian from npy\n",
    "mixed_hessian = np.load('test_system_props_mixed_hessian.npy')\n"
   ]
  },
  {
   "cell_type": "code",
   "execution_count": 28,
   "metadata": {},
   "outputs": [
    {
     "name": "stdout",
     "output_type": "stream",
     "text": [
      "(30,)\n",
      "(30, 6)\n"
     ]
    }
   ],
   "source": [
    "bcc_binary = BccBinary(alat=3.13, ncell_x=1, minimize=True, logname=None,\n",
    "                        data_path='./refs/', snapcoeff_filename='NiMo.snapcoeff', verbose=False)\n",
    "\n",
    "X_coord_test = bcc_binary.X_coord.copy()\n",
    "X_coord_test[4] = 0.5\n",
    "bcc_binary.scatter_coord(X_coord=X_coord_test)\n",
    "bcc_binary.compute_D_dD()\n",
    "bcc_binary.gather_D_dD()\n",
    "print(bcc_binary.dU_dTheta.shape)\n",
    "print(bcc_binary.mixed_hessian.shape)\n",
    "\n",
    "# save mixed hessian to npy\n",
    "np.save('test_system_props_dU_dTheta_binary.npy', bcc_binary.dU_dTheta)\n",
    "np.save('test_system_props_mixed_hessian_binary.npy', bcc_binary.mixed_hessian)"
   ]
  },
  {
   "cell_type": "markdown",
   "metadata": {},
   "source": [
    "### Forces"
   ]
  },
  {
   "cell_type": "code",
   "execution_count": 41,
   "metadata": {},
   "outputs": [
    {
     "name": "stdout",
     "output_type": "stream",
     "text": [
      "-0.05229752523716957, 9.575673587391975e-16, 2.847605337023395e-15, 0.05229752523716957, -1.0269562977782698e-15, -2.9211995299477888e-15\n"
     ]
    }
   ],
   "source": [
    "bcc_vacancy = BccVacancy(alat=3.163, ncell_x=1, minimize=False, logname=None, data_path='./refs/', snapcoeff_filename='W.snapcoeff', verbose=False)\n",
    "dX_vector = np.zeros(bcc_vacancy.Natom*3)\n",
    "dX_vector[0] = 0.1\n",
    "print(', '.join(map(str,bcc_vacancy.forces(dx=dX_vector))))"
   ]
  },
  {
   "cell_type": "markdown",
   "metadata": {},
   "source": [
    "### Hessian"
   ]
  },
  {
   "cell_type": "code",
   "execution_count": 46,
   "metadata": {},
   "outputs": [
    {
     "name": "stdout",
     "output_type": "stream",
     "text": [
      "[[ 1.04601487e+01  2.08166817e-13 -1.54039509e-14 -1.04581487e+01\n",
      "  -1.21430643e-13  7.45542618e-14]\n",
      " [-3.05311332e-13  1.04601487e+01  2.46549801e-13  2.22044605e-13\n",
      "  -1.04581487e+01 -8.52795848e-14]\n",
      " [-2.49800181e-13  1.70002901e-13  1.04601487e+01  2.77555756e-13\n",
      "  -3.46944695e-13 -1.04581487e+01]\n",
      " [-1.04581487e+01  7.52869989e-13 -3.38438880e-13  1.04601487e+01\n",
      "  -6.52256027e-13  3.35773745e-13]\n",
      " [ 9.43689571e-13 -1.04581487e+01 -1.23754533e-13 -7.77156117e-13\n",
      "   1.04601487e+01  7.67038494e-14]\n",
      " [ 3.60822483e-13  7.63278329e-14 -1.04581487e+01 -3.33066907e-13\n",
      "  -1.45716772e-13  1.04601487e+01]]\n",
      "True\n"
     ]
    }
   ],
   "source": [
    "bcc_vacancy = BccVacancy(alat=3.163, ncell_x=1, minimize=False, logname=None, data_path='./refs/', snapcoeff_filename='W.snapcoeff', verbose=False)\n",
    "print(bcc_vacancy.hessian())\n",
    "np.save('test_system_props_hessian.npy', bcc_vacancy.hessian())\n",
    "\n",
    "h_test = np.load('test_system_props_hessian.npy')\n",
    "print(np.allclose(bcc_vacancy.hessian(), h_test))"
   ]
  },
  {
   "cell_type": "code",
   "execution_count": 48,
   "metadata": {},
   "outputs": [
    {
     "data": {
      "text/plain": [
       "array([-0.03   , -0.02925, -0.0285 , -0.02775, -0.027  , -0.02625,\n",
       "       -0.0255 , -0.02475, -0.024  , -0.02325, -0.0225 , -0.02175,\n",
       "       -0.021  , -0.02025, -0.0195 , -0.01875, -0.018  , -0.01725,\n",
       "       -0.0165 , -0.01575, -0.015  , -0.01425, -0.0135 , -0.01275,\n",
       "       -0.012  , -0.01125, -0.0105 , -0.00975, -0.009  , -0.00825,\n",
       "       -0.0075 , -0.00675, -0.006  , -0.00525, -0.0045 , -0.00375,\n",
       "       -0.003  , -0.00225, -0.0015 , -0.00075,  0.     ,  0.00075,\n",
       "        0.0015 ,  0.00225,  0.003  ,  0.00375,  0.0045 ,  0.00525,\n",
       "        0.006  ,  0.00675,  0.0075 ,  0.00825,  0.009  ,  0.00975,\n",
       "        0.0105 ,  0.01125,  0.012  ,  0.01275,  0.0135 ,  0.01425,\n",
       "        0.015  ,  0.01575,  0.0165 ,  0.01725,  0.018  ,  0.01875,\n",
       "        0.0195 ,  0.02025,  0.021  ,  0.02175,  0.0225 ,  0.02325,\n",
       "        0.024  ,  0.02475,  0.0255 ,  0.02625,  0.027  ,  0.02775,\n",
       "        0.0285 ,  0.02925,  0.03   ])"
      ]
     },
     "execution_count": 48,
     "metadata": {},
     "output_type": "execute_result"
    }
   ],
   "source": [
    "np.linspace(-0.03, 0.03, 81)"
   ]
  }
 ],
 "metadata": {
  "kernelspec": {
   "display_name": "jax",
   "language": "python",
   "name": "python3"
  },
  "language_info": {
   "codemirror_mode": {
    "name": "ipython",
    "version": 3
   },
   "file_extension": ".py",
   "mimetype": "text/x-python",
   "name": "python",
   "nbconvert_exporter": "python",
   "pygments_lexer": "ipython3",
   "version": "3.10.12"
  }
 },
 "nbformat": 4,
 "nbformat_minor": 2
}
