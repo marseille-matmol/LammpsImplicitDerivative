{
 "cells": [
  {
   "cell_type": "markdown",
   "metadata": {},
   "source": [
    "# Inhomogeneous implicit derivative\n",
    "\n",
    "$$\n",
    "\\nabla_{\\boldsymbol{\\Theta}} \\tilde{\\mathbf{X}}^*_{\\boldsymbol{\\Theta}} \\in \\mathbb{R}^{N_D\\times 3N}\n",
    "$$"
   ]
  },
  {
   "cell_type": "code",
   "execution_count": 1,
   "metadata": {},
   "outputs": [],
   "source": [
    "# Standard libraries\n",
    "import os\n",
    "import numpy as np\n",
    "import pickle\n",
    "import matplotlib.pyplot as plt\n",
    "\n",
    "# Package imports\n",
    "from lammps_implicit_der import SNAP, LammpsImplicitDer\n",
    "from lammps_implicit_der.systems import BCC, BCC_BINARY, BCC_BINARY_VACANCY, BCC_VACANCY, \\\n",
    "                                        BCC_SIA, FromData, HCP, \\\n",
    "                                        BccVacancyConcentration\n",
    "from lammps_implicit_der.tools import plot_tools\n",
    "\n",
    "# No parallel MPI runs in the notebook, but keep comm for consistency\n",
    "comm = None\n",
    "\n",
    "# For parallel runs, use the following:\n",
    "# from lammps_implicit_der.tools import mpi_print, initialize_mpi\n",
    "# comm, rank = initialize_mpi()"
   ]
  },
  {
   "cell_type": "markdown",
   "metadata": {},
   "source": [
    "## Create an atomic system. For this example, we will use one vacancy in BCC lattice"
   ]
  },
  {
   "cell_type": "markdown",
   "metadata": {},
   "source": [
    "### Non-perturbed: $\\mathbf{\\Theta}(\\lambda,m) = \\bar{\\mathbf{\\Theta}}$ potential\n",
    "\n",
    "Minimize with fixed cell (`minimize=True` and `fix_box_relax=False`).\n",
    "\n",
    "By definition, the implicit derivative applies in the case of a local minimum (or maximum), therefore, the position minimization is crucial."
   ]
  },
  {
   "cell_type": "code",
   "execution_count": 6,
   "metadata": {},
   "outputs": [
    {
     "name": "stdout",
     "output_type": "stream",
     "text": [
      "\n",
      "--------------------------------------------------------------------------------\n",
      "Running LAMMPS with the following arguments:\n",
      "-screen none -log vac0.log\n",
      "\n",
      "WARNING: commands.lammps already exists, renaming it to commands.lammps.old\n",
      "Setting SNAP potential\n",
      "\n",
      "                  SNAP coefficients for: W\n",
      "                          quadraticflag: 0\n",
      " Number of parameters (excluding beta0): 55\n",
      "                                Element:  W  |  R =  0.5000 w =  1.0000\n",
      "\n",
      "Minimizing energy with the following parameters:\n",
      "ftol: 1e-08, maxiter: 1000, maxeval: 1000, algo: cg, fix_box_relax: False \n",
      "\n",
      "Minimization finished in 4 steps\n",
      "Initial fmax: 3.107e-01, final fmax: 2.754e-10\n",
      "Initial fnorm: 1.522e+00, final fnorm: 1.349e-09\n",
      "Number of atoms: 15, largest force value: 2.754e-10, force norm: 1.349e-09\n"
     ]
    }
   ],
   "source": [
    "alat = 3.16316\n",
    "ncell_x = 2\n",
    "vac0 = BCC_VACANCY(alat=alat, ncell_x=ncell_x,\n",
    "                   snapcoeff_filename='W_REF.snapcoeff',\n",
    "                   minimize=True, fix_box_relax=False,\n",
    "                   logname='vac0.log', comm=comm)\n",
    "\n",
    "Theta0 = vac0.pot.Theta_dict['W']['Theta'].copy()\n",
    "X_coord0 = vac0.X_coord.copy()\n",
    "energy0 = vac0.energy"
   ]
  },
  {
   "cell_type": "markdown",
   "metadata": {},
   "source": [
    "## Compute the implicit derivative (`self.implicit_derivative()` method)\n",
    "\n",
    "* `implicit_derivative()` - implicit derivative wrapper, `method` keyword selects the derivative method, options are:\n",
    "\n",
    "    * `inverse` - Moore-Penrose inverse of the Hessian matrix, `np.linalg.pinv()`\n",
    "    * `dense` -  pseudoinverse from the system of linear equations, `np.linalg.solve(hessian, mixed_hessian)`\n",
    "    * `sparse` - sparse linear method, solve for each potential parameter $\\Theta_l$ separately\n",
    "    * `energy` - find impl. der. from the LAMMPS minimization with additional force and energy terms that correspond to a given parameter $\\Theta_l$"
   ]
  },
  {
   "cell_type": "markdown",
   "metadata": {},
   "source": [
    "### Compute the implicit derivative with the dense pseudoinverse Hessian method (`method=dense`)"
   ]
  },
  {
   "cell_type": "code",
   "execution_count": 7,
   "metadata": {},
   "outputs": [
    {
     "name": "stdout",
     "output_type": "stream",
     "text": [
      "Computing the Hessian...\n"
     ]
    },
    {
     "name": "stderr",
     "output_type": "stream",
     "text": [
      "Hessian (full): 100%|██████████| 45/45 [00:00<00:00, 54.60it/s]"
     ]
    },
    {
     "name": "stdout",
     "output_type": "stream",
     "text": [
      "Computing dX_dTheta with linalg.solve, Hessian shape: (45, 45)\n"
     ]
    },
    {
     "name": "stderr",
     "output_type": "stream",
     "text": [
      "\n"
     ]
    }
   ],
   "source": [
    "dX_dTheta_dense = vac0.implicit_derivative(method='dense')"
   ]
  },
  {
   "cell_type": "markdown",
   "metadata": {},
   "source": [
    "### Create a perturbed system, BCC Vacancy with potential:\n",
    "\n",
    "$$\n",
    "\\mathbf{\\Theta}(\\lambda,m) = \\bar{\\mathbf{\\Theta}} + \\lambda( \\mathbf{\\Theta}_m -\\bar{\\mathbf{\\Theta}}),\n",
    "$$\n",
    "where $m$ is potential sample from `Theta_ens` ensemble and $\\lambda$ is perturbation strength."
   ]
  },
  {
   "cell_type": "code",
   "execution_count": 12,
   "metadata": {},
   "outputs": [
    {
     "name": "stdout",
     "output_type": "stream",
     "text": [
      "Overwriting ./W_perturb.snapcoeff\n",
      "Saved SNAP coefficients to ./W_perturb.snapcoeff\n",
      "Saved SNAP parameters to ./W_perturb.snapparam\n",
      "\n",
      "--------------------------------------------------------------------------------\n",
      "Running LAMMPS with the following arguments:\n",
      "-screen none -log vac0.log\n",
      "\n",
      "WARNING: commands.lammps already exists, renaming it to commands.lammps.old\n",
      "Setting SNAP potential\n",
      "\n",
      "                  SNAP coefficients for: W\n",
      "                          quadraticflag: 0\n",
      " Number of parameters (excluding beta0): 55\n",
      "                                Element:  W  |  R =  0.5000 w =  1.0000\n",
      "\n",
      "Minimizing energy with the following parameters:\n",
      "ftol: 1e-08, maxiter: 1000, maxeval: 1000, algo: cg, fix_box_relax: False \n",
      "\n",
      "Minimization finished in 4 steps\n",
      "Initial fmax: 5.462e-01, final fmax: 2.345e-13\n",
      "Initial fnorm: 2.676e+00, final fnorm: 1.091e-12\n",
      "Number of atoms: 15, largest force value: 2.345e-13, force norm: 1.091e-12\n"
     ]
    }
   ],
   "source": [
    "with open('Theta_ens.pkl', 'rb') as f:\n",
    "    Theta_ens = pickle.load(f)\n",
    "\n",
    "delta = 40.0\n",
    "sample = 5\n",
    "Theta_perturb = Theta_ens['Theta_mean'] + delta * (Theta_ens['Theta_ens_list'][sample] - Theta_ens['Theta_mean'])\n",
    "\n",
    "# Save the perturbed Theta to a file\n",
    "pot = SNAP.from_files(snapcoeff_filename='W_REF.snapcoeff', snapparam_filename='W_REF.snapparam')\n",
    "pot.Theta_dict['W']['Theta'] = Theta_perturb.copy()\n",
    "pot.to_files(snapcoeff_filename='W_perturb.snapcoeff', snapparam_filename='W_perturb.snapparam',\n",
    "             overwrite=True, verbose=True)\n",
    "\n",
    "# Since the potential is written to the current folder, we specify  data_path='.'\n",
    "vac_perturb = BCC_VACANCY(alat=alat, ncell_x=ncell_x,\n",
    "                          data_path='.',\n",
    "                          snapcoeff_filename='W_perturb.snapcoeff',\n",
    "                          minimize=True, fix_box_relax=False,\n",
    "                          logname='vac0.log', comm=comm)\n",
    "\n",
    "# True minimized positions\n",
    "X_true = vac_perturb.X_coord.copy()\n",
    "# True difference in positions with minimum image convention applied\n",
    "dX_true = vac0.minimum_image(X_true - X_coord0)"
   ]
  },
  {
   "cell_type": "markdown",
   "metadata": {},
   "source": [
    "## Predict the change in positions with "
   ]
  },
  {
   "cell_type": "code",
   "execution_count": null,
   "metadata": {},
   "outputs": [],
   "source": []
  },
  {
   "cell_type": "code",
   "execution_count": null,
   "metadata": {},
   "outputs": [],
   "source": []
  }
 ],
 "metadata": {
  "kernelspec": {
   "display_name": "jax",
   "language": "python",
   "name": "python3"
  },
  "language_info": {
   "codemirror_mode": {
    "name": "ipython",
    "version": 3
   },
   "file_extension": ".py",
   "mimetype": "text/x-python",
   "name": "python",
   "nbconvert_exporter": "python",
   "pygments_lexer": "ipython3",
   "version": "3.10.12"
  }
 },
 "nbformat": 4,
 "nbformat_minor": 2
}
