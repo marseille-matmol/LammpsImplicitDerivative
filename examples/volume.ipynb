{
 "cells": [
  {
   "cell_type": "code",
   "execution_count": 1,
   "metadata": {},
   "outputs": [],
   "source": [
    "import numpy as np\n",
    "import matplotlib.pyplot as plt\n",
    "\n",
    "from lammps_implicit_der import LammpsImplicitDer, SNAP\n",
    "from lammps_implicit_der.tools import mpi_print, initialize_mpi, TimingGroup, plot_tools\n",
    "from lammps_implicit_der.systems import Bcc, BccBinary"
   ]
  },
  {
   "cell_type": "markdown",
   "metadata": {},
   "source": [
    "# Setup Tungsten bcc system"
   ]
  },
  {
   "cell_type": "code",
   "execution_count": 2,
   "metadata": {},
   "outputs": [
    {
     "name": "stdout",
     "output_type": "stream",
     "text": [
      "\n",
      "--------------------------------------------------------------------------------\n",
      "Running LAMMPS with the following arguments:\n",
      "-screen none -log none\n",
      "\n"
     ]
    }
   ],
   "source": [
    "class LammpsSim(LammpsImplicitDer):\n",
    "    def __init__(self):\n",
    "        super().__init__()\n",
    "\n",
    "        # Load the SNAP potential\n",
    "        self.pot = SNAP.from_files('W.snapcoeff', data_path='../lammps_implicit_der/data_files/')\n",
    "\n",
    "        if len(self.pot.elem_list) > 1:\n",
    "            raise RuntimeError('system must be a single element')\n",
    "        self.element = self.pot.elem_list[0]\n",
    "        self.Theta = self.pot.Theta_dict[self.element]['Theta']\n",
    "\n",
    "    def get_E(self):\n",
    "        \"\"\"\n",
    "            return energy D(X+dX)@(T+dT)\n",
    "        \"\"\"\n",
    "\n",
    "        D = self.dU_dTheta\n",
    "        T = self.Theta\n",
    "        E = D @ T\n",
    "\n",
    "        return E\n",
    "\n",
    "W_system = LammpsSim()"
   ]
  },
  {
   "cell_type": "code",
   "execution_count": 3,
   "metadata": {},
   "outputs": [],
   "source": [
    "# 1 0 0 dislocation\n",
    "num_cells = 3\n",
    "alat = 3.1855\n",
    "\n",
    "#alat = 4.0\n",
    "mass = 184.0\n",
    "W_system.lmp.commands_string(f\"\"\"\n",
    "        clear\n",
    "\n",
    "        atom_modify map array sort 0 0.0\n",
    "        boundary p p p\n",
    "\n",
    "        # Initialize simulation\n",
    "        units metal\n",
    "        lattice bcc {alat} origin 0.01 0.01 0.01\n",
    "\n",
    "        # create a block of atoms\n",
    "        region C block 0 {num_cells} 0 {num_cells} 0 {num_cells} units lattice\n",
    "        create_box 1 C\n",
    "        create_atoms 1 region C\n",
    "\n",
    "        change_box all triclinic\n",
    "\n",
    "        mass * {mass}\n",
    "\"\"\")"
   ]
  },
  {
   "cell_type": "code",
   "execution_count": 4,
   "metadata": {},
   "outputs": [
    {
     "name": "stdout",
     "output_type": "stream",
     "text": [
      "Setting SNAP potential\n",
      "\n",
      "                  SNAP coefficients for: W\n",
      " Number of parameters (excluding beta0): 55\n",
      "                                Element:  W  |  R =  0.5000 w =  1.0000\n",
      "\n",
      "Minimizing energy with the following parameters:\n",
      "ftol: 1e-08, maxiter: 1000, maxeval: 1000, algo: cg, fix_box_relax: False \n",
      "\n",
      "Number of atoms: 54, largest force value: 1.768e-14, force norm: 1.129e-13\n"
     ]
    }
   ],
   "source": [
    "#W_system.setup_snap_potential()\n",
    "W_system.run_init()"
   ]
  },
  {
   "cell_type": "markdown",
   "metadata": {},
   "source": [
    "## Basic parameters"
   ]
  },
  {
   "cell_type": "code",
   "execution_count": 5,
   "metadata": {},
   "outputs": [
    {
     "name": "stdout",
     "output_type": "stream",
     "text": [
      "['W']\n",
      "{'W': {'elem_params': {'radius': 0.5, 'weight': 1.0}, 'beta0': -5.30602553034076, 'Theta': array([ 2.59171211e-02,  2.29459519e-02,  5.42267608e-02, -1.51585786e-02,\n",
      "        2.71030824e-01,  6.53694819e-02,  3.47579854e-04, -6.36676650e-03,\n",
      "        1.26170571e-01,  1.00532763e-01,  5.01645978e-02,  1.00570965e-01,\n",
      "        2.52031414e-03, -2.00524259e-02,  2.86825036e-02, -6.64412013e-03,\n",
      "        7.04211807e-02,  9.24840913e-02,  9.69625335e-03,  3.52187019e-02,\n",
      "        9.47117594e-04,  9.90517179e-03, -1.69731525e-03,  6.53240492e-02,\n",
      "        1.12288898e-01,  7.01812880e-02,  6.09595356e-02, -2.74980622e-02,\n",
      "        3.72170044e-02,  5.02702975e-02,  7.06345397e-03, -1.07971357e-02,\n",
      "       -2.07582090e-02,  2.41023973e-02,  9.68293034e-02,  2.74989592e-03,\n",
      "        1.15041120e-02,  5.71673560e-02,  6.55507839e-03,  3.17319182e-02,\n",
      "        2.12856497e-02,  1.31183642e-02,  7.55440708e-04,  7.52558175e-03,\n",
      "        4.17081670e-02, -6.30345924e-03,  1.33449964e-03, -1.64835264e-04,\n",
      "       -2.28757428e-03, -2.53508143e-03, -3.70676499e-05,  9.62453606e-03,\n",
      "        1.75638319e-02, -5.68873331e-03,  7.35642671e-03])}, 'radii': '0.5', 'weights': '1.0'}\n",
      "{'rcutfac': 4.7, 'twojmax': 8, 'rfac0': 0.99363, 'rmin0': 0, 'bzeroflag': 1, 'quadraticflag': 0, 'bnormflag': 0}\n"
     ]
    }
   ],
   "source": [
    "print(W_system.pot.elem_list)\n",
    "print(W_system.pot.Theta_dict)\n",
    "print(W_system.pot.snapparam_dict)"
   ]
  },
  {
   "cell_type": "code",
   "execution_count": 6,
   "metadata": {},
   "outputs": [
    {
     "name": "stdout",
     "output_type": "stream",
     "text": [
      "Minimizing energy with the following parameters:\n",
      "ftol: 1e-08, maxiter: 1000, maxeval: 1000, algo: cg, fix_box_relax: False \n",
      "\n"
     ]
    }
   ],
   "source": [
    "W_system.minimize_energy()"
   ]
  },
  {
   "cell_type": "code",
   "execution_count": 7,
   "metadata": {},
   "outputs": [
    {
     "data": {
      "text/plain": [
       "array([ 0.031855,  0.031855,  0.031855,  1.624605,  1.624605,  1.624605,\n",
       "        3.217355,  0.031855,  0.031855, -4.746395,  1.624605,  1.624605,\n",
       "       -3.153645,  0.031855,  0.031855, -1.560895,  1.624605,  1.624605,\n",
       "        0.031855,  3.217355,  0.031855,  1.624605, -4.746395,  1.624605,\n",
       "        3.217355,  3.217355,  0.031855, -4.746395, -4.746395,  1.624605,\n",
       "       -3.153645,  3.217355,  0.031855, -1.560895, -4.746395,  1.624605,\n",
       "        0.031855, -3.153645,  0.031855,  1.624605, -1.560895,  1.624605,\n",
       "        3.217355, -3.153645,  0.031855, -4.746395, -1.560895,  1.624605,\n",
       "       -3.153645, -3.153645,  0.031855, -1.560895, -1.560895,  1.624605,\n",
       "        0.031855,  0.031855,  3.217355,  1.624605,  1.624605, -4.746395,\n",
       "        3.217355,  0.031855,  3.217355, -4.746395,  1.624605, -4.746395,\n",
       "       -3.153645,  0.031855,  3.217355, -1.560895,  1.624605, -4.746395,\n",
       "        0.031855,  3.217355,  3.217355,  1.624605, -4.746395, -4.746395,\n",
       "        3.217355,  3.217355,  3.217355, -4.746395, -4.746395, -4.746395,\n",
       "       -3.153645,  3.217355,  3.217355, -1.560895, -4.746395, -4.746395,\n",
       "        0.031855, -3.153645,  3.217355,  1.624605, -1.560895, -4.746395,\n",
       "        3.217355, -3.153645,  3.217355, -4.746395, -1.560895, -4.746395,\n",
       "       -3.153645, -3.153645,  3.217355, -1.560895, -1.560895, -4.746395,\n",
       "        0.031855,  0.031855, -3.153645,  1.624605,  1.624605, -1.560895,\n",
       "        3.217355,  0.031855, -3.153645, -4.746395,  1.624605, -1.560895,\n",
       "       -3.153645,  0.031855, -3.153645, -1.560895,  1.624605, -1.560895,\n",
       "        0.031855,  3.217355, -3.153645,  1.624605, -4.746395, -1.560895,\n",
       "        3.217355,  3.217355, -3.153645, -4.746395, -4.746395, -1.560895,\n",
       "       -3.153645,  3.217355, -3.153645, -1.560895, -4.746395, -1.560895,\n",
       "        0.031855, -3.153645, -3.153645,  1.624605, -1.560895, -1.560895,\n",
       "        3.217355, -3.153645, -3.153645, -4.746395, -1.560895, -1.560895,\n",
       "       -3.153645, -3.153645, -3.153645, -1.560895, -1.560895, -1.560895])"
      ]
     },
     "execution_count": 7,
     "metadata": {},
     "output_type": "execute_result"
    }
   ],
   "source": [
    "W_system.X_coord"
   ]
  },
  {
   "cell_type": "code",
   "execution_count": 8,
   "metadata": {},
   "outputs": [
    {
     "data": {
      "image/png": "[encoded data removed]",
      "text/plain": [
       "<Figure size 800x500 with 3 Axes>"
      ]
     },
     "metadata": {},
     "output_type": "display_data"
    }
   ],
   "source": [
    "fig, axes = plt.subplots(1, 3, figsize=(8, 5))\n",
    "plot_tools.plot_coords(axes, W_system.X_coord.reshape(-1, 3), c='gray', s=32, label='original')\n",
    "plt.tight_layout()"
   ]
  },
  {
   "cell_type": "markdown",
   "metadata": {},
   "source": [
    "# Compute implicit derivative"
   ]
  },
  {
   "cell_type": "code",
   "execution_count": 9,
   "metadata": {},
   "outputs": [],
   "source": [
    "W_system.scatter_coord()\n",
    "W_system.gather_D_dD()\n",
    "#dX_dTheta = W_system.implicit_derivative(method='inverse')"
   ]
  },
  {
   "cell_type": "code",
   "execution_count": 10,
   "metadata": {},
   "outputs": [],
   "source": [
    "epsilon = 0.02\n",
    "M = np.diag( [epsilon, epsilon, -2.0 * epsilon]  )\n",
    "W_system.apply_strain(M)"
   ]
  },
  {
   "cell_type": "code",
   "execution_count": 11,
   "metadata": {},
   "outputs": [
    {
     "data": {
      "text/plain": [
       "-503.340555094369"
      ]
     },
     "execution_count": 11,
     "metadata": {},
     "output_type": "execute_result"
    }
   ],
   "source": [
    "epsilon = 0.02\n",
    "M = np.diag( [epsilon, epsilon, -2.0 * epsilon]  )\n",
    "W_system.apply_strain(M)\n",
    "W_system.energy"
   ]
  },
  {
   "cell_type": "code",
   "execution_count": 12,
   "metadata": {},
   "outputs": [
    {
     "name": "stdout",
     "output_type": "stream",
     "text": [
      "Minimum energy at strain: -2.500%\n"
     ]
    },
    {
     "data": {
      "image/png": "[encoded data removed]",
      "text/plain": [
       "<Figure size 600x400 with 1 Axes>"
      ]
     },
     "metadata": {},
     "output_type": "display_data"
    }
   ],
   "source": [
    "epsilon_array = np.linspace(-0.05, 0.05, 21)\n",
    "energy_array = np.zeros_like(epsilon_array)\n",
    "energy_array2 = np.zeros_like(epsilon_array)\n",
    "\n",
    "W_system.scatter_coord()\n",
    "W_system.gather_D_dD()\n",
    "\n",
    "#print(W_system.dU_dTheta)\n",
    "#print(W_system.Theta)\n",
    "#print(W_system.get_E(), W_system.energy)\n",
    "\n",
    "for i, epsilon in enumerate(epsilon_array):\n",
    "    M = np.diag( [epsilon, epsilon, -2.0 * epsilon]  )\n",
    "    W_system.apply_strain(M)\n",
    "\n",
    "    W_system.gather_D_dD()\n",
    "    energy = W_system.get_E()\n",
    "\n",
    "    # extract_compute(\"thermo_pe\")\n",
    "    energy2 = W_system.energy\n",
    "\n",
    "    energy_array[i] = energy\n",
    "    energy_array2[i] = energy2\n",
    "\n",
    "    W_system.apply_strain(np.linalg.inv(M+np.eye(3))-np.eye(3))\n",
    "\n",
    "energy_array /= W_system.Natom**3\n",
    "energy_array2 /= W_system.Natom**3\n",
    "\n",
    "energy_array -= energy_array.min()\n",
    "energy_array2 -= energy_array2.min()\n",
    "\n",
    "fig, ax = plt.subplots(1, 1, figsize=(6, 4))\n",
    "ax.plot(100.0 * epsilon_array, energy_array, ls='-', marker='o')\n",
    "ax.plot(100.0 * epsilon_array, energy_array2, ls='--', marker='o')\n",
    "ax.set_xlabel('Strain Magnitude (%)')\n",
    "ax.set_ylabel('Energy (eV)')\n",
    "\n",
    "strain_min = epsilon_array[np.argmin(energy_array)]\n",
    "print(f\"Minimum energy at strain: {strain_min:.3%}\")\n"
   ]
  }
 ],
 "metadata": {
  "kernelspec": {
   "display_name": "jax",
   "language": "python",
   "name": "python3"
  },
  "language_info": {
   "codemirror_mode": {
    "name": "ipython",
    "version": 3
   },
   "file_extension": ".py",
   "mimetype": "text/x-python",
   "name": "python",
   "nbconvert_exporter": "python",
   "pygments_lexer": "ipython3",
   "version": "3.10.12"
  }
 },
 "nbformat": 4,
 "nbformat_minor": 2
}
