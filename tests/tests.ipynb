{
 "cells": [
  {
   "cell_type": "code",
   "execution_count": 1,
   "metadata": {},
   "outputs": [],
   "source": [
    "import numpy as np\n",
    "import pickle\n",
    "from lammps_implicit_der.systems import Bcc, BccBinary, BccBinaryVacancy, BccVacancy, BccSIA\n",
    "from lammps_implicit_der.tools import plot_tools\n",
    "import matplotlib.pyplot as plt\n"
   ]
  },
  {
   "cell_type": "markdown",
   "metadata": {},
   "source": [
    "# Systems"
   ]
  },
  {
   "cell_type": "code",
   "execution_count": 2,
   "metadata": {},
   "outputs": [
    {
     "name": "stdout",
     "output_type": "stream",
     "text": [
      "-89.060889667491\n",
      "55\n",
      "-89.06088966749098\n"
     ]
    }
   ],
   "source": [
    "bcc_pure = Bcc(alat=3.18427, ncell_x=2, minimize=True, logname=None, data_path='./refs/', snapcoeff_filename = 'W.snapcoeff', verbose=False)\n",
    "print(bcc_pure.energy)\n",
    "print(bcc_pure.Ndesc)\n",
    "print(bcc_pure.dU_dTheta @ bcc_pure.Theta)"
   ]
  },
  {
   "cell_type": "code",
   "execution_count": 3,
   "metadata": {},
   "outputs": [
    {
     "name": "stdout",
     "output_type": "stream",
     "text": [
      "-89.0555278168474\n"
     ]
    }
   ],
   "source": [
    "bcc_pure = Bcc(alat=3.18, ncell_x=2, minimize=False, logname=None, data_path='./refs/', snapcoeff_filename = 'W.snapcoeff', verbose=False)\n",
    "print(bcc_pure.energy)"
   ]
  },
  {
   "cell_type": "code",
   "execution_count": 4,
   "metadata": {},
   "outputs": [
    {
     "name": "stdout",
     "output_type": "stream",
     "text": [
      "-80.36527467896518\n",
      "15\n"
     ]
    }
   ],
   "source": [
    "bcc_vac = BccVacancy(alat=3.163, ncell_x=2, minimize=True, logname=None, data_path='./refs/', snapcoeff_filename = 'W.snapcoeff', verbose=False)\n",
    "print(bcc_vac.energy)\n",
    "print(bcc_vac.Natom)"
   ]
  },
  {
   "cell_type": "code",
   "execution_count": 5,
   "metadata": {},
   "outputs": [
    {
     "name": "stdout",
     "output_type": "stream",
     "text": [
      "-122.76839711519715\n",
      "16\n",
      "[1 1 1 2 2 2 2 2 2 1 1 2 1 1 1 1]\n",
      "30\n"
     ]
    }
   ],
   "source": [
    "bcc_binary = BccBinary(alat=3.13, ncell_x=2, minimize=True, logname=None, data_path='./refs/', snapcoeff_filename = 'NiMo.snapcoeff', verbose=False)\n",
    "print(bcc_binary.energy)\n",
    "print(bcc_binary.Natom)\n",
    "print(bcc_binary.species)\n",
    "print(bcc_binary.Ndesc)"
   ]
  },
  {
   "cell_type": "code",
   "execution_count": 6,
   "metadata": {},
   "outputs": [
    {
     "name": "stdout",
     "output_type": "stream",
     "text": [
      "-116.12471812826522\n",
      "15\n",
      "[1 1 1 2 2 2 2 2 2 1 1 2 1 1 1]\n"
     ]
    }
   ],
   "source": [
    "bcc_binary = BccBinaryVacancy(alat=3.13, ncell_x=2, minimize=True, logname=None, data_path='./refs/', snapcoeff_filename = 'NiMo.snapcoeff', verbose=False)\n",
    "print(bcc_binary.energy)\n",
    "print(bcc_binary.Natom)\n",
    "print(bcc_binary.species)"
   ]
  },
  {
   "cell_type": "code",
   "execution_count": 7,
   "metadata": {},
   "outputs": [
    {
     "name": "stdout",
     "output_type": "stream",
     "text": [
      "-53.04187280340517\n",
      "17\n"
     ]
    }
   ],
   "source": [
    "bcc_SIA = BccSIA(alat=3.18, ncell_x=2, minimize=False, logname=None, data_path='./refs/', snapcoeff_filename = 'W.snapcoeff', verbose=False)\n",
    "print(bcc_SIA.energy)\n",
    "print(bcc_SIA.Natom)"
   ]
  },
  {
   "cell_type": "code",
   "execution_count": 8,
   "metadata": {},
   "outputs": [
    {
     "name": "stdout",
     "output_type": "stream",
     "text": [
      "3.163163264038606\n",
      "-80.3652809680334\n"
     ]
    }
   ],
   "source": [
    "alat0 = 3.175\n",
    "ncell_x = 2\n",
    "system = BccVacancy(alat=alat0, ncell_x=ncell_x, minimize=True, logname=None,\n",
    "                    data_path='./refs/', snapcoeff_filename='W.snapcoeff', fix_box_relax=True, verbose=False)\n",
    "\n",
    "alat = system.volume**(1/3) / ncell_x\n",
    "print(alat)\n",
    "print(system.energy)"
   ]
  },
  {
   "cell_type": "markdown",
   "metadata": {},
   "source": [
    "# Potential object"
   ]
  },
  {
   "cell_type": "code",
   "execution_count": 9,
   "metadata": {},
   "outputs": [
    {
     "name": "stdout",
     "output_type": "stream",
     "text": [
      "dict_keys(['Ni', 'Mo', 'radii', 'weights'])\n",
      "0.5 1.0 0.575 0.575\n",
      "-11.1413071988\n"
     ]
    }
   ],
   "source": [
    "bcc_binary = BccBinary(alat=3.13, specie_B_concentration=0.2, ncell_x=2, minimize=False, logname=None, data_path='./refs/', snapcoeff_filename = 'NiMo.snapcoeff', verbose=False)\n",
    "print(bcc_binary.pot.Theta_dict.keys())\n",
    "print(bcc_binary.pot.Theta_dict['weights'], bcc_binary.pot.Theta_dict['radii'])\n",
    "print(bcc_binary.pot.Theta_dict['Mo']['beta0'])\n",
    "assert all( el in bcc_binary.pot.Theta_dict for el in ['Ni', 'Mo'])"
   ]
  },
  {
   "cell_type": "code",
   "execution_count": 10,
   "metadata": {},
   "outputs": [
    {
     "name": "stdout",
     "output_type": "stream",
     "text": [
      "(55,)\n",
      "(55,)\n"
     ]
    }
   ],
   "source": [
    "bcc_pure = Bcc(alat=3.18427, ncell_x=2, minimize=False, logname=None, data_path='./refs/', snapcoeff_filename='W.snapcoeff', verbose=False)\n",
    "coeffs = np.loadtxt('./refs/W.snapcoeff', skiprows=7)\n",
    "print(coeffs.shape)\n",
    "print(bcc_pure.pot.Theta_dict['W']['Theta'].shape)"
   ]
  },
  {
   "cell_type": "markdown",
   "metadata": {},
   "source": [
    "# System properties"
   ]
  },
  {
   "cell_type": "code",
   "execution_count": 11,
   "metadata": {},
   "outputs": [
    {
     "name": "stdout",
     "output_type": "stream",
     "text": [
      "-11.115719916006501\n",
      "-11.1157199160065\n",
      "[ 0.03163  0.03163  0.03163 -1.54987 -1.54987 -1.54987]\n",
      "[[3.163 0.    0.   ]\n",
      " [0.    3.163 0.   ]\n",
      " [0.    0.    3.163]]\n",
      "[[0.31615555 0.         0.        ]\n",
      " [0.         0.31615555 0.        ]\n",
      " [0.         0.         0.31615555]]\n"
     ]
    }
   ],
   "source": [
    "bcc_vacancy = BccVacancy(alat=3.163, ncell_x=1, minimize=False, logname=None, data_path='./refs/', snapcoeff_filename='W.snapcoeff', verbose=False)\n",
    "print(bcc_vacancy.energy)\n",
    "print(bcc_vacancy.dU_dTheta @ bcc_vacancy.Theta)\n",
    "print(bcc_vacancy.X_coord)\n",
    "\n",
    "print(bcc_vacancy.cell)\n",
    "print(bcc_vacancy.inv_cell)"
   ]
  },
  {
   "cell_type": "code",
   "execution_count": 12,
   "metadata": {},
   "outputs": [
    {
     "name": "stdout",
     "output_type": "stream",
     "text": [
      "[ 1.022    0.03163  0.03163 -0.608   -1.54987 -1.54987]\n"
     ]
    }
   ],
   "source": [
    "X_coord_test = bcc_vacancy.X_coord.copy()\n",
    "X_coord_test[0] = 20.0\n",
    "X_coord_test[3] = 50.0\n",
    "bcc_vacancy.X_coord = X_coord_test\n",
    "print(bcc_vacancy.X_coord)"
   ]
  },
  {
   "cell_type": "code",
   "execution_count": 13,
   "metadata": {},
   "outputs": [
    {
     "name": "stdout",
     "output_type": "stream",
     "text": [
      "[[4.7445 0.     0.    ]\n",
      " [0.     4.7445 0.    ]\n",
      " [0.     0.     4.7445]]\n"
     ]
    }
   ],
   "source": [
    "cell0 = bcc_vacancy.cell.copy()\n",
    "strain = 1.5\n",
    "cell_test = np.dot(cell0, np.eye(3) * strain)\n",
    "bcc_vacancy.apply_strain(cell_test, update_system=True)\n",
    "print(bcc_vacancy.cell)\n",
    "bcc_vacancy.apply_strain(cell0, update_system=True)"
   ]
  },
  {
   "cell_type": "code",
   "execution_count": 14,
   "metadata": {},
   "outputs": [
    {
     "name": "stdout",
     "output_type": "stream",
     "text": [
      "31.644451746999998\n"
     ]
    }
   ],
   "source": [
    "print(bcc_vacancy.volume)"
   ]
  },
  {
   "cell_type": "code",
   "execution_count": 15,
   "metadata": {},
   "outputs": [
    {
     "name": "stdout",
     "output_type": "stream",
     "text": [
      "[550.51114458   2.01479374  -5.99821035  -5.99993478  -8.00846585\n",
      "  -5.99999999  -9.9999742  143.41878999 -22.66293236  -7.96996449\n",
      " -11.99406225  34.92610888  29.79360043 168.39461996 -14.73697034\n",
      "  -9.97213532 -13.97448532  -7.87213139  41.26969941  30.12738214\n",
      "  45.58408436  35.2644781    2.8297426  -13.76368866 -11.99952588\n",
      " -15.99261993  -4.92320288  -6.85702118 -12.4324085  -13.35457254\n",
      "  -8.40087413 -17.70520886 519.47576739 -16.41943691 -14.02526168\n",
      " -17.996125    65.06167156  48.15601955  20.18407558 -22.04668129\n",
      "  40.91004687  90.75393928 323.64108603 -33.01066077 -15.97312894\n",
      "  12.96415603  26.55092319  -9.57943424  51.48242956  16.47068853\n",
      " 300.97239624 -17.99041169  16.26521112  22.15065682   1.62815362]\n",
      "(55,)\n",
      "(55, 6)\n"
     ]
    }
   ],
   "source": [
    "bcc_vacancy = BccVacancy(alat=3.163, ncell_x=1, minimize=False, logname=None, data_path='./refs/', snapcoeff_filename='W.snapcoeff', verbose=False)\n",
    "print(bcc_vacancy.dU_dTheta)\n",
    "X_coord_test = bcc_vacancy.X_coord.copy()\n",
    "X_coord_test[4] = 0.5\n",
    "bcc_vacancy.scatter_coord(X_coord=X_coord_test)\n",
    "bcc_vacancy.compute_D_dD()\n",
    "bcc_vacancy.gather_D_dD()\n",
    "print(bcc_vacancy.dU_dTheta.shape)\n",
    "print(bcc_vacancy.mixed_hessian.shape)\n",
    "\n",
    "# save mixed hessian to npy\n",
    "np.save('test_system_props_dU_dTheta.npy', bcc_vacancy.dU_dTheta)\n",
    "np.save('test_system_props_mixed_hessian.npy', bcc_vacancy.mixed_hessian)\n",
    "\n",
    "# load mixed hessian from npy\n",
    "mixed_hessian = np.load('test_system_props_mixed_hessian.npy')\n"
   ]
  },
  {
   "cell_type": "code",
   "execution_count": 16,
   "metadata": {},
   "outputs": [
    {
     "name": "stdout",
     "output_type": "stream",
     "text": [
      "(30,)\n",
      "(30, 48)\n",
      "[1 1 1 2 2 2 2 2 2 1 1 2 1 1 1 1]\n"
     ]
    }
   ],
   "source": [
    "bcc_binary = BccBinary(alat=3.13, ncell_x=2, minimize=True, logname=None,\n",
    "                        data_path='./refs/', snapcoeff_filename='NiMo.snapcoeff', verbose=False)\n",
    "\n",
    "print(bcc_binary.dU_dTheta.shape)\n",
    "print(bcc_binary.mixed_hessian.shape)\n",
    "print(bcc_binary.species)\n",
    "# save mixed hessian to npy\n",
    "np.save('test_system_props_dU_dTheta_binary.npy', bcc_binary.dU_dTheta)\n",
    "np.save('test_system_props_mixed_hessian_binary.npy', bcc_binary.mixed_hessian)"
   ]
  },
  {
   "cell_type": "markdown",
   "metadata": {},
   "source": [
    "### Forces"
   ]
  },
  {
   "cell_type": "code",
   "execution_count": 17,
   "metadata": {},
   "outputs": [
    {
     "name": "stdout",
     "output_type": "stream",
     "text": [
      "-0.05229752523716957, 9.575673587391975e-16, 2.847605337023395e-15, 0.05229752523716957, -1.0269562977782698e-15, -2.9211995299477888e-15\n"
     ]
    }
   ],
   "source": [
    "bcc_vacancy = BccVacancy(alat=3.163, ncell_x=1, minimize=False, logname=None, data_path='./refs/', snapcoeff_filename='W.snapcoeff', verbose=False)\n",
    "dX_vector = np.zeros(bcc_vacancy.Natom*3)\n",
    "dX_vector[0] = 0.1\n",
    "print(', '.join(map(str,bcc_vacancy.forces(dx=dX_vector))))"
   ]
  },
  {
   "cell_type": "markdown",
   "metadata": {},
   "source": [
    "### Hessian"
   ]
  },
  {
   "cell_type": "code",
   "execution_count": 18,
   "metadata": {},
   "outputs": [
    {
     "name": "stdout",
     "output_type": "stream",
     "text": [
      "[[ 1.04601487e+01  2.08166817e-13 -1.54039509e-14 -1.04581487e+01\n",
      "  -1.21430643e-13  7.45542618e-14]\n",
      " [-3.05311332e-13  1.04601487e+01  2.46549801e-13  2.22044605e-13\n",
      "  -1.04581487e+01 -8.52795848e-14]\n",
      " [-2.49800181e-13  1.70002901e-13  1.04601487e+01  2.77555756e-13\n",
      "  -3.46944695e-13 -1.04581487e+01]\n",
      " [-1.04581487e+01  7.52869989e-13 -3.38438880e-13  1.04601487e+01\n",
      "  -6.52256027e-13  3.35773745e-13]\n",
      " [ 9.43689571e-13 -1.04581487e+01 -1.23754533e-13 -7.77156117e-13\n",
      "   1.04601487e+01  7.67038494e-14]\n",
      " [ 3.60822483e-13  7.63278329e-14 -1.04581487e+01 -3.33066907e-13\n",
      "  -1.45716772e-13  1.04601487e+01]]\n",
      "True\n"
     ]
    }
   ],
   "source": [
    "bcc_vacancy = BccVacancy(alat=3.163, ncell_x=1, minimize=False, logname=None, data_path='./refs/', snapcoeff_filename='W.snapcoeff', verbose=False)\n",
    "print(bcc_vacancy.hessian())\n",
    "np.save('test_system_props_hessian.npy', bcc_vacancy.hessian())\n",
    "\n",
    "h_test = np.load('test_system_props_hessian.npy')\n",
    "print(np.allclose(bcc_vacancy.hessian(), h_test))"
   ]
  },
  {
   "cell_type": "code",
   "execution_count": 19,
   "metadata": {},
   "outputs": [
    {
     "name": "stdout",
     "output_type": "stream",
     "text": [
      "(55,)\n",
      "(55, 6)\n"
     ]
    }
   ],
   "source": [
    "bcc_vacancy = Bcc(alat=3.163, ncell_x=1, minimize=False, logname=None, data_path='./refs/', snapcoeff_filename='W.snapcoeff', verbose=False)\n",
    "X_coord_test = bcc_vacancy.X_coord.copy()\n",
    "#X_coord_test[4] = 0.5\n",
    "bcc_vacancy.scatter_coord(X_coord=X_coord_test)\n",
    "bcc_vacancy.compute_D_dD()\n",
    "bcc_vacancy.gather_D_dD()\n",
    "print(bcc_vacancy.dU_dTheta.shape)\n",
    "print(bcc_vacancy.mixed_hessian.shape)\n",
    "\n",
    "# save mixed hessian to npy\n",
    "np.save('test_system_props_dU_dTheta.npy', bcc_vacancy.dU_dTheta)\n",
    "np.save('test_system_props_mixed_hessian.npy', bcc_vacancy.mixed_hessian)"
   ]
  },
  {
   "cell_type": "code",
   "execution_count": 20,
   "metadata": {},
   "outputs": [
    {
     "name": "stdout",
     "output_type": "stream",
     "text": [
      "(55,)\n",
      "(55, 6)\n"
     ]
    }
   ],
   "source": [
    "bcc_vacancy = Bcc(alat=3.163, ncell_x=1, minimize=False, logname=None, data_path='./refs/', snapcoeff_filename='W.snapcoeff', verbose=False)\n",
    "print(bcc_vacancy.dU_dTheta.shape)\n",
    "print(bcc_vacancy.mixed_hessian.shape)\n",
    "\n",
    "# save mixed hessian to npy\n",
    "np.save('test_system_props_dU_dTheta.npy', bcc_vacancy.dU_dTheta)\n",
    "np.save('test_system_props_mixed_hessian.npy', bcc_vacancy.mixed_hessian)"
   ]
  },
  {
   "cell_type": "code",
   "execution_count": 21,
   "metadata": {},
   "outputs": [
    {
     "data": {
      "text/plain": [
       "array([ 0.03163,  0.03163,  0.03163, -1.54987,  0.5    , -1.54987])"
      ]
     },
     "execution_count": 21,
     "metadata": {},
     "output_type": "execute_result"
    }
   ],
   "source": [
    "bcc_system_tmp = Bcc(alat=3.163, ncell_x=1, minimize=False, logname=None, data_path='./refs/', snapcoeff_filename='W.snapcoeff', verbose=False)\n",
    "X_coord_test = bcc_vacancy.X_coord.copy()\n",
    "X_coord_test[4] = 0.5\n",
    "bcc_system_tmp.scatter_coord(X_coord=X_coord_test)\n",
    "bcc_system_tmp.X_coord\n"
   ]
  },
  {
   "cell_type": "markdown",
   "metadata": {},
   "source": [
    "### write_data()"
   ]
  },
  {
   "cell_type": "code",
   "execution_count": 22,
   "metadata": {},
   "outputs": [
    {
     "name": "stdout",
     "output_type": "stream",
     "text": [
      "-4.628609827075535\n"
     ]
    }
   ],
   "source": [
    "bcc_system_tmp = Bcc(alat=4.0, ncell_x=1, minimize=False, logname=None,\n",
    "                         data_path='./refs/', snapcoeff_filename='W.snapcoeff', verbose=False)\n",
    "\n",
    "bcc_system_tmp.write_data('bcc.data')\n",
    "print(bcc_system_tmp.energy)"
   ]
  },
  {
   "cell_type": "code",
   "execution_count": 23,
   "metadata": {},
   "outputs": [
    {
     "name": "stdout",
     "output_type": "stream",
     "text": [
      "-4.628609827075535\n"
     ]
    }
   ],
   "source": [
    "bcc_from_data = Bcc(datafile='bcc.data', minimize=False, data_path='./refs', snapcoeff_filename='W.snapcoeff', logname=None, verbose=False)\n",
    "print(bcc_from_data.energy)"
   ]
  },
  {
   "cell_type": "markdown",
   "metadata": {},
   "source": [
    "### pressure"
   ]
  },
  {
   "cell_type": "code",
   "execution_count": 24,
   "metadata": {},
   "outputs": [
    {
     "name": "stdout",
     "output_type": "stream",
     "text": [
      "13.510282306996439\n"
     ]
    }
   ],
   "source": [
    "bcc_system = Bcc(alat=3.163, ncell_x=2, minimize=False, logname=None,\n",
    "               data_path='./refs/', snapcoeff_filename='W.snapcoeff', verbose=False)\n",
    "bcc_system.compute_virial()\n",
    "bcc_system.gather_virial()\n",
    "#print(bcc_system.virial)\n",
    "bcc_system.get_pressure_from_virial()\n",
    "print(bcc_system.pressure)"
   ]
  },
  {
   "cell_type": "markdown",
   "metadata": {},
   "source": [
    "# Implicit derivative tests"
   ]
  },
  {
   "cell_type": "code",
   "execution_count": 25,
   "metadata": {},
   "outputs": [
    {
     "name": "stdout",
     "output_type": "stream",
     "text": [
      "True\n",
      "(16, 3)\n",
      "0\n",
      "0.03162999999999996 0.03162999999999996 0.03163000000000006\n"
     ]
    },
    {
     "data": {
      "image/png": "[encoded data removed]",
      "text/plain": [
       "<Figure size 1000x500 with 3 Axes>"
      ]
     },
     "metadata": {},
     "output_type": "display_data"
    },
    {
     "name": "stdout",
     "output_type": "stream",
     "text": [
      "15\n"
     ]
    }
   ],
   "source": [
    "bcc_pure = Bcc(alat=3.163, ncell_x=2, minimize=True, logname=None,\n",
    "                      data_path='./refs/', snapcoeff_filename='W.snapcoeff', verbose=False)\n",
    "X_pure_3D = bcc_pure.X_coord.reshape(-1, 3)\n",
    "X_target = np.array([0.0, 0.0, 0.0])\n",
    "print(X_target.shape==(3,))\n",
    "print((X_pure_3D-X_target).shape)\n",
    "idx0 = np.argmin(np.linalg.norm(X_pure_3D-X_target, axis=1))\n",
    "print(idx0)\n",
    "print(bcc_pure.X_coord[idx0*3], bcc_pure.X_coord[idx0*3+1],bcc_pure.X_coord[idx0*3+2],)\n",
    "\n",
    "bcc_vacancy = BccVacancy(alat=3.163, ncell_x=2, minimize=True, logname=None, del_coord=[0.0, 0.0, 0.0],\n",
    "                      data_path='./refs/', snapcoeff_filename='W.snapcoeff', verbose=False)\n",
    "\n",
    "fig, axes = plt.subplots(1, 3, figsize=(10, 5))\n",
    "plot_tools.plot_coords(axes, bcc_vacancy.X_coord.reshape(-1, 3), s=35)\n",
    "plot_tools.plot_coords(axes, bcc_pure.X_coord.reshape(-1, 3), color='black', s=20)\n",
    "plt.tight_layout()\n",
    "plt.show()\n",
    "\n",
    "print(bcc_vacancy.Natom)"
   ]
  },
  {
   "cell_type": "markdown",
   "metadata": {},
   "source": [
    "## Energy method"
   ]
  },
  {
   "cell_type": "code",
   "execution_count": 27,
   "metadata": {},
   "outputs": [],
   "source": [
    "def sort_coord(X_coord):\n",
    "\n",
    "    X_round = np.round(X_coord, decimals=8)\n",
    "    X_3D = X_round.reshape(-1, 3)\n",
    "    idx_sort = np.lexsort((X_3D[:, 2], X_3D[:, 1], X_3D[:, 0]))\n",
    "\n",
    "    flat_indices = np.concatenate([np.arange(i*3, i*3+3) for i in idx_sort])\n",
    "\n",
    "    return flat_indices"
   ]
  },
  {
   "cell_type": "code",
   "execution_count": 28,
   "metadata": {},
   "outputs": [
    {
     "data": {
      "image/png": "[encoded data removed]",
      "text/plain": [
       "<Figure size 600x500 with 1 Axes>"
      ]
     },
     "metadata": {},
     "output_type": "display_data"
    }
   ],
   "source": [
    "#min_style = 'sd'\n",
    "min_style = 'cg'\n",
    "dX_dTheta = bcc_vacancy.implicit_derivative(method='energy', adaptive_alpha=True, min_style=min_style, alpha=1e-6, ftol=1e-6, maxiter=100)\n",
    "\n",
    "idx_sort = sort_coord(bcc_vacancy.X_coord)\n",
    "dX_dTheta = dX_dTheta[:, idx_sort]\n",
    "\n",
    "#dX_dTheta = dX_dTheta.reshape(bcc_vacancy.Ndesc, bcc_vacancy.Natom, 3)\n",
    "#dX_dTheta = dX_dTheta[:, sort_coord(bcc_vacancy.X_coord), :]\n",
    "#dX_dTheta = dX_dTheta.reshape(bcc_vacancy.Ndesc, bcc_vacancy.Natom*3)\n",
    "\n",
    "np.save(f'test_impl_der_energy_{min_style}.npy', dX_dTheta)\n",
    "\n",
    "X0 = bcc_vacancy.X_coord.copy()[idx_sort]\n",
    "\n",
    "bcc_vacancy_perturb = BccVacancy(alat=3.163, ncell_x=2, minimize=True, logname=None, del_coord=[0.0, 0.0, 0.0],\n",
    "                                 data_path='./refs', snapcoeff_filename='W_perturb.snapcoeff', snapparam_filename='W.snapparam', verbose=False)\n",
    "\n",
    "dTheta = bcc_vacancy_perturb.Theta - bcc_vacancy.Theta\n",
    "\n",
    "X_true = bcc_vacancy_perturb.X_coord.copy()[idx_sort]\n",
    "\n",
    "dX_true = bcc_vacancy.minimum_image(X_true - X0)\n",
    "dX_pred = dTheta @ dX_dTheta\n",
    "\n",
    "dX_true -= dX_true.mean(axis=0)\n",
    "dX_pred -= dX_pred.mean(axis=0)\n",
    "\n",
    "np.save(f'test_impl_der_energy_dX_{min_style}.npy', dX_pred)\n",
    "\n",
    "fig, ax = plt.subplots(1, 1, figsize=(6, 5))\n",
    "ax.plot(dX_true, dX_pred, 'o')\n",
    "ax.plot([dX_true.min(), dX_true.max()], [dX_true.min(), dX_true.max()], ls='-', color='black')\n",
    "ax.set_xlabel('True Position Changes')\n",
    "ax.set_ylabel('Predicted Position Changes')\n",
    "plt.show()\n"
   ]
  },
  {
   "cell_type": "code",
   "execution_count": 29,
   "metadata": {},
   "outputs": [
    {
     "data": {
      "image/png": "[encoded data removed]",
      "text/plain": [
       "<Figure size 1000x500 with 3 Axes>"
      ]
     },
     "metadata": {},
     "output_type": "display_data"
    },
    {
     "name": "stdout",
     "output_type": "stream",
     "text": [
      "15\n"
     ]
    }
   ],
   "source": [
    "bcc_pure_211 = Bcc(alat=3.163, ncell_x=2, ncell_y=1, ncell_z=1, minimize=True, logname=None,\n",
    "                      data_path='./refs/', snapcoeff_filename='W.snapcoeff', verbose=False)\n",
    "bcc_vacancy_211 = BccVacancy(alat=3.163, ncell_x=2, ncell_y=1, ncell_z=1, minimize=True, logname=None,  del_coord=[0.0, 0.0, 0.0],\n",
    "                      data_path='./refs/', snapcoeff_filename='W.snapcoeff', verbose=False)\n",
    "\n",
    "fig, axes = plt.subplots(1, 3, figsize=(10, 5))\n",
    "plot_tools.plot_coords(axes, bcc_pure_211.X_coord.reshape(-1, 3), s=35)\n",
    "plot_tools.plot_coords(axes, bcc_vacancy_211.X_coord.reshape(-1, 3), color='black', s=20)\n",
    "plt.tight_layout()\n",
    "plt.show()\n",
    "\n",
    "print(bcc_vacancy.Natom)"
   ]
  },
  {
   "cell_type": "code",
   "execution_count": 43,
   "metadata": {},
   "outputs": [
    {
     "data": {
      "image/png": "[encoded data removed]",
      "text/plain": [
       "<Figure size 600x500 with 1 Axes>"
      ]
     },
     "metadata": {},
     "output_type": "display_data"
    }
   ],
   "source": [
    "min_style = 'fire'\n",
    "#min_style = 'cg'\n",
    "dX_dTheta = bcc_vacancy_211.implicit_derivative(method='energy', adaptive_alpha=True, min_style=min_style, alpha=1e-3, ftol=1e-7, maxiter=50)\n",
    "idx_sort = sort_coord(bcc_vacancy_211.X_coord)\n",
    "X0 = bcc_vacancy_211.X_coord.copy()[idx_sort]\n",
    "dX_dTheta = dX_dTheta[:, idx_sort]\n",
    "\n",
    "np.save(f'test_impl_der_energy_{min_style}.npy', dX_dTheta)\n",
    "\n",
    "bcc_vacancy_211_perturb = BccVacancy(alat=3.163, ncell_x=2, ncell_y=1, ncell_z=1, minimize=True, logname=None, del_coord=[0.0, 0.0, 0.0],\n",
    "                                 data_path='./refs', snapcoeff_filename='W_perturb2.snapcoeff', snapparam_filename='W.snapparam', verbose=False)\n",
    "\n",
    "X_true = bcc_vacancy_211_perturb.X_coord.copy()[idx_sort]\n",
    "\n",
    "dX_true = bcc_vacancy_211.minimum_image(X_true - X0)\n",
    "\n",
    "dTheta = bcc_vacancy_211_perturb.Theta - bcc_vacancy_211.Theta\n",
    "dX_pred = dTheta @ dX_dTheta\n",
    "\n",
    "dX_true -= dX_true.mean(axis=0)\n",
    "dX_pred -= dX_pred.mean(axis=0)\n",
    "\n",
    "fig, ax = plt.subplots(1, 1, figsize=(6, 5))\n",
    "ax.plot(dX_true, dX_pred, 'o')\n",
    "ax.plot([dX_true.min(), dX_true.max()], [dX_true.min(), dX_true.max()], ls='-', color='black')\n",
    "ax.set_xlabel('True Position Changes')\n",
    "ax.set_ylabel('Predicted Position Changes')\n",
    "plt.show()"
   ]
  }
 ],
 "metadata": {
  "kernelspec": {
   "display_name": "jax",
   "language": "python",
   "name": "python3"
  },
  "language_info": {
   "codemirror_mode": {
    "name": "ipython",
    "version": 3
   },
   "file_extension": ".py",
   "mimetype": "text/x-python",
   "name": "python",
   "nbconvert_exporter": "python",
   "pygments_lexer": "ipython3",
   "version": "3.1.-1"
  }
 },
 "nbformat": 4,
 "nbformat_minor": 2
}
