{
 "cells": [
  {
   "cell_type": "markdown",
   "metadata": {},
   "source": [
    "# Define a new `LAMMPS` simulator with the implicit derivative functionality\n",
    "`LammpsImplicitDer` is the core parent class that contains the implicit derivative implementations and the LAMMPS simulator. Any LAMMPS system class should inherit from this class."
   ]
  },
  {
   "cell_type": "code",
   "execution_count": 1,
   "metadata": {},
   "outputs": [],
   "source": [
    "import numpy as np\n",
    "from lammps_implicit_der import LammpsImplicitDer, SNAP"
   ]
  },
  {
   "cell_type": "markdown",
   "metadata": {},
   "source": [
    "## Example how to create a LAMMPS simulation based on `LammpsImplicitDer` class"
   ]
  },
  {
   "cell_type": "code",
   "execution_count": 12,
   "metadata": {},
   "outputs": [
    {
     "name": "stdout",
     "output_type": "stream",
     "text": [
      "None\n",
      "Running LAMMPS with the following arguments:\n",
      "-screen none -log none\n"
     ]
    }
   ],
   "source": [
    "class Bcc(LammpsImplicitDer):\n",
    "    def __init__(self):\n",
    "        super().__init__()\n",
    "\n",
    "        # Load the SNAP potential\n",
    "        self.pot = SNAP.from_files('W.snapcoeff', data_path='../lammps_implicit_der/data_files/')\n",
    "\n",
    "bcc = Bcc()"
   ]
  },
  {
   "cell_type": "markdown",
   "metadata": {},
   "source": [
    "## Setup a simple bcc system with a supercell of `ncell_x` unit cells"
   ]
  },
  {
   "cell_type": "code",
   "execution_count": 3,
   "metadata": {},
   "outputs": [],
   "source": [
    "ncell_x = 2\n",
    "bcc.lmp.commands_string(f\"\"\"\n",
    "    clear\n",
    "\n",
    "    # Disable atom sorting\n",
    "    atom_modify map array sort 0 0.0\n",
    "\n",
    "    # Periodic boundary conditions\n",
    "    boundary p p p\n",
    "\n",
    "    units metal\n",
    "\n",
    "    # Origin at 1% of the lattice spacing to avoid numerical issues on the boundaries\n",
    "    lattice bcc 3.13 origin 0.01 0.01 0.01\n",
    "\n",
    "    # Define a region C as block from 0 to ncell_x lattice spacings in each direction\n",
    "    region C block 0 {ncell_x} 0 {ncell_x} 0 {ncell_x} units lattice\n",
    "\n",
    "    # Create the simulation box with one atom type\n",
    "    create_box 1 C\n",
    "\n",
    "    # Create atoms in the box\n",
    "    create_atoms 1 region C\n",
    "\n",
    "    # Set the mass\n",
    "    mass * 45.0\n",
    "    \"\"\")"
   ]
  },
  {
   "cell_type": "markdown",
   "metadata": {},
   "source": [
    "## Setup the SNAP potential"
   ]
  },
  {
   "cell_type": "code",
   "execution_count": 4,
   "metadata": {},
   "outputs": [
    {
     "name": "stdout",
     "output_type": "stream",
     "text": [
      "['W']\n",
      "{'W': {'elem_params': {'radius': 0.5, 'weight': 1.0}, 'beta0': -5.30602553034076, 'Theta': array([ 2.59171211e-02,  2.29459519e-02,  5.42267608e-02, -1.51585786e-02,\n",
      "        2.71030824e-01,  6.53694819e-02,  3.47579854e-04, -6.36676650e-03,\n",
      "        1.26170571e-01,  1.00532763e-01,  5.01645978e-02,  1.00570965e-01,\n",
      "        2.52031414e-03, -2.00524259e-02,  2.86825036e-02, -6.64412013e-03,\n",
      "        7.04211807e-02,  9.24840913e-02,  9.69625335e-03,  3.52187019e-02,\n",
      "        9.47117594e-04,  9.90517179e-03, -1.69731525e-03,  6.53240492e-02,\n",
      "        1.12288898e-01,  7.01812880e-02,  6.09595356e-02, -2.74980622e-02,\n",
      "        3.72170044e-02,  5.02702975e-02,  7.06345397e-03, -1.07971357e-02,\n",
      "       -2.07582090e-02,  2.41023973e-02,  9.68293034e-02,  2.74989592e-03,\n",
      "        1.15041120e-02,  5.71673560e-02,  6.55507839e-03,  3.17319182e-02,\n",
      "        2.12856497e-02,  1.31183642e-02,  7.55440708e-04,  7.52558175e-03,\n",
      "        4.17081670e-02, -6.30345924e-03,  1.33449964e-03, -1.64835264e-04,\n",
      "       -2.28757428e-03, -2.53508143e-03, -3.70676499e-05,  9.62453606e-03,\n",
      "        1.75638319e-02, -5.68873331e-03,  7.35642671e-03])}, 'radii': '0.5', 'weights': '1.0'}\n",
      "{'rcutfac': 4.7, 'twojmax': 8, 'rfac0': 0.99363, 'rmin0': 0, 'bzeroflag': 1, 'quadraticflag': 0, 'bnormflag': 0}\n"
     ]
    }
   ],
   "source": [
    "bcc.setup_snap_potential()\n",
    "print(bcc.pot.elem_list)\n",
    "print(bcc.pot.Theta_dict)\n",
    "print(bcc.pot.snapparam_dict)"
   ]
  },
  {
   "cell_type": "markdown",
   "metadata": {},
   "source": [
    "## Energy minimization"
   ]
  },
  {
   "cell_type": "code",
   "execution_count": 5,
   "metadata": {},
   "outputs": [
    {
     "name": "stdout",
     "output_type": "stream",
     "text": [
      "Minimizing energy with the following parameters:\n",
      "ftol: 1e-08, maxiter: 1000, maxeval: 1000, algo: cg\n"
     ]
    }
   ],
   "source": [
    "bcc.minimize_energy()"
   ]
  },
  {
   "cell_type": "markdown",
   "metadata": {},
   "source": [
    "## Compute the descriptors and their derivatives"
   ]
  },
  {
   "cell_type": "code",
   "execution_count": null,
   "metadata": {},
   "outputs": [],
   "source": []
  },
  {
   "cell_type": "code",
   "execution_count": 6,
   "metadata": {},
   "outputs": [
    {
     "name": "stdout",
     "output_type": "stream",
     "text": [
      "Minimizing energy with the following parameters:\n",
      "ftol: 1e-08, maxiter: 1000, maxeval: 1000, algo: cg\n",
      "Number of atoms: 16, largest force value: 8.549e-15, force norm: 3.312e-14\n"
     ]
    }
   ],
   "source": [
    "bcc.run_init()"
   ]
  },
  {
   "cell_type": "code",
   "execution_count": 7,
   "metadata": {},
   "outputs": [
    {
     "name": "stdout",
     "output_type": "stream",
     "text": [
      "(48,)\n",
      "(16,)\n"
     ]
    }
   ],
   "source": [
    "print(bcc.X_coord.shape)\n",
    "print(bcc.species.shape)"
   ]
  },
  {
   "cell_type": "code",
   "execution_count": 8,
   "metadata": {},
   "outputs": [
    {
     "name": "stdout",
     "output_type": "stream",
     "text": [
      "======================================================================\n",
      "==================== TIMING SUMMARY: ImplicitDer-LAMMPS ==============\n",
      "======================================================================\n",
      "                                     Tag  Time (s)     Calls     \n",
      "----------------------------------------------------------------------\n",
      "         ▷----------------initialization  0.33815      1         \n",
      "         ▷----------------------run_init  0.04705      1         \n",
      "         ▷---------------minimize_energy  0.03680      2         \n",
      "         ▷-------------------gather_D_dD  0.00695      1         \n",
      "         ▷------------------compute_D_dD  0.00505      1         \n",
      "======================================================================\n",
      "\n",
      "\n"
     ]
    }
   ],
   "source": [
    "print(bcc.timings)"
   ]
  },
  {
   "cell_type": "markdown",
   "metadata": {},
   "source": [
    "## Compute implicit derivative"
   ]
  },
  {
   "cell_type": "code",
   "execution_count": 9,
   "metadata": {},
   "outputs": [
    {
     "name": "stderr",
     "output_type": "stream",
     "text": [
      "  0%|          | 0/55 [00:00<?, ?it/s]"
     ]
    },
    {
     "name": "stderr",
     "output_type": "stream",
     "text": [
      "100%|██████████| 55/55 [00:00<00:00, 105.45it/s]"
     ]
    },
    {
     "name": "stdout",
     "output_type": "stream",
     "text": [
      "[[0. 0. 0. ... 0. 0. 0.]\n",
      " [0. 0. 0. ... 0. 0. 0.]\n",
      " [0. 0. 0. ... 0. 0. 0.]\n",
      " ...\n",
      " [0. 0. 0. ... 0. 0. 0.]\n",
      " [0. 0. 0. ... 0. 0. 0.]\n",
      " [0. 0. 0. ... 0. 0. 0.]]\n"
     ]
    },
    {
     "name": "stderr",
     "output_type": "stream",
     "text": [
      "\n"
     ]
    }
   ],
   "source": [
    "bcc.scatter_coord()\n",
    "bcc.gather_D_dD()\n",
    "dX_dTheta = bcc.implicit_derivative(method='sparse')\n",
    "print(dX_dTheta)"
   ]
  },
  {
   "cell_type": "markdown",
   "metadata": {},
   "source": [
    "## Perturb the positions"
   ]
  },
  {
   "cell_type": "code",
   "execution_count": 10,
   "metadata": {},
   "outputs": [
    {
     "name": "stderr",
     "output_type": "stream",
     "text": [
      "100%|██████████| 55/55 [00:15<00:00,  3.65it/s]"
     ]
    },
    {
     "name": "stdout",
     "output_type": "stream",
     "text": [
      "[[ 2.71142810e-04 -3.78314161e-03 -2.40389408e-03 ... -9.37221650e-04\n",
      "   6.07927227e-03  3.45532559e-03]\n",
      " [ 1.62735028e-03 -3.04811482e-04 -2.81034324e-04 ... -1.21364558e-03\n",
      "  -2.55709707e-04  8.02585187e-04]\n",
      " [-5.99441931e-04 -3.27270808e-04 -2.38699325e-04 ...  2.65993049e-05\n",
      "   7.11683955e-04 -1.93513925e-04]\n",
      " ...\n",
      " [ 1.10530583e-02 -1.02441387e-02  5.58627922e-03 ... -2.07325148e-02\n",
      "   8.20729858e-03 -1.78669058e-02]\n",
      " [ 2.16639282e-02  4.72151520e-03  2.75324823e-03 ... -7.68639750e-03\n",
      "  -3.28302800e-02 -2.40947354e-03]\n",
      " [ 6.29889454e-03 -6.70330836e-05  6.06788184e-03 ...  1.82669379e-03\n",
      "  -1.42709417e-03 -4.23475012e-04]]\n"
     ]
    },
    {
     "name": "stderr",
     "output_type": "stream",
     "text": [
      "\n"
     ]
    }
   ],
   "source": [
    "bcc.X_coord = bcc.X_coord + np.random.normal(0, 0.001, bcc.X_coord.shape)\n",
    "bcc.scatter_coord()\n",
    "bcc.gather_D_dD()\n",
    "dX_dTheta = bcc.implicit_derivative(method='sparse', maxiter=50)\n",
    "print(dX_dTheta)"
   ]
  },
  {
   "cell_type": "code",
   "execution_count": 11,
   "metadata": {},
   "outputs": [
    {
     "name": "stdout",
     "output_type": "stream",
     "text": [
      "[[-0.53548859  0.20788133  0.1464997  ... -0.00797018 -0.08613304\n",
      "  -0.05300918]\n",
      " [-0.00378981 -0.00707492  0.00333237 ... -0.02127212 -0.04197775\n",
      "   0.09063668]\n",
      " [ 0.00926248  0.01053152 -0.00177658 ... -0.02894891  0.00439351\n",
      "   0.02763794]\n",
      " ...\n",
      " [ 0.01127219  0.13936971 -0.01325284 ... -0.06664941 -0.0904004\n",
      "   0.10323431]\n",
      " [ 0.01601187  0.04278328  0.07669818 ... -0.26126275  0.08816138\n",
      "  -0.3536606 ]\n",
      " [ 0.00158589 -0.01683313  0.06320244 ... -0.01324029 -0.01038556\n",
      "  -0.06258863]]\n"
     ]
    }
   ],
   "source": [
    "print(bcc.A_hard)"
   ]
  }
 ],
 "metadata": {
  "kernelspec": {
   "display_name": "jax",
   "language": "python",
   "name": "python3"
  },
  "language_info": {
   "codemirror_mode": {
    "name": "ipython",
    "version": 3
   },
   "file_extension": ".py",
   "mimetype": "text/x-python",
   "name": "python",
   "nbconvert_exporter": "python",
   "pygments_lexer": "ipython3",
   "version": "3.10.12"
  }
 },
 "nbformat": 4,
 "nbformat_minor": 2
}
