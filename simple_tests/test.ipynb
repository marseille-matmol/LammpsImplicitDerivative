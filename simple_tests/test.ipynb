{
 "cells": [
  {
   "cell_type": "code",
   "execution_count": 1,
   "metadata": {},
   "outputs": [],
   "source": [
    "from lammps import lammps\n",
    "import numpy as np\n",
    "import matplotlib.pyplot as plt\n",
    "import tqdm"
   ]
  },
  {
   "cell_type": "code",
   "execution_count": 23,
   "metadata": {},
   "outputs": [
    {
     "name": "stdout",
     "output_type": "stream",
     "text": [
      "(128, 3) (128, 3, 55) 2.475797344914099e-14\n"
     ]
    }
   ],
   "source": [
    "input_script = \"\"\"\n",
    "# Create BCC lattice\n",
    "units metal\n",
    "atom_modify map array sort 0 0.0\n",
    "lattice bcc 3.185 origin 0.0 0.0 0.0\n",
    "region box block 0 4 0 4 0 4\n",
    "create_box 2 box\n",
    "create_atoms 1 box\n",
    "#displace_atoms all random 0.01 0.01 0.01 12345\n",
    "set atom 60 type 2\n",
    "set atom 61 type 2\n",
    "set atom 62 type 2\n",
    "set atom 63 type 2\n",
    "\n",
    "pair_style snap\n",
    "pair_coeff * * ../potentials/WX_step_0019.snapcoeff ../potentials/WX.snapparam W X\n",
    "mass * 183.84\n",
    "min_style fire\n",
    "thermo 1\n",
    "compute dD all snad/atom 4.7 0.99363 8 0.5 0.5 1 1 \n",
    "run 0\n",
    "\"\"\"\n",
    "\n",
    "\n",
    "# Execute the input script in LAMMPS\n",
    "lmp = lammps(cmdargs=[\"-log\", \"none\", \"-screen\", \"none\"])\n",
    "lmp.commands_string(input_script)\n",
    "\n",
    "X0 = np.ctypeslib.as_array(lmp.gather(\"x\", 1, 3)).reshape(-1, 3)\n",
    "F0 = np.ctypeslib.as_array(lmp.gather(\"f\", 1, 3)).reshape(-1, 3)\n",
    "\n",
    "lmp.scatter(\"x\",1,3,np.ctypeslib.as_ctypes(X0.flatten()))\n",
    "\n",
    "dD = np.ctypeslib.as_array(lmp.gather(\"c_dD\", 1, 3*2*55)).reshape((-1, 2,3,55))[:,1]\n",
    "\n",
    "print(X0.shape,dD.shape,np.abs(F0).max())\n",
    "\n"
   ]
  },
  {
   "cell_type": "code",
   "execution_count": 24,
   "metadata": {},
   "outputs": [
    {
     "name": "stderr",
     "output_type": "stream",
     "text": [
      "100%|██████████| 10/10 [00:02<00:00,  3.57it/s]\n"
     ]
    }
   ],
   "source": [
    "def implicit_test(i=0):\n",
    "    lmp.scatter(\"x\", 1, 3, np.ctypeslib.as_ctypes(X0.flatten()))\n",
    "    lmp.command(\"run 0\")\n",
    "    N = lmp.get_natoms()\n",
    "    dD = np.ctypeslib.as_array(lmp.gather(\"c_dD\", 1, 3*2*55)).reshape((-1, 2,3,55))[:,1]\n",
    "\n",
    "    f0 = dD[:,:,i].flatten()\n",
    "    alpha = 0.05/np.abs(f0).max()\n",
    "    f0 *= alpha\n",
    "    force = lambda :\\\n",
    "        np.ctypeslib.as_array(lmp.gather(\"f\", 1, 3)).flatten() + f0\n",
    "    \n",
    "    X = X0.copy().flatten()\n",
    "    \n",
    "    f = force()\n",
    "    while np.abs(f).max() > 1e-3:\n",
    "        f = force()\n",
    "        X += 0.02 * f\n",
    "        lmp.scatter(\"x\", 1, 3, np.ctypeslib.as_ctypes(X))\n",
    "        lmp.commands_string(\"run 0\")\n",
    "        #print(np.abs(f).max(),np.linalg.norm(X-X0.flatten()))\n",
    "    return X\n",
    "implicit_dev_0=[]\n",
    "for i in tqdm.tqdm(range(10)):\n",
    "    implicit_dev_0 += [[implicit_test(i)]]\n",
    "\n",
    "implicit_dev_0 = np.array(implicit_dev_0)\n",
    "\n",
    "\n"
   ]
  },
  {
   "cell_type": "code",
   "execution_count": 25,
   "metadata": {},
   "outputs": [
    {
     "name": "stderr",
     "output_type": "stream",
     "text": [
      "100%|██████████| 10/10 [00:02<00:00,  3.58it/s]\n"
     ]
    }
   ],
   "source": [
    "from scipy.optimize import root\n",
    "def scipy_ID(i=0):\n",
    "    lmp.scatter(\"x\", 1, 3, np.ctypeslib.as_ctypes(X0.flatten()))\n",
    "    lmp.command(\"run 0\")\n",
    "    N = lmp.get_natoms()\n",
    "    dD = np.ctypeslib.as_array(lmp.gather(\"c_dD\", 1, 3*2*55)).reshape((-1, 2,3,55))[:,1]\n",
    "\n",
    "    f0 = dD[:,:,i].flatten()\n",
    "    alpha = 0.05/np.abs(f0).max()\n",
    "    f0 *= alpha\n",
    "\n",
    "    def call(X):\n",
    "        lmp.scatter(\"x\", 1, 3, np.ctypeslib.as_ctypes(X))\n",
    "        lmp.commands_string(\"run 0\")\n",
    "        return np.ctypeslib.as_array(lmp.gather(\"f\", 1, 3)).flatten() + f0\n",
    "    \n",
    "    sol = root(call,X0.flatten(),method=\"hybr\")\n",
    "    return sol.x\n",
    "\n",
    "implicit_dev=[]\n",
    "for i in tqdm.tqdm(range(10)):\n",
    "    implicit_dev += [[implicit_test(i)]]\n",
    "\n",
    "implicit_dev = np.array(implicit_dev)\n",
    "\n"
   ]
  },
  {
   "cell_type": "code",
   "execution_count": 26,
   "metadata": {},
   "outputs": [
    {
     "data": {
      "image/png": "[encoded data removed]",
      "text/plain": [
       "<Figure size 640x480 with 1 Axes>"
      ]
     },
     "metadata": {},
     "output_type": "display_data"
    }
   ],
   "source": [
    "for i in range(10):\n",
    "    plt.plot(implicit_dev_0[i].flatten()-X0.flatten(),\\\n",
    "             implicit_dev[i].flatten()-X0.flatten(),\".\")"
   ]
  },
  {
   "cell_type": "code",
   "execution_count": null,
   "metadata": {},
   "outputs": [],
   "source": []
  }
 ],
 "metadata": {
  "kernelspec": {
   "display_name": "mpi",
   "language": "python",
   "name": "python3"
  },
  "language_info": {
   "codemirror_mode": {
    "name": "ipython",
    "version": 3
   },
   "file_extension": ".py",
   "mimetype": "text/x-python",
   "name": "python",
   "nbconvert_exporter": "python",
   "pygments_lexer": "ipython3",
   "version": "3.11.0"
  }
 },
 "nbformat": 4,
 "nbformat_minor": 2
}
