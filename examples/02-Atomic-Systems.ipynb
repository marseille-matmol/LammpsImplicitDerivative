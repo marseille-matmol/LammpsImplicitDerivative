{
 "cells": [
  {
   "cell_type": "markdown",
   "metadata": {},
   "source": [
    "# Atomic Systems\n",
    "\n",
    "There are several more atomic systems implemented, such as `BCC_BINARY`, `BCC_BINARY_VACANCY`, `BCC_VACANCY`, `BCC_SIA`, `HCP`, as well as generic `FromData`.\n",
    "The source code related to systems is in the `./lammps_implicit_der/systems/` folder. Each system is a child class of `LammpsImplicitDer`.\n",
    "\n",
    "Specifying SNAP file paths is mandatory for any system.\n"
   ]
  },
  {
   "cell_type": "code",
   "execution_count": 10,
   "metadata": {},
   "outputs": [],
   "source": [
    "# Standard libraries\n",
    "import os\n",
    "import numpy as np\n",
    "import pickle\n",
    "import matplotlib.pyplot as plt\n",
    "\n",
    "# Package imports\n",
    "from lammps_implicit_der import SNAP, LammpsImplicitDer\n",
    "from lammps_implicit_der.systems import BCC, BCC_BINARY, BCC_BINARY_VACANCY, BCC_VACANCY, \\\n",
    "                                        BCC_SIA, FromData, HCP, \\\n",
    "                                        BccVacancyConcentration\n",
    "from lammps_implicit_der.tools import plot_tools\n",
    "\n",
    "# No parallel MPI runs in the notebook, but keep comm for consistency\n",
    "comm = None\n",
    "\n",
    "# For parallel runs, use the following:\n",
    "# from lammps_implicit_der.tools import mpi_print, initialize_mpi\n",
    "# comm, rank = initialize_mpi()"
   ]
  },
  {
   "cell_type": "markdown",
   "metadata": {},
   "source": [
    "## Pure BCC lattice\n",
    "\n",
    "* `alat`: lattice parameter in Angstrom\n",
    "* `ncell_x`: number of BCC unit cells in the x-direction. If `ncell_y` and `ncell_z` are not specified, they will be equal to `ncell_x`"
   ]
  },
  {
   "cell_type": "code",
   "execution_count": 11,
   "metadata": {},
   "outputs": [
    {
     "name": "stdout",
     "output_type": "stream",
     "text": [
      "Energy of BCC pure (eV): -151.595842\n"
     ]
    }
   ],
   "source": [
    "bcc_pure = BCC(alat=3.18, ncell_x=2, minimize=True, snapcoeff_filename='W.snapcoeff',\n",
    "               verbose=False, comm=comm)\n",
    "print(f'Energy of BCC pure (eV): {bcc_pure.energy:.6f}')"
   ]
  },
  {
   "cell_type": "markdown",
   "metadata": {},
   "source": [
    "## BCC Vacancy\n",
    "\n",
    "BCC with one vacancy\n",
    "\n",
    "* `del_coord`: Coordinates of the atom to be deleted. If None, `del_id` must be specified. Shape: (3,)\n",
    "* `del_id`: ID of the atom to be deleted. If None, `del_coord` must be specified."
   ]
  },
  {
   "cell_type": "code",
   "execution_count": 12,
   "metadata": {},
   "outputs": [
    {
     "name": "stdout",
     "output_type": "stream",
     "text": [
      "Energy of BCC Vacancy (eV): -80.299289\n",
      "ID of atom that was delterd: 1\n"
     ]
    }
   ],
   "source": [
    "bcc_vacancy = BCC_VACANCY(alat=3.18, ncell_x=2, minimize=True, del_coord=[0.0, 0.0, 0.0],\n",
    "                          snapcoeff_filename = 'W_REF.snapcoeff', verbose=False, comm=comm)\n",
    "\n",
    "print(f'Energy of BCC Vacancy (eV): {bcc_vacancy.energy:.6f}')\n",
    "print(f'ID of atom that was delterd: {bcc_vacancy.del_id}')"
   ]
  },
  {
   "cell_type": "markdown",
   "metadata": {},
   "source": [
    "## BCC lattice with vacancies, with a specified vacancy concentration.\n",
    "\n",
    "* `vac_conc`: concentration of vacanies, in the [0, 1] range."
   ]
  },
  {
   "cell_type": "code",
   "execution_count": 13,
   "metadata": {},
   "outputs": [
    {
     "data": {
      "image/png": "[encoded data removed]",
      "text/plain": [
       "<Figure size 1000x500 with 3 Axes>"
      ]
     },
     "metadata": {},
     "output_type": "display_data"
    }
   ],
   "source": [
    "bcc_vac_conc = BccVacancyConcentration(alat=3.18, ncell_x=3, minimize=True, vac_conc=0.3,\n",
    "                                       verbose=False, snapcoeff_filename='W_REF.snapcoeff', comm=comm)\n",
    "\n",
    "# Plot the coordinates of the atoms in XY, XZ, and YZ planes\n",
    "fig, axes = plt.subplots(1, 3, figsize=(10, 5))\n",
    "plot_tools.plot_coords(axes, bcc_vac_conc.X_coord.reshape(-1, 3), s=35)\n",
    "plt.tight_layout()\n",
    "plt.show()"
   ]
  },
  {
   "cell_type": "markdown",
   "metadata": {},
   "source": [
    "## Hexagonal Close-Packed (HCP) lattice\n",
    "\n",
    "$$\n",
    "\\begin{bmatrix}\n",
    "    a & 0 & 0 \\\\\n",
    "    0 & b & 0 \\\\\n",
    "    0 & 0 & c\n",
    "\\end{bmatrix}\n",
    "$$"
   ]
  },
  {
   "cell_type": "markdown",
   "metadata": {},
   "source": [
    "## Fixed $a/c$\n",
    "\n",
    "In this case, $b = a \\sqrt{3}$, $c = a \\sqrt{8/3}$"
   ]
  },
  {
   "cell_type": "code",
   "execution_count": 14,
   "metadata": {},
   "outputs": [
    {
     "name": "stdout",
     "output_type": "stream",
     "text": [
      "HCP cell: \n",
      "[[2.84752278 0.         0.        ]\n",
      " [0.         4.93205413 0.        ]\n",
      " [0.         0.         4.64998523]]\n",
      "Parameter a (A): 2.848\n",
      "Parameter b (A): 4.932, a * sqrt(3): 4.932\n",
      "Parameter c (A): 4.650, a * sqrt(8/3): 4.650\n"
     ]
    }
   ],
   "source": [
    "alat_hcp = 2.84752278\n",
    "hcp_fixed_a_c = HCP(alat=alat_hcp, ncell_x=1, minimize=True, fix_box_relax=False,\n",
    "                    snapcoeff_filename='W_REF.snapcoeff', verbose=False, comm=comm)\n",
    "\n",
    "print(f'HCP cell: \\n{hcp_fixed_a_c.cell}')\n",
    "print(f'Parameter a (A): {hcp_fixed_a_c.cell[0, 0]:.3f}')\n",
    "print(f'Parameter b (A): {hcp_fixed_a_c.cell[1, 1]:.3f}, a * sqrt(3): {alat_hcp * np.sqrt(3):.3f}')\n",
    "print(f'Parameter c (A): {hcp_fixed_a_c.cell[2, 2]:.3f}, a * sqrt(8/3): {alat_hcp * np.sqrt(8/3):.3f}')"
   ]
  },
  {
   "cell_type": "markdown",
   "metadata": {},
   "source": [
    "## HCP, relaxed in the $c$-direction\n",
    "\n",
    "With anisotropic box relaxation (`fix_box_relax=True` and `box_relax_iso=False`)"
   ]
  },
  {
   "cell_type": "code",
   "execution_count": 15,
   "metadata": {},
   "outputs": [
    {
     "name": "stdout",
     "output_type": "stream",
     "text": [
      "\n",
      "--------------------------------------------------------------------------------\n",
      "Running LAMMPS with the following arguments:\n",
      "-screen none -log none\n",
      "\n",
      "WARNING: commands.lammps already exists, renaming it to commands.lammps.old\n",
      "Setting SNAP potential\n",
      "\n",
      "                  SNAP coefficients for: W\n",
      "                          quadraticflag: 0\n",
      " Number of parameters (excluding beta0): 55\n",
      "                                Element:  W  |  R =  0.5000 w =  1.0000\n",
      "\n",
      "Minimizing energy with the following parameters:\n",
      "ftol: 1e-08, maxiter: 1000, maxeval: 1000, algo: cg, fix_box_relax: True \n",
      "\n",
      "Minimization finished in 230 steps\n",
      "Initial fmax: 5.301e-15, final fmax: 8.694e-14\n",
      "Initial fnorm: 7.698e-15, final fnorm: 1.879e-13\n",
      "Number of atoms: 4, largest force value: 8.694e-14, force norm: 1.879e-13\n",
      "HCP cell: \n",
      "[[2.85232327 0.         0.        ]\n",
      " [0.         4.94036882 0.        ]\n",
      " [0.         0.         4.7557049 ]]\n",
      "Parameter a (A): 2.852\n",
      "Parameter b (A): 4.940, a * sqrt(3): 4.932\n",
      "Parameter c (A): 4.756, a * sqrt(8/3): 4.650\n"
     ]
    }
   ],
   "source": [
    "alat_hcp = 2.84752278\n",
    "hcp_box_relax = HCP(alat=alat_hcp, ncell_x=1,\n",
    "                    minimize=True, fix_box_relax=True, minimize_maxiter=1000, box_relax_iso=False,\n",
    "                    snapcoeff_filename='W.snapcoeff', verbose=True, comm=comm)\n",
    "\n",
    "print(f'HCP cell: \\n{hcp_box_relax.cell}')\n",
    "print(f'Parameter a (A): {hcp_box_relax.cell[0, 0]:.3f}')\n",
    "print(f'Parameter b (A): {hcp_box_relax.cell[1, 1]:.3f}, a * sqrt(3): {alat_hcp * np.sqrt(3):.3f}')\n",
    "print(f'Parameter c (A): {hcp_box_relax.cell[2, 2]:.3f}, a * sqrt(8/3): {alat_hcp * np.sqrt(8/3):.3f}')\n"
   ]
  },
  {
   "cell_type": "markdown",
   "metadata": {},
   "source": [
    "## BCC binary\n",
    "\n",
    "* `specie_B_concentration`: Concentration of the B species in the binary lattice, [0, 1]. Specie A concentration is 1 - specie_B_concentration.\n",
    "\n",
    "Warning: currently, the $\\mathbf{\\Theta}$ parameters are hardcoded to Mo."
   ]
  },
  {
   "cell_type": "code",
   "execution_count": 16,
   "metadata": {},
   "outputs": [
    {
     "name": "stdout",
     "output_type": "stream",
     "text": [
      "Atomic species list: [1 1 1 2 2 2 2 2 2 1 1 2 1 1 1 1]\n"
     ]
    },
    {
     "data": {
      "image/png": "[encoded data removed]",
      "text/plain": [
       "<Figure size 1000x500 with 3 Axes>"
      ]
     },
     "metadata": {},
     "output_type": "display_data"
    },
    {
     "name": "stdout",
     "output_type": "stream",
     "text": [
      "Number of SNAP descriptors: 30\n",
      "Ni SNAP parameters: [ 0.00278888 -0.00957282  0.08327857 -0.05374547  0.28790446]...\n",
      "Mo SNAP parameters: [0.00217993 0.02117406 0.05027489 0.01271017 0.32806724]...\n"
     ]
    }
   ],
   "source": [
    "bcc_binary = BCC_BINARY(alat=3.13, ncell_x=2, minimize=True,\n",
    "                        snapcoeff_filename = 'NiMo.snapcoeff', verbose=False)\n",
    "\n",
    "print(f'Atomic species list: {bcc_binary.species}')\n",
    "\n",
    "# Plot the coordinates of the atoms in XY, XZ, and YZ planes\n",
    "fig, axes = plt.subplots(1, 3, figsize=(10, 5))\n",
    "species_A_coord = bcc_binary.X_coord.reshape(-1, 3)[bcc_binary.species == 1]\n",
    "species_B_coord = bcc_binary.X_coord.reshape(-1, 3)[bcc_binary.species == 2]\n",
    "plot_tools.plot_coords(axes, species_A_coord, s=35, color='tab:blue', label='specie A')\n",
    "plot_tools.plot_coords(axes, species_B_coord, s=35, color='tab:red', label='specie B')\n",
    "plt.tight_layout()\n",
    "plt.show()\n",
    "\n",
    "print(f'Number of SNAP descriptors: {bcc_binary.Ndesc}')\n",
    "print(f'Ni SNAP parameters: {bcc_binary.pot.Theta_dict[\"Ni\"][\"Theta\"][:5]}...')\n",
    "print(f'Mo SNAP parameters: {bcc_binary.pot.Theta_dict[\"Mo\"][\"Theta\"][:5]}...')"
   ]
  },
  {
   "cell_type": "markdown",
   "metadata": {},
   "source": [
    "## BCC  with self-interstitial atom (SIA) defect\n",
    "\n",
    "* `SIA_pos`: Coordinates of the self-interstitial atom in lattice units. If None, the default position is 0.25 + origin_pos."
   ]
  },
  {
   "cell_type": "code",
   "execution_count": 17,
   "metadata": {},
   "outputs": [
    {
     "data": {
      "image/png": "[encoded data removed]",
      "text/plain": [
       "<Figure size 1000x500 with 3 Axes>"
      ]
     },
     "metadata": {},
     "output_type": "display_data"
    }
   ],
   "source": [
    "alat = 3.18\n",
    "bcc_SIA = BCC_SIA(alat=alat, ncell_x=2, minimize=False,\n",
    "                  snapcoeff_filename = 'W_REF.snapcoeff', verbose=False)\n",
    "\n",
    "# Plot the coordinates of the atoms in XY, XZ, and YZ planes\n",
    "fig, axes = plt.subplots(1, 3, figsize=(10, 5))\n",
    "plot_tools.plot_coords(axes, bcc_SIA.X_coord.reshape(-1, 3), s=35, label='BCC lattice')\n",
    "SIA_pos_2D = bcc_SIA.SIA_pos_lat_units.reshape(1, 3) * alat\n",
    "plot_tools.plot_coords(axes, SIA_pos_2D, s=60, color='tab:red', label='SIA atom')\n",
    "plt.tight_layout()\n",
    "plt.show()"
   ]
  },
  {
   "cell_type": "markdown",
   "metadata": {},
   "source": [
    "## `FromData` class: Initialize a system from a LAMMPS-data file\n",
    "\n",
    "* `datafile`: LAMMPS data file name"
   ]
  },
  {
   "cell_type": "code",
   "execution_count": 18,
   "metadata": {},
   "outputs": [
    {
     "name": "stdout",
     "output_type": "stream",
     "text": [
      "Energy of new_system (eV): -22.258871\n",
      "Number of atoms in new_system: 4\n"
     ]
    }
   ],
   "source": [
    "# For demonstration purposes, create a LAMMPS data file\n",
    "system = BCC(alat=3.175, ncell_x=2, ncell_y=1, ncell_z=1, minimize=True, logname=None,\n",
    "             snapcoeff_filename='W_REF.snapcoeff', fix_box_relax=False, verbose=False)\n",
    "system.write_data('test.data')\n",
    "\n",
    "# Create a FromData class instance\n",
    "new_system = FromData(datafile='test.data', snapcoeff_filename='W_REF.snapcoeff', verbose=False)\n",
    "\n",
    "# To check, print the energy\n",
    "print(f'Energy of new_system (eV): {new_system.energy:.6f}')\n",
    "print(f'Number of atoms in new_system: {new_system.Natom}')"
   ]
  },
  {
   "cell_type": "markdown",
   "metadata": {},
   "source": [
    "### `FromData` object with an input script\n",
    "\n",
    "* `input_script`: alternatively, specify a text input script to inialize an object"
   ]
  },
  {
   "cell_type": "code",
   "execution_count": 19,
   "metadata": {},
   "outputs": [
    {
     "name": "stdout",
     "output_type": "stream",
     "text": [
      "Energy of new_system2 (eV): -22.258871\n",
      "Number of atoms in new_system2: 4\n"
     ]
    }
   ],
   "source": [
    "input_script = \"\"\"\n",
    "        atom_modify map array sort 0 0.0\n",
    "        units metal\n",
    "        boundary p p p\n",
    "        lattice bcc 3.175 origin 0.01 0.01 0.01\n",
    "        region C block 0 2 0 1 0 1 units lattice\n",
    "        create_box 1 C\n",
    "        create_atoms 1 region C\n",
    "        mass * 184.\n",
    "\"\"\"\n",
    "\n",
    "\n",
    "new_system2 = FromData(input_script=input_script, snapcoeff_filename='W_REF.snapcoeff', verbose=False)\n",
    "\n",
    "print(f'Energy of new_system2 (eV): {new_system2.energy:.6f}')\n",
    "print(f'Number of atoms in new_system2: {new_system2.Natom}')"
   ]
  },
  {
   "cell_type": "markdown",
   "metadata": {},
   "source": [
    "## Create a new system\n",
    "\n",
    "The fastest way to create a new atomic system is use the `FromData` class with a LAMMPS data file.\n",
    "\n",
    " More 'sustainable' way to do so, is to create a new child class from `LammpsImplicitDer`, as shown below.\n",
    "\n",
    " For example, let us create a BCC lattice with two vacanies. We will create a BCC lattice with LAMMPS commands and manually delete the atoms with ID's 1 and 2."
   ]
  },
  {
   "cell_type": "code",
   "execution_count": 20,
   "metadata": {},
   "outputs": [],
   "source": [
    "class BCC_two_vac(LammpsImplicitDer):\n",
    "    def __init__(self,\n",
    "                 ncell_x=2,\n",
    "                 alat=3.1855,\n",
    "                 element_mass=183.84,\n",
    "                 *args, **kwargs):\n",
    "\n",
    "        # Inherit the parent initialization first\n",
    "        super().__init__(*args, **kwargs)\n",
    "\n",
    "        # Set some basic attributes\n",
    "        self.alat = alat\n",
    "        self.ncell_x = ncell_x\n",
    "        self.element_mass = element_mass\n",
    "\n",
    "        # Create a SNAP potential instance\n",
    "        self.pot = SNAP.from_files(self.snapcoeff_filename,\n",
    "                                   data_path=self.data_path,\n",
    "                                   snapparam_filename=self.snapparam_filename, comm=self.comm)\n",
    "\n",
    "        # Set the BCC_two_vac Theta parameters to the first element in the SNAP potential\n",
    "        self.element = self.pot.elem_list[0]\n",
    "        self.Theta = self.pot.Theta_dict[self.element]['Theta']\n",
    "\n",
    "        # Initialize the lattice\n",
    "        self.lmp_commands_string(f\"\"\"\n",
    "        boundary p p p\n",
    "        lattice bcc {self.alat} origin 0.01 0.01 0.01\n",
    "\n",
    "        # create a block of atoms\n",
    "        region C block 0 {self.ncell_x} 0 {self.ncell_x} 0 {self.ncell_x} units lattice\n",
    "        create_box 1 C\n",
    "\n",
    "        # add atoms\n",
    "        create_atoms 1 region C\n",
    "        \"\"\")\n",
    "\n",
    "        # Delete two atoms with ID's 1 and 2\n",
    "        self.lmp_commands_string(f\"\"\"\n",
    "        # delete one atom\n",
    "        # Create a group called 'del' with the atom to be deleted\n",
    "        group del id 1 2\n",
    "        delete_atoms group del\n",
    "        \"\"\")\n",
    "\n",
    "        # Set up the mass (not important for molecular statics)\n",
    "        self.lmp_commands_string(f'mass * {self.element_mass}')\n",
    "\n",
    "        # Run the initilization (setup SNAP in LAMMPS, gather from LAMMPS the coordinates, descriptors, etc.)\n",
    "        self.run_init()"
   ]
  },
  {
   "cell_type": "code",
   "execution_count": 21,
   "metadata": {},
   "outputs": [
    {
     "data": {
      "image/png": "[encoded data removed]",
      "text/plain": [
       "<Figure size 1000x500 with 3 Axes>"
      ]
     },
     "metadata": {},
     "output_type": "display_data"
    },
    {
     "name": "stdout",
     "output_type": "stream",
     "text": [
      "Number of atomis in bcc_two_vac: 14\n"
     ]
    }
   ],
   "source": [
    "# Create a BCC_two_vac instance and minimize with fixed lattice parameter (fix_box_relax=False)\n",
    "bcc_two_vac = BCC_two_vac(alat=3.18, snapcoeff_filename='W_REF.snapcoeff', minimize=True, fix_box_relax=False,\n",
    "                          verbose=False, comm=comm)\n",
    "\n",
    "# Plot the coordinates of the atoms in XY, XZ, and YZ planes\n",
    "fig, axes = plt.subplots(1, 3, figsize=(10, 5))\n",
    "plot_tools.plot_coords(axes, bcc_two_vac.X_coord.reshape(-1, 3), s=35)\n",
    "plt.tight_layout()\n",
    "plt.show()\n",
    "\n",
    "print(f'Number of atomis in bcc_two_vac: {bcc_two_vac.Natom}')"
   ]
  },
  {
   "cell_type": "code",
   "execution_count": null,
   "metadata": {},
   "outputs": [],
   "source": []
  }
 ],
 "metadata": {
  "kernelspec": {
   "display_name": "jax",
   "language": "python",
   "name": "python3"
  },
  "language_info": {
   "codemirror_mode": {
    "name": "ipython",
    "version": 3
   },
   "file_extension": ".py",
   "mimetype": "text/x-python",
   "name": "python",
   "nbconvert_exporter": "python",
   "pygments_lexer": "ipython3",
   "version": "3.10.12"
  }
 },
 "nbformat": 4,
 "nbformat_minor": 2
}
