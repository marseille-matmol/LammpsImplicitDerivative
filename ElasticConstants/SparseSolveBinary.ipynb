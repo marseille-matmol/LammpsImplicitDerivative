{
 "cells": [
  {
   "cell_type": "code",
   "execution_count": 1,
   "metadata": {},
   "outputs": [],
   "source": [
    "import numpy as np\n",
    "import matplotlib.pyplot as plt\n",
    "line = lambda v: np.linspace(v.min(),v.max(),11)\n",
    "from SimpleLammps import SimpleLammps, NiMo_potential_data"
   ]
  },
  {
   "cell_type": "markdown",
   "metadata": {},
   "source": [
    "Under some perturbation $\\delta{\\bf X}\\in\\mathbb{R}^{3N}$ from ${\\bf X}_0$ the forces change as:\n",
    "$$\n",
    "    {\\bf F}({\\bf X}_0+\\delta{\\bf X}) = {\\bf F}_0 + {\\bf H}_0\\delta{\\bf X} + \\mathcal{O}(\\|\\delta{\\bf X}\\|^2),\n",
    "$$\n",
    "where ${\\bf F}_0$ and ${\\bf H}_0$ are the reference forces and Hessian. In our applications, ${\\bf F}_0={\\bf 0}$.\n",
    "\n",
    "Rather than calculate and store ${\\bf H}_0$ explicitly we can replace ${\\bf H}_0\\delta{\\bf X}$ by the linear operator\n",
    "$\\mathcal{L}:\\mathbb{R}^{3N}\\to\\mathbb{R}^{3N}$:\n",
    "$$\n",
    "    \\mathcal{L}_\\alpha(\\delta{\\bf X}) \\equiv \\left({\\bf F}({\\bf X}+\\alpha\\delta{\\bf X}) - {\\bf F}_0\\right)/\\alpha,\n",
    "    \\quad\n",
    "    \\Rightarrow\n",
    "    \\lim_{\\alpha\\to0} \\mathcal{L}_\\alpha(\\delta{\\bf X}) = {\\bf H}_0\\delta{\\bf X}.\n",
    "$$\n",
    "which can be used, via `scipy.sparse.linalg.LinearOperator`, in numerical solution schemes such as `lgmres` or similar\n",
    "\n",
    "Providing displacements are small this should work....\n",
    "\n",
    "\n",
    "We manually prescribe the coefficients a binary SNAP potential for NiMo- https://doi.org/10.1103/PhysRevB.98.094104"
   ]
  },
  {
   "cell_type": "code",
   "execution_count": 13,
   "metadata": {},
   "outputs": [
    {
     "name": "stdout",
     "output_type": "stream",
     "text": [
      "MINIMIZED\n"
     ]
    }
   ],
   "source": [
    "\n",
    "strength = 0.03\n",
    "\n",
    "new_potential_data = NiMo_potential_data.copy()\n",
    "p_dT = np.zeros_like(new_potential_data['A']['theta'])\n",
    "\n",
    "new_potential_data['A']['theta'] += p_dT\n",
    "new_potential_data['B']['theta'] += p_dT\n",
    "\n",
    "S = SimpleLammps(potential = new_potential_data,\n",
    "    start_script=\"\"\"\n",
    "    region C block 0 2 0 2 0 3 units lattice\n",
    "    create_box 2 C\n",
    "    create_atoms 1 region C\n",
    "    set group all type/fraction 2 0.5 12393\n",
    "    #group del id 10\n",
    "    #delete_atoms group del\n",
    "\"\"\")\n",
    "\n",
    "print(\"MINIMIZED\")\n",
    "\n",
    "dDdV = S.get_dilation_dD()\n",
    "T = S.Theta\n",
    "dT = strength * np.random.uniform(-1.,1.,size=(T.size))*T.flatten()\n",
    "# ensure perturbation does not change dE/dV slope\n",
    "P = np.outer(dDdV,dDdV)/(dDdV@dDdV)\n",
    "dT -= P@dT"
   ]
  },
  {
   "cell_type": "code",
   "execution_count": 12,
   "metadata": {},
   "outputs": [
    {
     "name": "stdout",
     "output_type": "stream",
     "text": [
      "\n",
      "    dE (all orders):\n",
      "        True  : 0.9353 ( E(X+dX) - E(X) )\n",
      "        Taylor: 0.9305 ( f.dT - dT.Cg.dT/2 )\n",
      "        Mixed : 0.9306 ( E(X+g.dT) - E(X) )\n",
      "    \n",
      "   \n",
      "    dE - f.dT (removed first order change)\n",
      "        True: -0.0006\n",
      "        Taylor: -0.0054 (786.69%)\n",
      "        Mixed: -0.0053 (776.79%)\n",
      "        \n",
      "    \n",
      "    dX MAE = 0.0057\n",
      "\n"
     ]
    }
   ],
   "source": [
    "\n",
    "pred_dE,pred_dX = S.perturb(dT,method=\"Hessian\")\n",
    "\n",
    "E0 = S.get_E(np.zeros_like(pred_dX),np.zeros_like(dT))\n",
    "\n",
    "pred_alt_dE = S.get_E(pred_dX,dT) - E0\n",
    "\n",
    "\n",
    "first_order_dE = S.g@dT\n",
    "\n",
    "new_potential_data = NiMo_potential_data.copy()\n",
    "new_potential_data['file_name']='potentials/temp'\n",
    "new_potential_data['A']['theta'] += dT.reshape((2,-1))[0]\n",
    "new_potential_data['B']['theta'] += dT.reshape((2,-1))[1]\n",
    "\n",
    "true_dE,true_dX = S.exact_perturb(dT,new_potential_data)\n",
    "true_alt_dE = S.get_E(true_dX,dT) - E0\n",
    "\n",
    "\n",
    "print(f\"\"\"\n",
    "    dE (all orders):\n",
    "        True  : {np.round(true_dE,4)} ( E(X+dX) - E(X) )\n",
    "        Taylor: {np.round(pred_dE,4)} ( f.dT - dT.Cg.dT/2 )\n",
    "        Mixed : {np.round(pred_alt_dE,4)} ( E(X+g.dT) - E(X) )\n",
    "    \"\"\")\n",
    "true_dE -= first_order_dE\n",
    "pred_dE -= first_order_dE\n",
    "pred_alt_dE -= first_order_dE\n",
    "print(f\"\"\"   \n",
    "    dE - f.dT (removed first order change)\n",
    "        True: {np.round(true_dE,4)}\n",
    "        Taylor: {np.round(pred_dE,4)} ({np.round(100.*pred_dE/true_dE-100.,2)}%)\n",
    "        Mixed: {np.round(pred_alt_dE,4)} ({np.round(100.*pred_alt_dE/true_dE-100.,2)}%)\n",
    "        \n",
    "    \n",
    "    dX MAE = {np.round(np.abs(true_dX.flatten()-pred_dX.flatten()).mean(),4)}\n",
    "\"\"\")"
   ]
  },
  {
   "cell_type": "code",
   "execution_count": 4,
   "metadata": {},
   "outputs": [
    {
     "data": {
      "image/png": "[encoded data removed]",
      "text/plain": [
       "<Figure size 800x400 with 2 Axes>"
      ]
     },
     "metadata": {},
     "output_type": "display_data"
    }
   ],
   "source": [
    "fig,axs = plt.subplots(1,2,figsize=(8,4))\n",
    "axs[0].plot(line(true_dX.flatten()),line(true_dX.flatten()),'k--')\n",
    "axs[0].plot(true_dX.flatten(),pred_dX.flatten(),'.')\n",
    "b = np.linspace(min(true_dX),max(true_dX))\n",
    "axs[1].hist(true_dX.flatten(),bins=b,\n",
    "                            density=True,cumulative=True,\n",
    "                            color='k',histtype='step')\n",
    "axs[1].hist(pred_dX.flatten(),bins=b,\n",
    "                            density=True,cumulative=True,\n",
    "                            color='C0',histtype='step')\n",
    "plt.show()\n"
   ]
  },
  {
   "cell_type": "code",
   "execution_count": 44,
   "metadata": {},
   "outputs": [],
   "source": [
    "S = SimpleLammps(potential = new_potential_data,\n",
    "    start_script=\"\"\"\n",
    "    region C block 0 2 0 2 0 2 units lattice\n",
    "    create_box 2 C\n",
    "    create_atoms 1 region C\n",
    "    set group all type/fraction 2 0.5 12393\n",
    "\"\"\")\n",
    "S.L.scatter(\"x\",1,3,np.ctypeslib.as_ctypes(S.x))\n",
    "S.L.commands_string(\"\"\"\n",
    "    fix cv all property/atom d_cx d_cy d_cz\n",
    "    compute d all displace/atom\n",
    "\"\"\")\n"
   ]
  },
  {
   "cell_type": "code",
   "execution_count": 103,
   "metadata": {},
   "outputs": [
    {
     "name": "stderr",
     "output_type": "stream",
     "text": [
      "100%|██████████| 60/60 [00:14<00:00,  4.01it/s]\n",
      "100%|██████████| 96/96 [00:00<00:00, 192.29it/s]\n"
     ]
    },
    {
     "data": {
      "text/plain": [
       "<matplotlib.collections.PathCollection at 0x290683f10>"
      ]
     },
     "execution_count": 103,
     "metadata": {},
     "output_type": "execute_result"
    },
    {
     "data": {
      "image/png": "[encoded data removed]",
      "text/plain": [
       "<Figure size 640x480 with 1 Axes>"
      ]
     },
     "metadata": {},
     "output_type": "display_data"
    }
   ],
   "source": [
    "from tqdm import tqdm\n",
    "\n",
    "S = SimpleLammps(potential = new_potential_data,\n",
    "    start_script=\"\"\"\n",
    "    region C block 0 2 0 2 0 2 units lattice\n",
    "    create_box 2 C\n",
    "    create_atoms 1 region C\n",
    "    set group all type/fraction 2 0.5 12393\n",
    "    min_style fire\n",
    "    mass * 184\n",
    "    minimize 0 1e-10 1000 1000\n",
    "\"\"\")\n",
    "\n",
    "S.L.scatter(\"x\",1,3,np.ctypeslib.as_ctypes(S.x))\n",
    "S.L.commands_string(\"\"\"\n",
    "    fix cv all property/atom d_cx d_cy d_cz\n",
    "    compute d all displace/atom\n",
    "\"\"\")\n",
    "dX_E = []\n",
    "alpha = 0.0005\n",
    "for c in tqdm(S.C.T):\n",
    "    S.L.scatter(\"x\",1,3,np.ctypeslib.as_ctypes(S.x))\n",
    "    for i,c_v in enumerate([\"d_cx\",\"d_cy\",\"d_cz\"]):\n",
    "        v = c.reshape((-1,3))[:,i].astype(np.float64)*alpha\n",
    "        S.L.scatter(c_v,1,1,np.ctypeslib.as_ctypes(v))\n",
    "\n",
    "    S.L.commands_string(\"\"\"\n",
    "        compute c all property/atom d_cx d_cy d_cz\n",
    "        variable fx atom c_c[1]\n",
    "        variable fy atom c_c[2]\n",
    "        variable fz atom c_c[3]\n",
    "        variable e atom v_fx*c_d[1]+v_fy*c_d[2]+v_fz*c_d[3]\n",
    "        fix f all addforce v_fx v_fy v_fz energy v_e\n",
    "        run 0\n",
    "        minimize 0. 1e-10 100 100\n",
    "    \"\"\")\n",
    "    dX_E += [(np.ctypeslib.as_array(S.L.gather(\"x\",1,3)).flatten() - S.x)/alpha]\n",
    "    S.L.commands_string(\"\"\"\n",
    "        uncompute c \n",
    "        unfix f\n",
    "    \"\"\")\n",
    "S.L.commands_string(\"\"\"\n",
    "            variable fx delete\n",
    "            variable fy delete\n",
    "            variable fz delete\n",
    "        \"\"\")\n",
    "dX_E = np.array(dX_E) \n",
    "dX_H = S.implicit_derivative(method=\"Hessian\")\n",
    "plt.scatter(dX_E.flatten(),dX_H.flatten())\n"
   ]
  },
  {
   "cell_type": "code",
   "execution_count": 102,
   "metadata": {},
   "outputs": [
    {
     "data": {
      "text/plain": [
       "<matplotlib.collections.PathCollection at 0x2907b5750>"
      ]
     },
     "execution_count": 102,
     "metadata": {},
     "output_type": "execute_result"
    },
    {
     "data": {
      "image/png": "[encoded data removed]",
      "text/plain": [
       "<Figure size 640x480 with 1 Axes>"
      ]
     },
     "metadata": {},
     "output_type": "display_data"
    }
   ],
   "source": [
    "plt.scatter(dX_E[0],dX_H[0])"
   ]
  },
  {
   "cell_type": "code",
   "execution_count": null,
   "metadata": {},
   "outputs": [],
   "source": [
    "        elif method==\"EnergyFix\":\n",
    "\n",
    "            self.L.scatter(\"x\",1,3,np.ctypeslib.as_ctypes(self.x))\n",
    "            \n",
    "            self.L.commands_string(\"\"\"\n",
    "                fix cv all property/atom d_cx d_cy d_cz\n",
    "                compute d all displace/atom\n",
    "            \"\"\")\n",
    "\n",
    "            for c in tqdm(self.C.T):\n",
    "                for i,c in enumerate([\"d_cx\",\"d_cy\",\"d_cz\"]):\n",
    "                    self.L.scatter(c,c.reshape((-1,3))[:,i])\n",
    "                \n",
    "                self.L.commands_string(\"\"\"\n",
    "                    variable e atom d_cx*c_d[1]+d_cy*c_d[2]+d_cz*c_d[3]\n",
    "                    compute f all addforce d_cx[*] d_cy[*] d_cz[*] energy v_e\n",
    "                \"\"\")\n"
   ]
  },
  {
   "cell_type": "code",
   "execution_count": null,
   "metadata": {},
   "outputs": [],
   "source": [
    "\n",
    "            \n",
    "\n",
    "            res = self.implicit_derivative(return_values=False)\n",
    "            print(\"Total force calls:\",res['calls'],sum(res['calls']))\n",
    "            elif method==\"EnergyFix\":\n",
    "                res = self.i\n",
    "                self.L.commands_string\n",
    "\n",
    "\n",
    "\n",
    "        dX0 = np.zeros_like(self.x) # initial displacements\n",
    "        F0 = self.compute_forces(dX0,alpha) # reinitialize LAMMPS\n",
    "\n",
    "        # define linear operator with matrix-vector product mv()\n",
    "        def mv(dx):\n",
    "            alpha = 0.005/max(np.abs(dx).max(),1.0)\n",
    "            return (F0-self.compute_forces(dx,alpha))/alpha\n",
    "        L = LinearOperator((self.N,self.N),matvec=mv,rmatvec=mv)\n",
    "        \n",
    "        \n",
    "\n",
    "        # result holder\n",
    "        res = {'dX':[],'err':[],'calls':[]}\n",
    "        \n",
    "        # One linear solutions per parameter\n",
    "        for c in tqdm(self.C.T):\n",
    "            \n",
    "            # perform iterative linear solution routine\n",
    "            ss = self.step\n",
    "            dX = bicg(L,c,x0=np.zeros_like(c))[0]\n",
    "            \n",
    "            # log results\n",
    "            res['dX'] += [dX]\n",
    "            res['err'] += [np.linalg.norm(mv(dX)-c)]\n",
    "            res['calls'] += [self.step-ss]\n",
    "        \n",
    "        # convert to dictionary of numpy arrays\n",
    "        res = {k: np.array(res[k]) for k in res}\n",
    "\n",
    "        # store internally\n",
    "        self.dX = res['dX'].copy()\n",
    "\n",
    "        # return values\n",
    "        return res"
   ]
  }
 ],
 "metadata": {
  "kernelspec": {
   "display_name": "jax-md",
   "language": "python",
   "name": "python3"
  },
  "language_info": {
   "codemirror_mode": {
    "name": "ipython",
    "version": 3
   },
   "file_extension": ".py",
   "mimetype": "text/x-python",
   "name": "python",
   "nbconvert_exporter": "python",
   "pygments_lexer": "ipython3",
   "version": "3.11.0"
  },
  "orig_nbformat": 4
 },
 "nbformat": 4,
 "nbformat_minor": 2
}
