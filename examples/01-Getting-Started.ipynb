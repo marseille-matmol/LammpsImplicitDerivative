{
 "cells": [
  {
   "cell_type": "markdown",
   "metadata": {},
   "source": [
    "# Getting Started: Basic System Properties\n",
    "\n",
    "Here, we present the basic properties of the LAMMPS-derived classes that will be later used for the implicit derivative calculations.\n",
    "\n",
    "Currently, only the **linear-in-descriptor SNAP potentials** are used."
   ]
  },
  {
   "cell_type": "code",
   "execution_count": 1,
   "metadata": {},
   "outputs": [],
   "source": [
    "# Standard libraries\n",
    "import os\n",
    "import numpy as np\n",
    "import pickle\n",
    "import matplotlib.pyplot as plt\n",
    "\n",
    "# No parallel MPI runs in the notebook, but keep comm for consistency\n",
    "comm = None"
   ]
  },
  {
   "cell_type": "markdown",
   "metadata": {},
   "source": [
    "### Import the package classes and functions"
   ]
  },
  {
   "cell_type": "code",
   "execution_count": 2,
   "metadata": {},
   "outputs": [],
   "source": [
    "from lammps_implicit_der import SNAP, LammpsImplicitDer\n",
    "from lammps_implicit_der.systems import BCC, BCC_BINARY, BCC_BINARY_VACANCY, BCC_VACANCY, BCC_SIA, FromData, HCP\n",
    "from lammps_implicit_der.tools import plot_tools"
   ]
  },
  {
   "cell_type": "markdown",
   "metadata": {},
   "source": [
    "### Create a BCC system\n",
    "\n",
    "As an instance of the `BCC` class. `BCC` is a child class of `LammpsImplicitDer`."
   ]
  },
  {
   "cell_type": "code",
   "execution_count": 3,
   "metadata": {},
   "outputs": [
    {
     "name": "stdout",
     "output_type": "stream",
     "text": [
      "\n",
      "--------------------------------------------------------------------------------\n",
      "Running LAMMPS with the following arguments:\n",
      "-screen none -log bcc.log\n",
      "\n",
      "WARNING: bcc_commands.lammps already exists, renaming it to bcc_commands.lammps.old\n",
      "Setting SNAP potential\n",
      "\n",
      "                  SNAP coefficients for: W\n",
      "                          quadraticflag: 0\n",
      " Number of parameters (excluding beta0): 55\n",
      "                                Element:  W  |  R =  0.5000 w =  1.0000\n",
      "\n",
      "Number of atoms: 16, largest force value: 6.051e-15, force norm: 2.335e-14\n"
     ]
    }
   ],
   "source": [
    "bcc_pure = BCC(alat=3.18, ncell_x=2, minimize=False,\n",
    "               logname='bcc.log', lmp_cmd_filename='bcc_commands.lammps',\n",
    "               snapcoeff_filename='W_REF.snapcoeff', verbose=True, comm=comm)"
   ]
  },
  {
   "cell_type": "markdown",
   "metadata": {},
   "source": [
    "Here we used the following input arguments:\n",
    "\n",
    "* `alat`: lattice parameter in Angstroms\n",
    "* `ncell_x`: number of BCC unit cells in the x-direction. If `ncell_y` and `ncell_z` are not specified, they will be equal to `ncell_x`\n",
    "* `minimize`: minimize the atomic positions\n",
    "* `logname`: LAMMPS log file name\n",
    "* `lmp_command_filename`: filename containing all the LAMMPS commands sent to LAMMPS for an object\n",
    "* `snapcoeff_filename`: filename of the SNAP coefficients file. If `snapparam_filename` is not specified, it will be guessed by changing the `.snapcoeff` suffix to `.snapparam`\n",
    "* `verbose`: output the system information\n",
    "* `comm`: MPI communicator for parallel runs, here it is `None`. To initialize a communicator add to the script (requires `mpi4py`):\n",
    "```python\n",
    "from lammps_implicit_der.tools import mpi_print, initialize_mpi\n",
    "comm, rank = initialize_mpi()\n",
    "```\n",
    "\n",
    "Refer to the docstring documentation of the `LammpsImplicitDer` class (`./lammps_implicit_der/lmp_der/implicit_der.py` file) and `BCC` child class (`./lammps_implicit_der/systems/bcc_lattices.py` file) for the full list of input parameters."
   ]
  },
  {
   "cell_type": "markdown",
   "metadata": {},
   "source": [
    "### Lammps object within the class\n",
    "\n",
    "Under the hood, at the initialization stage, the `BCC` class creates a LAMMPS instance:\n",
    "\n",
    "```python\n",
    "self.lmp = lammps(cmdargs=self.cmdargs, comm=self.comm)\n",
    "```\n",
    "\n",
    "Working with `BCC` or any child class consists in sending commands and data to and receiving data from LAMMPS at runtime. All the commands sent to lammps will be stored in the `lmp_command_filename` file. The LAMMPS logs will be printed out in the `logname` file."
   ]
  },
  {
   "cell_type": "markdown",
   "metadata": {},
   "source": [
    "### Manually send a command to LAMMPS"
   ]
  },
  {
   "cell_type": "code",
   "execution_count": 4,
   "metadata": {},
   "outputs": [],
   "source": [
    "bcc_pure.lmp_commands_string(\"run 0\")"
   ]
  },
  {
   "cell_type": "markdown",
   "metadata": {},
   "source": [
    "### Save the system to a LAMMPS data file"
   ]
  },
  {
   "cell_type": "code",
   "execution_count": 5,
   "metadata": {},
   "outputs": [
    {
     "name": "stdout",
     "output_type": "stream",
     "text": [
      "LAMMPS data file via write_data, version 2 Aug 2023, timestep = 0, units = metal\n",
      "\n",
      "16 atoms\n",
      "1 atom types\n",
      "\n",
      "0 6.36 xlo xhi\n",
      "0 6.36 ylo yhi\n",
      "0 6.36 zlo zhi\n",
      "\n",
      "Masses\n",
      "\n",
      "1 183.84\n",
      "...\n"
     ]
    }
   ],
   "source": [
    "bcc_pure.write_data('bcc_pure.data')\n",
    "\n",
    "# First 12 lines of the data file\n",
    "with open('bcc_pure.data', 'r') as f:\n",
    "    for i in range(12):\n",
    "        print(f.readline().strip())\n",
    "print('...')"
   ]
  },
  {
   "cell_type": "markdown",
   "metadata": {},
   "source": [
    "### Save the coordinates of the systems to a .xyz file"
   ]
  },
  {
   "cell_type": "code",
   "execution_count": 6,
   "metadata": {},
   "outputs": [
    {
     "name": "stdout",
     "output_type": "stream",
     "text": [
      "16\n",
      "Atomic coordinates generated by LammpsImplicitDer\n",
      "W 0.031800 0.031800 0.031800\n",
      "W 1.621800 1.621800 1.621800\n",
      "W -3.148200 0.031800 0.031800\n",
      "...\n"
     ]
    }
   ],
   "source": [
    "bcc_pure.write_xyz_file('bcc_pure.xyz')\n",
    "\n",
    "# First 5 lines of the xyz file\n",
    "with open('bcc_pure.xyz', 'r') as f:\n",
    "    for i in range(5):\n",
    "        print(f.readline().strip())\n",
    "print('...')"
   ]
  },
  {
   "cell_type": "markdown",
   "metadata": {},
   "source": [
    "## Properties\n",
    "\n"
   ]
  },
  {
   "cell_type": "code",
   "execution_count": 7,
   "metadata": {},
   "outputs": [
    {
     "name": "stdout",
     "output_type": "stream",
     "text": [
      "Number of atoms: 16\n",
      "Number of SNAP descriptors: 55\n"
     ]
    }
   ],
   "source": [
    "print(f'Number of atoms: {bcc_pure.Natom}')\n",
    "print(f'Number of SNAP descriptors: {bcc_pure.Ndesc}')"
   ]
  },
  {
   "cell_type": "markdown",
   "metadata": {},
   "source": [
    "### Coordinates and minimum image convention\n",
    "\n",
    "Coordinates can be accessed as `self.X_coord`, which is a flattened array of positions, so it has a shape of `(3 * Natom)`"
   ]
  },
  {
   "cell_type": "code",
   "execution_count": 8,
   "metadata": {},
   "outputs": [
    {
     "name": "stdout",
     "output_type": "stream",
     "text": [
      "(48,)\n",
      "Coordinates of 3rd atom: [-3.1482  0.0318  0.0318]\n"
     ]
    }
   ],
   "source": [
    "#Retrieve the coordinates of the atoms\n",
    "X_coord = bcc_pure.X_coord.copy()\n",
    "print(X_coord.shape)\n",
    "\n",
    "# Rehape the coordinates\n",
    "X_coord_3D = X_coord.reshape(-1, 3)\n",
    "print(f'Coordinates of 3rd atom: {X_coord_3D[2]}')"
   ]
  },
  {
   "cell_type": "markdown",
   "metadata": {},
   "source": [
    "### Minimum image convention is automatically applied when `self.X_coord` is assigned with a new array "
   ]
  },
  {
   "cell_type": "code",
   "execution_count": 9,
   "metadata": {},
   "outputs": [
    {
     "name": "stdout",
     "output_type": "stream",
     "text": [
      "1.040\n"
     ]
    }
   ],
   "source": [
    "# Assign a very large coordinate to check the minimum image convention\n",
    "X_coord_test = X_coord.copy()\n",
    "X_coord_test[5] = 5000\n",
    "bcc_pure.X_coord = X_coord_test\n",
    "print(f'{bcc_pure.X_coord[5]:.3f}')\n",
    "bcc_pure.X_coord = X_coord"
   ]
  },
  {
   "cell_type": "markdown",
   "metadata": {},
   "source": [
    "Note that in the cell above, we changed `X_coord` and applied the minimum image convention. However, these coordinates were not sent to LAMMPS. To do that, one has to manually scatter the coordinates: "
   ]
  },
  {
   "cell_type": "code",
   "execution_count": 10,
   "metadata": {},
   "outputs": [],
   "source": [
    "bcc_pure.scatter_coord()"
   ]
  },
  {
   "cell_type": "markdown",
   "metadata": {},
   "source": [
    "### Simulation box"
   ]
  },
  {
   "cell_type": "code",
   "execution_count": 11,
   "metadata": {},
   "outputs": [
    {
     "name": "stdout",
     "output_type": "stream",
     "text": [
      "[[6.36 0.   0.  ]\n",
      " [0.   6.36 0.  ]\n",
      " [0.   0.   6.36]]\n"
     ]
    }
   ],
   "source": [
    "cell = bcc_pure.cell.copy()\n",
    "print(f'{cell}')"
   ]
  },
  {
   "cell_type": "markdown",
   "metadata": {},
   "source": [
    "### Energy\n",
    "\n",
    "Can be accessed as `self.energy`. The energy is _updated_ every time (with LAMMPS `thermo_pe` command) the attribute is accessed. "
   ]
  },
  {
   "cell_type": "code",
   "execution_count": 12,
   "metadata": {},
   "outputs": [
    {
     "name": "stdout",
     "output_type": "stream",
     "text": [
      "Energy of the system (eV): -89.055528\n"
     ]
    }
   ],
   "source": [
    "print(f'Energy of the system (eV): {bcc_pure.energy:.6f}')"
   ]
  },
  {
   "cell_type": "markdown",
   "metadata": {},
   "source": [
    "### Forces\n",
    "\n",
    "$$ \\nabla_X U(\\mathbf{X}, \\mathbf{\\Theta}) \\in \\mathbb{R}^{3N}$$"
   ]
  },
  {
   "cell_type": "code",
   "execution_count": 13,
   "metadata": {},
   "outputs": [
    {
     "name": "stdout",
     "output_type": "stream",
     "text": [
      "Forces shape: (48,)\n"
     ]
    }
   ],
   "source": [
    "force_array = bcc_pure.compute_forces()\n",
    "print(f'Forces shape: {force_array.shape}')"
   ]
  },
  {
   "cell_type": "markdown",
   "metadata": {},
   "source": [
    "### Virial\n",
    "6 virial components per atom, per descriptor: $V_{xx}, V_{yy}, V_{zz}, V_{yz}, V_{xz}, V_{xy}$"
   ]
  },
  {
   "cell_type": "code",
   "execution_count": 22,
   "metadata": {},
   "outputs": [
    {
     "name": "stdout",
     "output_type": "stream",
     "text": [
      "Number of atoms: 16\n",
      "Number of SNAP descriptors: 55\n",
      "Virial tensor shape: (16, 6, 55)\n"
     ]
    }
   ],
   "source": [
    "bcc_pure.gather_virial()\n",
    "print(f'Number of atoms: {bcc_pure.Natom}')\n",
    "print(f'Number of SNAP descriptors: {bcc_pure.Ndesc}')\n",
    "print(f'Virial tensor shape: {bcc_pure.virial.shape}')"
   ]
  },
  {
   "cell_type": "markdown",
   "metadata": {},
   "source": [
    "### Pressure"
   ]
  },
  {
   "cell_type": "code",
   "execution_count": 23,
   "metadata": {},
   "outputs": [
    {
     "name": "stdout",
     "output_type": "stream",
     "text": [
      "Pressure: 2.670\n"
     ]
    }
   ],
   "source": [
    "bcc_pure.get_pressure_from_virial()\n",
    "print(f'Pressure: {bcc_pure.pressure:.3f}')"
   ]
  },
  {
   "cell_type": "markdown",
   "metadata": {},
   "source": [
    "### Pressure tensor\n",
    "\n",
    "$\\sigma_{xx}, \\sigma_{yy}, \\sigma_{zz}, \\sigma_{yz}, \\sigma_{xz}, \\sigma_{xy}$"
   ]
  },
  {
   "cell_type": "code",
   "execution_count": 24,
   "metadata": {},
   "outputs": [
    {
     "name": "stdout",
     "output_type": "stream",
     "text": [
      "Pressure tensor: [2.66982613e+00 2.66982613e+00 2.66982613e+00 9.77285790e-16\n",
      " 9.56255809e-15 5.70424499e-15]\n"
     ]
    }
   ],
   "source": [
    "bcc_pure.get_pressure_tensor_from_virial()\n",
    "print(f'Pressure tensor: {bcc_pure.pressure_tensor}')"
   ]
  },
  {
   "cell_type": "markdown",
   "metadata": {},
   "source": [
    "### Position Hessian\n",
    "\n",
    "$$\\nabla_{\\mathbf{X}\\mathbf{X}}U(\\mathbf{X}, \\mathbf{\\Theta}) \\in \\mathbb{R}^{3N\\times 3N}$$\n",
    "\n",
    "Evaluated with a finite-difference scheme"
   ]
  },
  {
   "cell_type": "code",
   "execution_count": 14,
   "metadata": {},
   "outputs": [
    {
     "name": "stdout",
     "output_type": "stream",
     "text": [
      "Computing the Hessian...\n"
     ]
    },
    {
     "name": "stderr",
     "output_type": "stream",
     "text": [
      "Hessian (full): 100%|██████████| 48/48 [00:00<00:00, 52.93it/s]"
     ]
    },
    {
     "name": "stdout",
     "output_type": "stream",
     "text": [
      "Number of atoms: 16\n",
      "Hessian shape: (48, 48)\n"
     ]
    },
    {
     "name": "stderr",
     "output_type": "stream",
     "text": [
      "\n"
     ]
    }
   ],
   "source": [
    "bcc_pure.compute_hessian()\n",
    "print(f'Number of atoms: {bcc_pure.Natom}')\n",
    "print(f'Hessian shape: {bcc_pure.hessian.shape}')"
   ]
  },
  {
   "cell_type": "markdown",
   "metadata": {},
   "source": [
    "### Mixed Hessian\n",
    "\n",
    "$$\\nabla_{\\mathbf{\\Theta}\\mathbf{X}} U(\\mathbf{X}, \\mathbf{\\Theta}) \\in \\mathbb{R}^{N_D \\times 3N}$$\n",
    "\n",
    "For linear-in-descriptor potentials, there is no need in finite diff. schemes as it can be accessed directly from LAMMPS as derivative of potential energy over the potential parameters."
   ]
  },
  {
   "cell_type": "code",
   "execution_count": 15,
   "metadata": {},
   "outputs": [
    {
     "name": "stdout",
     "output_type": "stream",
     "text": [
      "Mixed Hessian shape: (55, 48)\n"
     ]
    }
   ],
   "source": [
    "print(f'Mixed Hessian shape: {bcc_pure.mixed_hessian.shape}')"
   ]
  },
  {
   "cell_type": "markdown",
   "metadata": {},
   "source": [
    "Instead of specifying the LAMMPS data file, one can also provide an input script text with an `input_scipt` option, e.g., `FromData(input_script=...)`."
   ]
  },
  {
   "cell_type": "markdown",
   "metadata": {},
   "source": [
    "# SNAP potential\n",
    "\n",
    "Currently, only SNAP and quadratic SNAP potentials are supported. Every `LammpsImplicitDer` instance (`BCC`, `HCP`, etc.), has a `.pot` object, instance of a `SNAP` class. All the potential-related infromation can be retrieved from it."
   ]
  },
  {
   "cell_type": "code",
   "execution_count": 16,
   "metadata": {},
   "outputs": [
    {
     "name": "stdout",
     "output_type": "stream",
     "text": [
      "General potential information: \n",
      "                  SNAP coefficients for: W\n",
      "                          quadraticflag: 0\n",
      " Number of parameters (excluding beta0): 55\n",
      "                                Element:  W  |  R =  0.5000 w =  1.0000\n",
      "\n"
     ]
    }
   ],
   "source": [
    "print(f'General potential information: {bcc_pure.pot}')"
   ]
  },
  {
   "cell_type": "markdown",
   "metadata": {},
   "source": [
    "Potential parameters $\\mathbf{\\Theta}$ are stored in the `Theta_dict` dictionary:"
   ]
  },
  {
   "cell_type": "code",
   "execution_count": 17,
   "metadata": {},
   "outputs": [
    {
     "name": "stdout",
     "output_type": "stream",
     "text": [
      "Keys of Theta_dict: dict_keys(['W', 'radii', 'weights'])\n",
      "First 5 Theta parameters of W: [0.0144887  0.05682754 0.2706519  0.03159091 0.51600315]\n",
      "beta0 parameter: 0.0\n",
      "Weights: 1.0\n",
      "Radii: 0.5\n",
      "Dictionary of snapparam: {'quadraticflag': 0, 'rcutfac': 5.0, 'twojmax': 8, 'rfac0': 0.99363, 'rmin0': 0, 'bzeroflag': 1, 'bnormflag': 0}\n"
     ]
    }
   ],
   "source": [
    "print(f'Keys of Theta_dict: {bcc_pure.pot.Theta_dict.keys()}')\n",
    "print(f'First 5 Theta parameters of W: {bcc_pure.pot.Theta_dict[\"W\"][\"Theta\"][:5]}')\n",
    "print(f'beta0 parameter: {bcc_pure.pot.Theta_dict[\"W\"][\"beta0\"]}')\n",
    "print(f'Weights: {bcc_pure.pot.Theta_dict[\"weights\"]}')\n",
    "print(f'Radii: {bcc_pure.pot.Theta_dict[\"radii\"]}')\n",
    "print(f'Dictionary of snapparam: {bcc_pure.pot.snapparam_dict}')"
   ]
  },
  {
   "cell_type": "markdown",
   "metadata": {},
   "source": [
    "### Save parameters to a file\n",
    "\n",
    "`SNAP` instances (called `pot` in the cell above) can be created separately, not as an attribute of `LammpsImplicitDer` instance. This can be handy to read the SNAP files, modify the potential and write it down into new files, as shown in the example below."
   ]
  },
  {
   "cell_type": "code",
   "execution_count": 18,
   "metadata": {},
   "outputs": [
    {
     "name": "stdout",
     "output_type": "stream",
     "text": [
      "Overwriting ./W_REF_new.snapcoeff\n",
      "Saved SNAP coefficients to ./W_REF_new.snapcoeff\n",
      "Saved SNAP parameters to ./W_REF_new.snapparam\n"
     ]
    }
   ],
   "source": [
    "pot = SNAP.from_files(snapcoeff_filename='W_REF.snapcoeff', snapparam_filename='W_REF.snapparam')\n",
    "\n",
    "# Modify the potential\n",
    "pot.Theta_dict['W']['Theta'][3] = 7.0\n",
    "\n",
    "# Save the potential to files\n",
    "pot.to_files(snapcoeff_filename='W_REF_new.snapcoeff', snapparam_filename='W_REF_new.snapparam', overwrite=True)"
   ]
  },
  {
   "cell_type": "markdown",
   "metadata": {},
   "source": [
    "## Energy minimization\n",
    "\n",
    "To minimize energy, one can specify `minimize=True` at the creation of a system instance or, equivalently, call a `minimize_energy()` method as shown below for a BCC Vacancy example. "
   ]
  },
  {
   "cell_type": "code",
   "execution_count": 19,
   "metadata": {},
   "outputs": [
    {
     "name": "stdout",
     "output_type": "stream",
     "text": [
      "Non-minimized energy (eV): -291.66197572\n",
      "Minimized energy (eV): -291.74966752\n",
      "Minimized energy of bcc_vacancy2: -291.74966752\n"
     ]
    }
   ],
   "source": [
    "bcc_vacancy = BCC_VACANCY(alat=3.18, ncell_x=3, minimize=False,\n",
    "                          snapcoeff_filename='W_REF.snapcoeff', verbose=False, comm=comm)\n",
    "print(f'Non-minimized energy (eV): {bcc_vacancy.energy:.8f}')\n",
    "\n",
    "# Minimize the energy\n",
    "bcc_vacancy.minimize_energy()\n",
    "print(f'Minimized energy (eV): {bcc_vacancy.energy:.8f}')\n",
    "\n",
    "# Minimize energy at creation of an object\n",
    "bcc_vacancy2 = BCC_VACANCY(alat=3.18, ncell_x=3, minimize=True, snapcoeff_filename='W_REF.snapcoeff', verbose=False)\n",
    "print(f'Minimized energy of bcc_vacancy2: {bcc_vacancy2.energy:.8f}')"
   ]
  },
  {
   "cell_type": "markdown",
   "metadata": {},
   "source": [
    "## Box relaxation\n",
    "To perform the box relaxation, specify `fix_box_relax` option. For non-isotropic relaxation, in addition, specify `box_relax_iso=False` (which is `True` by default)."
   ]
  },
  {
   "cell_type": "code",
   "execution_count": 20,
   "metadata": {},
   "outputs": [
    {
     "name": "stdout",
     "output_type": "stream",
     "text": [
      "Energy of bcc_vacancy_no_box_relax: -80.05472088\n",
      "Energy of bcc_vacancy_with_box_relax: -80.36528097\n",
      "Volume of bcc_vacancy_no_box_relax: 262.14400000\n",
      "Volume of bcc_vacancy_with_box_relax: 253.19481727\n",
      "\n",
      "Cell of bcc_vacancy_no_box_relax: \n",
      "[[6.4 0.  0. ]\n",
      " [0.  6.4 0. ]\n",
      " [0.  0.  6.4]]\n",
      "\n",
      "Cell of bcc_vacancy_with_box_relax: \n",
      "[[6.32632653 0.         0.        ]\n",
      " [0.         6.32632653 0.        ]\n",
      " [0.         0.         6.32632653]]\n"
     ]
    }
   ],
   "source": [
    "bcc_vacancy_no_box_relax = BCC_VACANCY(alat=3.2, ncell_x=2, minimize=True,\n",
    "                                       snapcoeff_filename='W_REF.snapcoeff', verbose=False, comm=comm)\n",
    "bcc_vacancy_with_box_relax = BCC_VACANCY(alat=3.2, ncell_x=2, minimize=True, fix_box_relax=True, box_relax_iso=True,\n",
    "                                         snapcoeff_filename='W_REF.snapcoeff', verbose=False, comm=comm)\n",
    "\n",
    "print(f'Energy of bcc_vacancy_no_box_relax: {bcc_vacancy_no_box_relax.energy:.8f}')\n",
    "print(f'Energy of bcc_vacancy_with_box_relax: {bcc_vacancy_with_box_relax.energy:.8f}')\n",
    "print(f'Volume of bcc_vacancy_no_box_relax: {bcc_vacancy_no_box_relax.volume:.8f}')\n",
    "print(f'Volume of bcc_vacancy_with_box_relax: {bcc_vacancy_with_box_relax.volume:.8f}')\n",
    "print('')\n",
    "print(f'Cell of bcc_vacancy_no_box_relax: \\n{bcc_vacancy_no_box_relax.cell}')\n",
    "print('')\n",
    "print(f'Cell of bcc_vacancy_with_box_relax: \\n{bcc_vacancy_with_box_relax.cell}')"
   ]
  }
 ],
 "metadata": {
  "kernelspec": {
   "display_name": "jax",
   "language": "python",
   "name": "python3"
  },
  "language_info": {
   "codemirror_mode": {
    "name": "ipython",
    "version": 3
   },
   "file_extension": ".py",
   "mimetype": "text/x-python",
   "name": "python",
   "nbconvert_exporter": "python",
   "pygments_lexer": "ipython3",
   "version": "3.10.12"
  }
 },
 "nbformat": 4,
 "nbformat_minor": 2
}
