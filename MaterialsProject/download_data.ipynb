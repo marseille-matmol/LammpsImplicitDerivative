{
 "cells": [
  {
   "cell_type": "code",
   "execution_count": 127,
   "metadata": {},
   "outputs": [],
   "source": [
    "from mp_api.client import MPRester\n",
    "from mp_api.client.routes.materials.elasticity import ElasticityRester\n",
    "import tqdm,os\n",
    "import numpy as np\n"
   ]
  },
  {
   "cell_type": "code",
   "execution_count": 1,
   "metadata": {},
   "outputs": [
    {
     "name": "stdout",
     "output_type": "stream",
     "text": [
      "None\n"
     ]
    }
   ],
   "source": [
    "import os\n",
    "\n",
    "env_var = os.environ.get(\"MP_API_KEY\")\n",
    "print(env_var)\n"
   ]
  },
  {
   "cell_type": "markdown",
   "metadata": {},
   "source": [
    "Download all elasticity data from materials project\n",
    "\n",
    "- beware that GPT autocomplete is biased by legacy API! The suggestions do not work!"
   ]
  },
  {
   "cell_type": "code",
   "execution_count": 76,
   "metadata": {},
   "outputs": [
    {
     "name": "stderr",
     "output_type": "stream",
     "text": [
      "Retrieving ElasticityDoc documents: 100%|██████████| 12392/12392 [00:23<00:00, 524.10it/s]\n"
     ]
    }
   ],
   "source": [
    "mpr = ElasticityRester(API_KEY)\n",
    "elastic_data = mpr.search(fields=['elastic_tensor','shear_modulus','bulk_modulus','structure','nelements'])"
   ]
  },
  {
   "cell_type": "markdown",
   "metadata": {},
   "source": [
    "Filter all single element systems and extract 6x6 elastic constant tensor"
   ]
  },
  {
   "cell_type": "code",
   "execution_count": 111,
   "metadata": {},
   "outputs": [
    {
     "name": "stderr",
     "output_type": "stream",
     "text": [
      "100%|██████████| 12392/12392 [00:00<00:00, 3202847.87it/s]"
     ]
    },
    {
     "name": "stdout",
     "output_type": "stream",
     "text": [
      "\n",
      "Elastic Tensors Shape: (281, 6, 6)\n",
      "\n"
     ]
    },
    {
     "name": "stderr",
     "output_type": "stream",
     "text": [
      "\n"
     ]
    }
   ],
   "source": [
    "elastic_tensors = []\n",
    "for m in tqdm.tqdm(elastic_data):\n",
    "    if m.nelements>1: \n",
    "        continue\n",
    "    if m.elastic_tensor is not None:\n",
    "        C11 = m.elastic_tensor.ieee_format[0][0]\n",
    "        if C11<1e5 and C11>0.0: # sanity check\n",
    "            elastic_tensors += [m.elastic_tensor.ieee_format]\n",
    "elastic_tensors = np.array(elastic_tensors)\n",
    "print(f\"\"\"\n",
    "Elastic Tensors Shape: {elastic_tensors.shape}\n",
    "\"\"\")    "
   ]
  },
  {
   "cell_type": "markdown",
   "metadata": {},
   "source": [
    "Select cubic-like materials"
   ]
  },
  {
   "cell_type": "code",
   "execution_count": 125,
   "metadata": {},
   "outputs": [],
   "source": [
    "# select cubic-like materials\n",
    "select = np.isclose(elastic_tensors[:,0,0],elastic_tensors[:,1,1],rtol=1e-2)\n",
    "select *= np.isclose(elastic_tensors[:,0,0],elastic_tensors[:,2,2],rtol=1e-2)\n",
    "select *= np.isclose(elastic_tensors[:,3,3],elastic_tensors[:,4,4],rtol=1e-2)\n",
    "select *= np.isclose(elastic_tensors[:,3,3],elastic_tensors[:,5,5],rtol=1e-2)\n",
    "select *= np.isclose(elastic_tensors[:,3,4],0.0,rtol=1e-2)\n",
    "select *= np.isclose(elastic_tensors[:,3,5],0.0,rtol=1e-2)\n",
    "select *= np.isclose(elastic_tensors[:,4,5],0.0,rtol=1e-2)\n",
    "select *= elastic_tensors[:,4,4]>0.0 "
   ]
  },
  {
   "cell_type": "markdown",
   "metadata": {},
   "source": [
    "Plot C11 vs C12 and C44 with correlations"
   ]
  },
  {
   "cell_type": "code",
   "execution_count": 126,
   "metadata": {},
   "outputs": [
    {
     "data": {
      "image/png": "[encoded data removed]",
      "text/plain": [
       "<Figure size 800x400 with 2 Axes>"
      ]
     },
     "metadata": {},
     "output_type": "display_data"
    }
   ],
   "source": [
    "import matplotlib.pyplot as plt\n",
    "\n",
    "\n",
    "\n",
    "fig,axs = plt.subplots(1,2,figsize=(8,4),sharex=True,sharey=True)\n",
    "\n",
    "x=elastic_tensors[select,0,0]\n",
    "y=elastic_tensors[select,3,3]\n",
    "R = np.corrcoef(x,y)\n",
    "axs[0].scatter(x,y,label=f\"R={R[0,1]:.2f}\")\n",
    "\n",
    "x=elastic_tensors[select,0,0]\n",
    "y=elastic_tensors[select,0,1]\n",
    "R = np.corrcoef(x,y)\n",
    "axs[1].scatter(x,y,label=f\"R={R[0,1]:.2f}\")\n",
    "\n",
    "\n",
    "axs[0].set_xlabel(\"C11\")\n",
    "axs[1].set_xlabel(\"C11\")\n",
    "axs[0].set_ylabel(\"C44\")\n",
    "axs[1].set_ylabel(\"C12\")\n",
    "axs[0].legend()\n",
    "axs[1].legend()\n",
    "\n",
    "plt.tight_layout()\n"
   ]
  }
 ],
 "metadata": {
  "kernelspec": {
   "display_name": "matprj",
   "language": "python",
   "name": "python3"
  },
  "language_info": {
   "codemirror_mode": {
    "name": "ipython",
    "version": 3
   },
   "file_extension": ".py",
   "mimetype": "text/x-python",
   "name": "python",
   "nbconvert_exporter": "python",
   "pygments_lexer": "ipython3",
   "version": "3.11.7"
  }
 },
 "nbformat": 4,
 "nbformat_minor": 2
}
