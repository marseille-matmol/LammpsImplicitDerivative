{
 "cells": [
  {
   "cell_type": "code",
   "execution_count": 1,
   "metadata": {},
   "outputs": [],
   "source": [
    "import numpy as np\n",
    "import matplotlib.pyplot as plt\n",
    "\n",
    "from lammps_implicit_der import LammpsImplicitDer, SNAP\n",
    "from lammps_implicit_der.tools import mpi_print, initialize_mpi, TimingGroup, plot_tools\n",
    "from lammps_implicit_der.systems import Bcc, BccBinary"
   ]
  },
  {
   "cell_type": "markdown",
   "metadata": {},
   "source": [
    "# Setup Tungsten bcc system"
   ]
  },
  {
   "cell_type": "code",
   "execution_count": 11,
   "metadata": {},
   "outputs": [
    {
     "name": "stdout",
     "output_type": "stream",
     "text": [
      "\n",
      "--------------------------------------------------------------------------------\n",
      "Running LAMMPS with the following arguments:\n",
      "-screen none -log none\n",
      "\n"
     ]
    }
   ],
   "source": [
    "class LammpsSim(LammpsImplicitDer):\n",
    "    def __init__(self):\n",
    "        super().__init__()\n",
    "\n",
    "        # Load the SNAP potential\n",
    "        self.pot = SNAP.from_files('W.snapcoeff', data_path='../lammps_implicit_der/data_files/')\n",
    "\n",
    "W_system = LammpsSim()"
   ]
  },
  {
   "cell_type": "code",
   "execution_count": 16,
   "metadata": {},
   "outputs": [],
   "source": [
    "num_cells = 2\n",
    "alat = 3.1855\n",
    "mass = 184.0\n",
    "W_system.lmp.commands_string(f\"\"\"\n",
    "        clear\n",
    "\n",
    "        atom_modify map array sort 0 0.0\n",
    "        boundary p p p\n",
    "\n",
    "        # Initialize simulation\n",
    "        units metal\n",
    "        lattice bcc {alat} origin 0.01 0.01 0.01\n",
    "\n",
    "        # create a block of atoms\n",
    "        region C block 0 {num_cells} 0 {num_cells} 0 {num_cells} units lattice\n",
    "        create_box 1 C\n",
    "        create_atoms 1 region C\n",
    "\n",
    "        mass * {mass}\n",
    "\"\"\")"
   ]
  },
  {
   "cell_type": "code",
   "execution_count": 24,
   "metadata": {},
   "outputs": [
    {
     "name": "stdout",
     "output_type": "stream",
     "text": [
      "Setting SNAP potential\n",
      "\n",
      "                  SNAP coefficients for: W\n",
      " Number of parameters (excluding beta0): 55\n",
      "                                Element:  W  |  R =  0.5000 w =  1.0000\n",
      "\n",
      "Setting SNAP potential\n",
      "\n",
      "                  SNAP coefficients for: W\n",
      " Number of parameters (excluding beta0): 55\n",
      "                                Element:  W  |  R =  0.5000 w =  1.0000\n",
      "\n",
      "Minimizing energy with the following parameters:\n",
      "ftol: 1e-08, maxiter: 1000, maxeval: 1000, algo: cg, fix_box_relax: False \n",
      "\n",
      "Number of atoms: 16, largest force value: 7.591e-15, force norm: 2.813e-14\n"
     ]
    }
   ],
   "source": [
    "W_system.setup_snap_potential()\n",
    "W_system.run_init()"
   ]
  },
  {
   "cell_type": "markdown",
   "metadata": {},
   "source": [
    "## Basic parameters"
   ]
  },
  {
   "cell_type": "code",
   "execution_count": 18,
   "metadata": {},
   "outputs": [
    {
     "name": "stdout",
     "output_type": "stream",
     "text": [
      "['W']\n",
      "{'W': {'elem_params': {'radius': 0.5, 'weight': 1.0}, 'beta0': -5.30602553034076, 'Theta': array([ 2.59171211e-02,  2.29459519e-02,  5.42267608e-02, -1.51585786e-02,\n",
      "        2.71030824e-01,  6.53694819e-02,  3.47579854e-04, -6.36676650e-03,\n",
      "        1.26170571e-01,  1.00532763e-01,  5.01645978e-02,  1.00570965e-01,\n",
      "        2.52031414e-03, -2.00524259e-02,  2.86825036e-02, -6.64412013e-03,\n",
      "        7.04211807e-02,  9.24840913e-02,  9.69625335e-03,  3.52187019e-02,\n",
      "        9.47117594e-04,  9.90517179e-03, -1.69731525e-03,  6.53240492e-02,\n",
      "        1.12288898e-01,  7.01812880e-02,  6.09595356e-02, -2.74980622e-02,\n",
      "        3.72170044e-02,  5.02702975e-02,  7.06345397e-03, -1.07971357e-02,\n",
      "       -2.07582090e-02,  2.41023973e-02,  9.68293034e-02,  2.74989592e-03,\n",
      "        1.15041120e-02,  5.71673560e-02,  6.55507839e-03,  3.17319182e-02,\n",
      "        2.12856497e-02,  1.31183642e-02,  7.55440708e-04,  7.52558175e-03,\n",
      "        4.17081670e-02, -6.30345924e-03,  1.33449964e-03, -1.64835264e-04,\n",
      "       -2.28757428e-03, -2.53508143e-03, -3.70676499e-05,  9.62453606e-03,\n",
      "        1.75638319e-02, -5.68873331e-03,  7.35642671e-03])}, 'radii': '0.5', 'weights': '1.0'}\n",
      "{'rcutfac': 4.7, 'twojmax': 8, 'rfac0': 0.99363, 'rmin0': 0, 'bzeroflag': 1, 'quadraticflag': 0, 'bnormflag': 0}\n"
     ]
    }
   ],
   "source": [
    "print(W_system.pot.elem_list)\n",
    "print(W_system.pot.Theta_dict)\n",
    "print(W_system.pot.snapparam_dict)"
   ]
  },
  {
   "cell_type": "code",
   "execution_count": 19,
   "metadata": {},
   "outputs": [
    {
     "name": "stdout",
     "output_type": "stream",
     "text": [
      "Minimizing energy with the following parameters:\n",
      "ftol: 1e-08, maxiter: 1000, maxeval: 1000, algo: cg, fix_box_relax: False \n",
      "\n"
     ]
    }
   ],
   "source": [
    "W_system.minimize_energy()"
   ]
  },
  {
   "cell_type": "code",
   "execution_count": 20,
   "metadata": {},
   "outputs": [
    {
     "data": {
      "text/plain": [
       "array([ 0.031855,  0.031855,  0.031855,  1.624605,  1.624605,  1.624605,\n",
       "       -3.153645,  0.031855,  0.031855, -1.560895,  1.624605,  1.624605,\n",
       "        0.031855, -3.153645,  0.031855,  1.624605, -1.560895,  1.624605,\n",
       "       -3.153645, -3.153645,  0.031855, -1.560895, -1.560895,  1.624605,\n",
       "        0.031855,  0.031855, -3.153645,  1.624605,  1.624605, -1.560895,\n",
       "       -3.153645,  0.031855, -3.153645, -1.560895,  1.624605, -1.560895,\n",
       "        0.031855, -3.153645, -3.153645,  1.624605, -1.560895, -1.560895,\n",
       "       -3.153645, -3.153645, -3.153645, -1.560895, -1.560895, -1.560895])"
      ]
     },
     "execution_count": 20,
     "metadata": {},
     "output_type": "execute_result"
    }
   ],
   "source": [
    "W_system.X_coord"
   ]
  },
  {
   "cell_type": "code",
   "execution_count": 21,
   "metadata": {},
   "outputs": [
    {
     "data": {
      "image/png": "[encoded data removed]",
      "text/plain": [
       "<Figure size 800x500 with 3 Axes>"
      ]
     },
     "metadata": {},
     "output_type": "display_data"
    }
   ],
   "source": [
    "fig, axes = plt.subplots(1, 3, figsize=(8, 5))\n",
    "plot_tools.plot_coords(axes, W_system.X_coord.reshape(-1, 3), c='gray', s=32, label='original')\n",
    "plt.tight_layout()"
   ]
  },
  {
   "cell_type": "markdown",
   "metadata": {},
   "source": [
    "# Compute implicit derivative"
   ]
  },
  {
   "cell_type": "code",
   "execution_count": 25,
   "metadata": {},
   "outputs": [
    {
     "name": "stderr",
     "output_type": "stream",
     "text": [
      "Hessian: 100%|██████████| 48/48 [00:00<00:00, 109.46it/s]\n"
     ]
    }
   ],
   "source": [
    "W_system.scatter_coord()\n",
    "W_system.gather_D_dD()\n",
    "dX_dTheta = W_system.implicit_derivative(method='inverse')"
   ]
  },
  {
   "cell_type": "code",
   "execution_count": 26,
   "metadata": {},
   "outputs": [
    {
     "ename": "Exception",
     "evalue": "ERROR: Cannot change box tilt factors for orthogonal box (src/change_box.cpp:260)",
     "output_type": "error",
     "traceback": [
      "\u001b[0;31m---------------------------------------------------------------------------\u001b[0m",
      "\u001b[0;31mException\u001b[0m                                 Traceback (most recent call last)",
      "Cell \u001b[0;32mIn[26], line 3\u001b[0m\n\u001b[1;32m      1\u001b[0m epsilon \u001b[38;5;241m=\u001b[39m \u001b[38;5;241m0.02\u001b[39m\n\u001b[1;32m      2\u001b[0m M \u001b[38;5;241m=\u001b[39m np\u001b[38;5;241m.\u001b[39mdiag( [epsilon, epsilon, \u001b[38;5;241m-\u001b[39m\u001b[38;5;241m2.0\u001b[39m \u001b[38;5;241m*\u001b[39m epsilon]  )\n\u001b[0;32m----> 3\u001b[0m \u001b[43mW_system\u001b[49m\u001b[38;5;241;43m.\u001b[39;49m\u001b[43mapply_strain\u001b[49m\u001b[43m(\u001b[49m\u001b[43mM\u001b[49m\u001b[43m)\u001b[49m\n",
      "File \u001b[0;32m~/opt/anaconda3/envs/jax/lib/python3.10/site-packages/lammps_implicit_der/lmp_der/implicit_der.py:177\u001b[0m, in \u001b[0;36mLammpsImplicitDer.apply_strain\u001b[0;34m(self, epsilon)\u001b[0m\n\u001b[1;32m    174\u001b[0m \u001b[38;5;28mself\u001b[39m\u001b[38;5;241m.\u001b[39mget_cell()\n\u001b[1;32m    176\u001b[0m C \u001b[38;5;241m=\u001b[39m np\u001b[38;5;241m.\u001b[39mdot(\u001b[38;5;28mself\u001b[39m\u001b[38;5;241m.\u001b[39mcell, (np\u001b[38;5;241m.\u001b[39meye(\u001b[38;5;241m3\u001b[39m) \u001b[38;5;241m+\u001b[39m epsilon))\n\u001b[0;32m--> 177\u001b[0m \u001b[38;5;28;43mself\u001b[39;49m\u001b[38;5;241;43m.\u001b[39;49m\u001b[43mlmp\u001b[49m\u001b[38;5;241;43m.\u001b[39;49m\u001b[43mcommands_string\u001b[49m\u001b[43m(\u001b[49m\u001b[38;5;124;43mf\u001b[39;49m\u001b[38;5;124;43m\"\"\"\u001b[39;49m\n\u001b[1;32m    178\u001b[0m \u001b[38;5;124;43mchange_box all x final 0.0 \u001b[39;49m\u001b[38;5;132;43;01m{\u001b[39;49;00m\u001b[43mC\u001b[49m\u001b[43m[\u001b[49m\u001b[38;5;241;43m0\u001b[39;49m\u001b[43m,\u001b[49m\u001b[38;5;241;43m0\u001b[39;49m\u001b[43m]\u001b[49m\u001b[38;5;132;43;01m}\u001b[39;49;00m\u001b[38;5;124;43m y final 0.0 \u001b[39;49m\u001b[38;5;132;43;01m{\u001b[39;49;00m\u001b[43mC\u001b[49m\u001b[43m[\u001b[49m\u001b[38;5;241;43m1\u001b[39;49m\u001b[43m,\u001b[49m\u001b[38;5;241;43m1\u001b[39;49m\u001b[43m]\u001b[49m\u001b[38;5;132;43;01m}\u001b[39;49;00m\u001b[38;5;124;43m z final 0.0 \u001b[39;49m\u001b[38;5;132;43;01m{\u001b[39;49;00m\u001b[43mC\u001b[49m\u001b[43m[\u001b[49m\u001b[38;5;241;43m2\u001b[39;49m\u001b[43m,\u001b[49m\u001b[38;5;241;43m2\u001b[39;49m\u001b[43m]\u001b[49m\u001b[38;5;132;43;01m}\u001b[39;49;00m\u001b[38;5;124;43m xy final \u001b[39;49m\u001b[38;5;132;43;01m{\u001b[39;49;00m\u001b[43mC\u001b[49m\u001b[43m[\u001b[49m\u001b[38;5;241;43m0\u001b[39;49m\u001b[43m,\u001b[49m\u001b[38;5;241;43m1\u001b[39;49m\u001b[43m]\u001b[49m\u001b[38;5;132;43;01m}\u001b[39;49;00m\u001b[38;5;124;43m xz final \u001b[39;49m\u001b[38;5;132;43;01m{\u001b[39;49;00m\u001b[43mC\u001b[49m\u001b[43m[\u001b[49m\u001b[38;5;241;43m0\u001b[39;49m\u001b[43m,\u001b[49m\u001b[38;5;241;43m2\u001b[39;49m\u001b[43m]\u001b[49m\u001b[38;5;132;43;01m}\u001b[39;49;00m\u001b[38;5;124;43m yz final \u001b[39;49m\u001b[38;5;132;43;01m{\u001b[39;49;00m\u001b[43mC\u001b[49m\u001b[43m[\u001b[49m\u001b[38;5;241;43m1\u001b[39;49m\u001b[43m,\u001b[49m\u001b[38;5;241;43m2\u001b[39;49m\u001b[43m]\u001b[49m\u001b[38;5;132;43;01m}\u001b[39;49;00m\u001b[38;5;124;43m remap units box\u001b[39;49m\n\u001b[1;32m    179\u001b[0m \u001b[38;5;124;43mrun 0\u001b[39;49m\n\u001b[1;32m    180\u001b[0m \u001b[38;5;124;43m\u001b[39;49m\u001b[38;5;124;43m\"\"\"\u001b[39;49m\u001b[43m)\u001b[49m\n",
      "File \u001b[0;32m~/opt/anaconda3/envs/jax/lib/python3.10/site-packages/lammps/core.py:654\u001b[0m, in \u001b[0;36mlammps.commands_string\u001b[0;34m(self, multicmd)\u001b[0m\n\u001b[1;32m    643\u001b[0m \u001b[38;5;250m\u001b[39m\u001b[38;5;124;03m\"\"\"Process a block of LAMMPS input commands from a string.\u001b[39;00m\n\u001b[1;32m    644\u001b[0m \n\u001b[1;32m    645\u001b[0m \u001b[38;5;124;03mThis is a wrapper around the\u001b[39;00m\n\u001b[0;32m   (...)\u001b[0m\n\u001b[1;32m    650\u001b[0m \u001b[38;5;124;03m:type multicmd:  string\u001b[39;00m\n\u001b[1;32m    651\u001b[0m \u001b[38;5;124;03m\"\"\"\u001b[39;00m\n\u001b[1;32m    652\u001b[0m \u001b[38;5;28;01mif\u001b[39;00m \u001b[38;5;28mtype\u001b[39m(multicmd) \u001b[38;5;129;01mis\u001b[39;00m \u001b[38;5;28mstr\u001b[39m: multicmd \u001b[38;5;241m=\u001b[39m multicmd\u001b[38;5;241m.\u001b[39mencode()\n\u001b[0;32m--> 654\u001b[0m \u001b[38;5;28;01mwith\u001b[39;00m ExceptionCheck(\u001b[38;5;28mself\u001b[39m):\n\u001b[1;32m    655\u001b[0m   \u001b[38;5;28mself\u001b[39m\u001b[38;5;241m.\u001b[39mlib\u001b[38;5;241m.\u001b[39mlammps_commands_string(\u001b[38;5;28mself\u001b[39m\u001b[38;5;241m.\u001b[39mlmp,c_char_p(multicmd))\n",
      "File \u001b[0;32m~/opt/anaconda3/envs/jax/lib/python3.10/site-packages/lammps/core.py:49\u001b[0m, in \u001b[0;36mExceptionCheck.__exit__\u001b[0;34m(self, exc_type, exc_value, traceback)\u001b[0m\n\u001b[1;32m     47\u001b[0m \u001b[38;5;28;01mdef\u001b[39;00m \u001b[38;5;21m__exit__\u001b[39m(\u001b[38;5;28mself\u001b[39m, exc_type, exc_value, traceback):\n\u001b[1;32m     48\u001b[0m   \u001b[38;5;28;01mif\u001b[39;00m \u001b[38;5;28mself\u001b[39m\u001b[38;5;241m.\u001b[39mlmp\u001b[38;5;241m.\u001b[39mhas_exceptions \u001b[38;5;129;01mand\u001b[39;00m \u001b[38;5;28mself\u001b[39m\u001b[38;5;241m.\u001b[39mlmp\u001b[38;5;241m.\u001b[39mlib\u001b[38;5;241m.\u001b[39mlammps_has_error(\u001b[38;5;28mself\u001b[39m\u001b[38;5;241m.\u001b[39mlmp\u001b[38;5;241m.\u001b[39mlmp):\n\u001b[0;32m---> 49\u001b[0m     \u001b[38;5;28;01mraise\u001b[39;00m \u001b[38;5;28mself\u001b[39m\u001b[38;5;241m.\u001b[39mlmp\u001b[38;5;241m.\u001b[39m_lammps_exception\n",
      "\u001b[0;31mException\u001b[0m: ERROR: Cannot change box tilt factors for orthogonal box (src/change_box.cpp:260)"
     ]
    }
   ],
   "source": [
    "epsilon = 0.02\n",
    "M = np.diag( [epsilon, epsilon, -2.0 * epsilon]  )\n",
    "W_system.apply_strain(M)"
   ]
  },
  {
   "cell_type": "code",
   "execution_count": null,
   "metadata": {},
   "outputs": [
    {
     "ename": "Exception",
     "evalue": "ERROR: Cannot change box tilt factors for orthogonal box (src/change_box.cpp:260)",
     "output_type": "error",
     "traceback": [
      "\u001b[0;31m---------------------------------------------------------------------------\u001b[0m\n",
      "\u001b[0;31mException\u001b[0m                                 Traceback (most recent call last)\n",
      "Cell \u001b[0;32mIn[26], line 3\u001b[0m\n",
      "\u001b[1;32m      1\u001b[0m epsilon \u001b[38;5;241m=\u001b[39m \u001b[38;5;241m0.02\u001b[39m\n",
      "\u001b[1;32m      2\u001b[0m M \u001b[38;5;241m=\u001b[39m np\u001b[38;5;241m.\u001b[39mdiag( [epsilon, epsilon, \u001b[38;5;241m-\u001b[39m\u001b[38;5;241m2.0\u001b[39m \u001b[38;5;241m*\u001b[39m epsilon]  )\n",
      "\u001b[0;32m----> 3\u001b[0m \u001b[43mW_system\u001b[49m\u001b[38;5;241;43m.\u001b[39;49m\u001b[43mapply_strain\u001b[49m\u001b[43m(\u001b[49m\u001b[43mM\u001b[49m\u001b[43m)\u001b[49m\n",
      "\n",
      "File \u001b[0;32m~/opt/anaconda3/envs/jax/lib/python3.10/site-packages/lammps_implicit_der/lmp_der/implicit_der.py:177\u001b[0m, in \u001b[0;36mLammpsImplicitDer.apply_strain\u001b[0;34m(self, epsilon)\u001b[0m\n",
      "\u001b[1;32m    174\u001b[0m \u001b[38;5;28mself\u001b[39m\u001b[38;5;241m.\u001b[39mget_cell()\n",
      "\u001b[1;32m    176\u001b[0m C \u001b[38;5;241m=\u001b[39m np\u001b[38;5;241m.\u001b[39mdot(\u001b[38;5;28mself\u001b[39m\u001b[38;5;241m.\u001b[39mcell, (np\u001b[38;5;241m.\u001b[39meye(\u001b[38;5;241m3\u001b[39m) \u001b[38;5;241m+\u001b[39m epsilon))\n",
      "\u001b[0;32m--> 177\u001b[0m \u001b[38;5;28;43mself\u001b[39;49m\u001b[38;5;241;43m.\u001b[39;49m\u001b[43mlmp\u001b[49m\u001b[38;5;241;43m.\u001b[39;49m\u001b[43mcommands_string\u001b[49m\u001b[43m(\u001b[49m\u001b[38;5;124;43mf\u001b[39;49m\u001b[38;5;124;43m\"\"\"\u001b[39;49m\n",
      "\u001b[1;32m    178\u001b[0m \u001b[38;5;124;43mchange_box all x final 0.0 \u001b[39;49m\u001b[38;5;132;43;01m{\u001b[39;49;00m\u001b[43mC\u001b[49m\u001b[43m[\u001b[49m\u001b[38;5;241;43m0\u001b[39;49m\u001b[43m,\u001b[49m\u001b[38;5;241;43m0\u001b[39;49m\u001b[43m]\u001b[49m\u001b[38;5;132;43;01m}\u001b[39;49;00m\u001b[38;5;124;43m y final 0.0 \u001b[39;49m\u001b[38;5;132;43;01m{\u001b[39;49;00m\u001b[43mC\u001b[49m\u001b[43m[\u001b[49m\u001b[38;5;241;43m1\u001b[39;49m\u001b[43m,\u001b[49m\u001b[38;5;241;43m1\u001b[39;49m\u001b[43m]\u001b[49m\u001b[38;5;132;43;01m}\u001b[39;49;00m\u001b[38;5;124;43m z final 0.0 \u001b[39;49m\u001b[38;5;132;43;01m{\u001b[39;49;00m\u001b[43mC\u001b[49m\u001b[43m[\u001b[49m\u001b[38;5;241;43m2\u001b[39;49m\u001b[43m,\u001b[49m\u001b[38;5;241;43m2\u001b[39;49m\u001b[43m]\u001b[49m\u001b[38;5;132;43;01m}\u001b[39;49;00m\u001b[38;5;124;43m xy final \u001b[39;49m\u001b[38;5;132;43;01m{\u001b[39;49;00m\u001b[43mC\u001b[49m\u001b[43m[\u001b[49m\u001b[38;5;241;43m0\u001b[39;49m\u001b[43m,\u001b[49m\u001b[38;5;241;43m1\u001b[39;49m\u001b[43m]\u001b[49m\u001b[38;5;132;43;01m}\u001b[39;49;00m\u001b[38;5;124;43m xz final \u001b[39;49m\u001b[38;5;132;43;01m{\u001b[39;49;00m\u001b[43mC\u001b[49m\u001b[43m[\u001b[49m\u001b[38;5;241;43m0\u001b[39;49m\u001b[43m,\u001b[49m\u001b[38;5;241;43m2\u001b[39;49m\u001b[43m]\u001b[49m\u001b[38;5;132;43;01m}\u001b[39;49;00m\u001b[38;5;124;43m yz final \u001b[39;49m\u001b[38;5;132;43;01m{\u001b[39;49;00m\u001b[43mC\u001b[49m\u001b[43m[\u001b[49m\u001b[38;5;241;43m1\u001b[39;49m\u001b[43m,\u001b[49m\u001b[38;5;241;43m2\u001b[39;49m\u001b[43m]\u001b[49m\u001b[38;5;132;43;01m}\u001b[39;49;00m\u001b[38;5;124;43m remap units box\u001b[39;49m\n",
      "\u001b[1;32m    179\u001b[0m \u001b[38;5;124;43mrun 0\u001b[39;49m\n",
      "\u001b[1;32m    180\u001b[0m \u001b[38;5;124;43m\u001b[39;49m\u001b[38;5;124;43m\"\"\"\u001b[39;49m\u001b[43m)\u001b[49m\n",
      "\n",
      "File \u001b[0;32m~/opt/anaconda3/envs/jax/lib/python3.10/site-packages/lammps/core.py:654\u001b[0m, in \u001b[0;36mlammps.commands_string\u001b[0;34m(self, multicmd)\u001b[0m\n",
      "\u001b[1;32m    643\u001b[0m \u001b[38;5;250m\u001b[39m\u001b[38;5;124;03m\"\"\"Process a block of LAMMPS input commands from a string.\u001b[39;00m\n",
      "\u001b[1;32m    644\u001b[0m \n",
      "\u001b[1;32m    645\u001b[0m \u001b[38;5;124;03mThis is a wrapper around the\u001b[39;00m\n",
      "\u001b[0;32m   (...)\u001b[0m\n",
      "\u001b[1;32m    650\u001b[0m \u001b[38;5;124;03m:type multicmd:  string\u001b[39;00m\n",
      "\u001b[1;32m    651\u001b[0m \u001b[38;5;124;03m\"\"\"\u001b[39;00m\n",
      "\u001b[1;32m    652\u001b[0m \u001b[38;5;28;01mif\u001b[39;00m \u001b[38;5;28mtype\u001b[39m(multicmd) \u001b[38;5;129;01mis\u001b[39;00m \u001b[38;5;28mstr\u001b[39m: multicmd \u001b[38;5;241m=\u001b[39m multicmd\u001b[38;5;241m.\u001b[39mencode()\n",
      "\u001b[0;32m--> 654\u001b[0m \u001b[38;5;28;01mwith\u001b[39;00m ExceptionCheck(\u001b[38;5;28mself\u001b[39m):\n",
      "\u001b[1;32m    655\u001b[0m   \u001b[38;5;28mself\u001b[39m\u001b[38;5;241m.\u001b[39mlib\u001b[38;5;241m.\u001b[39mlammps_commands_string(\u001b[38;5;28mself\u001b[39m\u001b[38;5;241m.\u001b[39mlmp,c_char_p(multicmd))\n",
      "\n",
      "File \u001b[0;32m~/opt/anaconda3/envs/jax/lib/python3.10/site-packages/lammps/core.py:49\u001b[0m, in \u001b[0;36mExceptionCheck.__exit__\u001b[0;34m(self, exc_type, exc_value, traceback)\u001b[0m\n",
      "\u001b[1;32m     47\u001b[0m \u001b[38;5;28;01mdef\u001b[39;00m \u001b[38;5;21m__exit__\u001b[39m(\u001b[38;5;28mself\u001b[39m, exc_type, exc_value, traceback):\n",
      "\u001b[1;32m     48\u001b[0m   \u001b[38;5;28;01mif\u001b[39;00m \u001b[38;5;28mself\u001b[39m\u001b[38;5;241m.\u001b[39mlmp\u001b[38;5;241m.\u001b[39mhas_exceptions \u001b[38;5;129;01mand\u001b[39;00m \u001b[38;5;28mself\u001b[39m\u001b[38;5;241m.\u001b[39mlmp\u001b[38;5;241m.\u001b[39mlib\u001b[38;5;241m.\u001b[39mlammps_has_error(\u001b[38;5;28mself\u001b[39m\u001b[38;5;241m.\u001b[39mlmp\u001b[38;5;241m.\u001b[39mlmp):\n",
      "\u001b[0;32m---> 49\u001b[0m     \u001b[38;5;28;01mraise\u001b[39;00m \u001b[38;5;28mself\u001b[39m\u001b[38;5;241m.\u001b[39mlmp\u001b[38;5;241m.\u001b[39m_lammps_exception\n",
      "\n",
      "\u001b[0;31mException\u001b[0m: ERROR: Cannot change box tilt factors for orthogonal box (src/change_box.cpp:260)"
     ]
    }
   ],
   "source": [
    "epsilon = 0.02\n",
    "M = np.diag( [epsilon, epsilon, -2.0 * epsilon]  )\n",
    "W_system.apply_strain(M)"
   ]
  }
 ],
 "metadata": {
  "kernelspec": {
   "display_name": "jax",
   "language": "python",
   "name": "python3"
  },
  "language_info": {
   "codemirror_mode": {
    "name": "ipython",
    "version": 3
   },
   "file_extension": ".py",
   "mimetype": "text/x-python",
   "name": "python",
   "nbconvert_exporter": "python",
   "pygments_lexer": "ipython3",
   "version": "3.10.12"
  }
 },
 "nbformat": 4,
 "nbformat_minor": 2
}
