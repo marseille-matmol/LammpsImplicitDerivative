{
 "cells": [
  {
   "cell_type": "markdown",
   "metadata": {},
   "source": [
    "# Getting Started: Atomic Systems Basic System Properties\n",
    "\n",
    "Here, we present the basic properties of the LAMMPS-derived classes that will be later used for the implicit derivative calculations.\n",
    "\n",
    "Currently, only the **linear-in-descriptor SNAP potentials** are used."
   ]
  },
  {
   "cell_type": "code",
   "execution_count": 5,
   "metadata": {},
   "outputs": [],
   "source": [
    "# Standard libraries\n",
    "import os\n",
    "import numpy as np\n",
    "import pickle\n",
    "import matplotlib.pyplot as plt\n",
    "\n",
    "# No parallel MPI runs in the notebook, but keep comm for consistency\n",
    "comm = None"
   ]
  },
  {
   "cell_type": "markdown",
   "metadata": {},
   "source": [
    "### Import the package classes and functions"
   ]
  },
  {
   "cell_type": "code",
   "execution_count": 6,
   "metadata": {},
   "outputs": [],
   "source": [
    "from lammps_implicit_der import SNAP\n",
    "from lammps_implicit_der.systems import BCC, BCC_BINARY, BCC_BINARY_VACANCY, BCC_VACANCY, BCC_SIA, FromData, HCP\n",
    "from lammps_implicit_der.tools import plot_tools"
   ]
  },
  {
   "cell_type": "markdown",
   "metadata": {},
   "source": [
    "### Create a BCC system\n",
    "\n",
    "As an instance of the `BCC` class. `BCC` is a child class of `LammpsImplicitDer`."
   ]
  },
  {
   "cell_type": "code",
   "execution_count": 7,
   "metadata": {},
   "outputs": [
    {
     "name": "stdout",
     "output_type": "stream",
     "text": [
      "\n",
      "--------------------------------------------------------------------------------\n",
      "Running LAMMPS with the following arguments:\n",
      "-screen none -log bcc.log\n",
      "\n",
      "Setting SNAP potential\n",
      "\n",
      "                  SNAP coefficients for: W\n",
      "                          quadraticflag: 0\n",
      " Number of parameters (excluding beta0): 55\n",
      "                                Element:  W  |  R =  0.5000 w =  1.0000\n",
      "\n",
      "Number of atoms: 54, largest force value: 2.098e-14, force norm: 1.323e-13\n"
     ]
    }
   ],
   "source": [
    "bcc_pure = BCC(alat=3.18, ncell_x=3, minimize=False,\n",
    "               logname='bcc.log', lmp_cmd_filename='bcc_commands.lammps',\n",
    "               snapcoeff_filename = 'W_REF.snapcoeff', verbose=True)"
   ]
  },
  {
   "cell_type": "markdown",
   "metadata": {},
   "source": [
    "Here we used the following input arguments:\n",
    "\n",
    "* `alat`: lattice parameter in Angstroms\n",
    "* `ncell_x`: number of BCC unit cells in the x-direction. If `ncell_y` and `ncell_z` are not specified, they will be equal to `ncell_x`\n",
    "* `minimize`: minimize the atomic positions\n",
    "* `logname`: LAMMPS log file name\n",
    "* `lmp_command_filename`: filename containing all the LAMMPS commands sent to LAMMPS for an object\n",
    "* `snapcoeff_filename`: filename of the SNAP coefficients file. If `snapparam_filename` is not specified, it will be guessed by changing the `.snapcoeff` suffix to `.snapparam`\n",
    "\n",
    "Refer to the docstring documentation of the `LammpsImplicitDer` class (`./lammps_implicit_der/lmp_der/implicit_der.py` file) and `BCC` child class (`./lammps_implicit_der/systems/bcc_lattices.py` file) for the full list of input parameters."
   ]
  },
  {
   "cell_type": "markdown",
   "metadata": {},
   "source": [
    "### Lammps object within the class\n",
    "\n",
    "Under the hood, at the initialization stage, the `BCC` class creates a LAMMPS instance:\n",
    "\n",
    "```python\n",
    "self.lmp = lammps(cmdargs=self.cmdargs, comm=self.comm)\n",
    "```\n",
    "\n",
    "Working with `BCC` or any child class consists in sending commands and data to and receiving data from LAMMPS at runtime. All the commands sent to lammps will be stored in the `lmp_command_filename` file. The LAMMPS logs will be printed out in the `logname` file."
   ]
  },
  {
   "cell_type": "markdown",
   "metadata": {},
   "source": [
    "### Manually send a command to LAMMPS"
   ]
  },
  {
   "cell_type": "code",
   "execution_count": 8,
   "metadata": {},
   "outputs": [],
   "source": [
    "bcc_pure.lmp_commands_string(\"run 0\")"
   ]
  },
  {
   "cell_type": "markdown",
   "metadata": {},
   "source": [
    "### Save the system to a LAMMPS data file"
   ]
  },
  {
   "cell_type": "code",
   "execution_count": 10,
   "metadata": {},
   "outputs": [
    {
     "name": "stdout",
     "output_type": "stream",
     "text": [
      "LAMMPS data file via write_data, version 2 Aug 2023, timestep = 0, units = metal\n",
      "\n",
      "54 atoms\n",
      "1 atom types\n",
      "\n",
      "0 9.540000000000001 xlo xhi\n",
      "0 9.540000000000001 ylo yhi\n",
      "0 9.540000000000001 zlo zhi\n",
      "\n",
      "Masses\n",
      "\n",
      "1 183.84\n",
      "...\n"
     ]
    }
   ],
   "source": [
    "bcc_pure.write_data('bcc_pure.data')\n",
    "\n",
    "# First 12 lines of the data file\n",
    "with open('bcc_pure.data', 'r') as f:\n",
    "    for i in range(12):\n",
    "        print(f.readline().strip())\n",
    "print('...')"
   ]
  },
  {
   "cell_type": "markdown",
   "metadata": {},
   "source": [
    "### Save the coordinates of the systems to a .xyz file"
   ]
  },
  {
   "cell_type": "code",
   "execution_count": 12,
   "metadata": {},
   "outputs": [
    {
     "name": "stdout",
     "output_type": "stream",
     "text": [
      "54\n",
      "Atomic coordinates generated by LammpsImplicitDer\n",
      "W 0.031800 0.031800 0.031800\n",
      "W 1.621800 1.621800 1.621800\n",
      "W 3.211800 0.031800 0.031800\n",
      "...\n"
     ]
    }
   ],
   "source": [
    "bcc_pure.write_xyz_file('bcc_pure.xyz')\n",
    "\n",
    "# First 5 lines of the xyz file\n",
    "with open('bcc_pure.xyz', 'r') as f:\n",
    "    for i in range(5):\n",
    "        print(f.readline().strip())\n",
    "print('...')"
   ]
  },
  {
   "cell_type": "markdown",
   "metadata": {},
   "source": [
    "## Properties\n",
    "\n",
    "### Energy\n",
    "\n"
   ]
  },
  {
   "cell_type": "code",
   "execution_count": null,
   "metadata": {},
   "outputs": [],
   "source": []
  }
 ],
 "metadata": {
  "kernelspec": {
   "display_name": "jax",
   "language": "python",
   "name": "python3"
  },
  "language_info": {
   "codemirror_mode": {
    "name": "ipython",
    "version": 3
   },
   "file_extension": ".py",
   "mimetype": "text/x-python",
   "name": "python",
   "nbconvert_exporter": "python",
   "pygments_lexer": "ipython3",
   "version": "3.10.12"
  }
 },
 "nbformat": 4,
 "nbformat_minor": 2
}
