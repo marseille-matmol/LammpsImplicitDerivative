{
 "cells": [
  {
   "cell_type": "markdown",
   "metadata": {},
   "source": [
    "# Inhomogeneous implicit derivative\n",
    "\n",
    "$$\n",
    "\\nabla_{\\boldsymbol{\\Theta}} \\tilde{\\mathbf{X}}^*_{\\boldsymbol{\\Theta}} \\in \\mathbb{R}^{N_D\\times 3N}\n",
    "$$"
   ]
  },
  {
   "cell_type": "code",
   "execution_count": 1,
   "metadata": {},
   "outputs": [],
   "source": [
    "# Standard libraries\n",
    "import os\n",
    "import numpy as np\n",
    "import pickle\n",
    "import matplotlib.pyplot as plt\n",
    "\n",
    "# Package imports\n",
    "from lammps_implicit_der import SNAP, LammpsImplicitDer\n",
    "from lammps_implicit_der.systems import BCC, BCC_BINARY, BCC_BINARY_VACANCY, BCC_VACANCY, \\\n",
    "                                        BCC_SIA, FromData, HCP, \\\n",
    "                                        BccVacancyConcentration\n",
    "from lammps_implicit_der.tools import plot_tools\n",
    "\n",
    "# No parallel MPI runs in the notebook, but keep comm for consistency\n",
    "comm = None\n",
    "\n",
    "# For parallel runs, use the following:\n",
    "# from lammps_implicit_der.tools import mpi_print, initialize_mpi\n",
    "# comm, rank = initialize_mpi()"
   ]
  },
  {
   "cell_type": "markdown",
   "metadata": {},
   "source": [
    "## Create an atomic system. For this example, we will use one vacancy in BCC lattice"
   ]
  },
  {
   "cell_type": "code",
   "execution_count": null,
   "metadata": {},
   "outputs": [],
   "source": []
  }
 ],
 "metadata": {
  "kernelspec": {
   "display_name": "jax",
   "language": "python",
   "name": "python3"
  },
  "language_info": {
   "codemirror_mode": {
    "name": "ipython",
    "version": 3
   },
   "file_extension": ".py",
   "mimetype": "text/x-python",
   "name": "python",
   "nbconvert_exporter": "python",
   "pygments_lexer": "ipython3",
   "version": "3.10.12"
  }
 },
 "nbformat": 4,
 "nbformat_minor": 2
}
