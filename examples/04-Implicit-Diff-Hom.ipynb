{
 "cells": [
  {
   "cell_type": "markdown",
   "metadata": {},
   "source": [
    "# Homogeneous implicit derivative (isotropic case)\n",
    "\n",
    "Given a supercell matrix $\\mathbf{C}\\in \\mathbb{R}^{3\\times 3}$, we assume isotropic variations controlled by a homogeneous strain $\\epsilon^*_\\mathbf{\\Theta}\\in\\mathbb{R}$ around a reference\n",
    "supercell ${\\bf C}_0$:\n",
    "$$\n",
    "\\mathbf{C}^*_\\mathbf{\\Theta}=\n",
    "\\left[1+ \\epsilon^*_\\mathbf{\\Theta}\\right]\\mathbf{C}_0\n",
    ",\\quad \n",
    "\\nabla_\\mathbf{\\Theta}\\mathbf{C}^*_{\\mathbf{\\Theta}}=(\\nabla_\\mathbf{\\Theta} \\epsilon^*_\\mathbf{\\Theta})\\mathbf{C}_0,\n",
    "$$\n",
    "\n",
    "Then, the _homogeneous_ implicit derivative is $\\nabla_\\mathbf{\\Theta} \\epsilon^*_\\mathbf{\\Theta}\\in\\mathbb{R}^{N_D}$, also called `dStrain_dTheta` in the code."
   ]
  },
  {
   "cell_type": "code",
   "execution_count": 1,
   "metadata": {},
   "outputs": [],
   "source": [
    "# Standard libraries\n",
    "import os\n",
    "import numpy as np\n",
    "import pickle\n",
    "from tqdm import tqdm\n",
    "import matplotlib.pyplot as plt\n",
    "\n",
    "# Package imports\n",
    "from lammps_implicit_der import SNAP, LammpsImplicitDer\n",
    "from lammps_implicit_der.systems import BCC, BCC_BINARY, BCC_BINARY_VACANCY, BCC_VACANCY, \\\n",
    "                                        BCC_SIA, FromData, HCP, \\\n",
    "                                        BccVacancyConcentration\n",
    "from lammps_implicit_der.tools import plot_tools\n",
    "\n",
    "# No parallel MPI runs in the notebook, but keep comm for consistency\n",
    "comm = None\n",
    "\n",
    "# For parallel runs, use the following:\n",
    "# from lammps_implicit_der.tools import mpi_print, initialize_mpi\n",
    "# comm, rank = initialize_mpi()"
   ]
  },
  {
   "cell_type": "markdown",
   "metadata": {},
   "source": [
    "## Create an atomic system. BCC vacancy as an example\n",
    "\n",
    "First, with the non-perturbed potential $\\bar{\\mathbf{\\Theta}}$"
   ]
  },
  {
   "cell_type": "code",
   "execution_count": 2,
   "metadata": {},
   "outputs": [],
   "source": [
    "# System size affects the computational time, use ncell_x = 2 for quick test\n",
    "ncell_x = 2\n",
    "#ncell_x = 3\n",
    "\n",
    "alat = 3.16316\n",
    "\n",
    "vac0 = BCC_VACANCY(alat=alat, ncell_x=ncell_x, del_coord=[0.0, 0.0, 0.0],\n",
    "                   snapcoeff_filename='W_REF.snapcoeff',\n",
    "                   minimize=True, fix_box_relax=False,\n",
    "                   logname='vac0.log', comm=comm, verbose=False)\n",
    "\n",
    "# Initial values:\n",
    "# Potential coefficients\n",
    "Theta0 = vac0.pot.Theta_dict['W']['Theta'].copy()\n",
    "# Positions\n",
    "X_coord0 = vac0.X_coord.copy()\n",
    "# Volume\n",
    "volume0 = vac0.volume\n",
    "# Supercell matrix\n",
    "cell0 = vac0.cell.copy()"
   ]
  },
  {
   "cell_type": "markdown",
   "metadata": {},
   "source": [
    "## Compute the homogeneous implicit derivative `dStrain_dTheta`"
   ]
  },
  {
   "cell_type": "code",
   "execution_count": 3,
   "metadata": {},
   "outputs": [],
   "source": [
    "dStrain_dTheta = vac0.implicit_derivative_hom_iso()"
   ]
  },
  {
   "cell_type": "markdown",
   "metadata": {},
   "source": [
    "## Predict the equilibrium volume change for an ensemble of potentials $\\mathbf{\\Theta}_m$"
   ]
  },
  {
   "cell_type": "code",
   "execution_count": 4,
   "metadata": {},
   "outputs": [
    {
     "name": "stderr",
     "output_type": "stream",
     "text": [
      "100%|██████████| 10/10 [00:01<00:00,  8.50it/s]\n"
     ]
    }
   ],
   "source": [
    "# Read the potential ensemble\n",
    "with open('Theta_ens.pkl', 'rb') as f:\n",
    "    Theta_ens = pickle.load(f)\n",
    "\n",
    "# There are 100 samples in the ensmeble, we select only ten here for demonstration purpose\n",
    "sample_list = np.arange(0, 10, 1)\n",
    "\n",
    "volume_pred_list = []\n",
    "volume_true_list = []\n",
    "\n",
    "for sample in tqdm(sample_list):\n",
    "\n",
    "    # Read the SNAP coefficients\n",
    "    Theta_perturb = Theta_ens['Theta_ens_list'][sample]\n",
    "    dTheta = Theta_perturb - Theta0\n",
    "\n",
    "    # Predict the strain\n",
    "    Strain_pred = dTheta @ dStrain_dTheta\n",
    "    # Predict the supercell matrix\n",
    "    cell_pred = cell0 @ (np.eye(3) * (1.0 + Strain_pred))\n",
    "    # Predict the new equilibrium volume\n",
    "    volume_pred = np.linalg.det(cell_pred)\n",
    "\n",
    "    #\n",
    "    # Next steps are for the true volume calculation from LAMMPS box relaxation\n",
    "    #\n",
    "    #  Create a SNAP object\n",
    "    pot = SNAP.from_files('W_REF.snapcoeff', comm=comm)\n",
    "\n",
    "    # Change the potential coefficients to the perturbed values\n",
    "    pot.Theta_dict['W']['Theta'] = Theta_perturb\n",
    "\n",
    "    # Save the perturbed potential coefficients\n",
    "    pot.to_files(path='.',\n",
    "                 snapcoeff_filename='W_perturb_new.snapcoeff', snapparam_filename='W_perturb_new.snapparam',\n",
    "                 overwrite=True, verbose=False)\n",
    "\n",
    "    # Create a perturbed LAMMPS system\n",
    "    vac_perturb = BCC_VACANCY(alat=alat, ncell_x=ncell_x, del_coord=[0.0, 0.0, 0.0],\n",
    "                              snapcoeff_filename='W_perturb_new.snapcoeff',\n",
    "                              data_path='.',\n",
    "                              minimize=True, fix_box_relax=True,\n",
    "                              logname='vac_perturb.log', comm=comm, verbose=False)\n",
    "\n",
    "    # Read the perturbed volume\n",
    "    volume_true = vac_perturb.volume\n",
    "\n",
    "    volume_pred_list.append(volume_pred)\n",
    "    volume_true_list.append(volume_true)"
   ]
  },
  {
   "cell_type": "code",
   "execution_count": 5,
   "metadata": {},
   "outputs": [
    {
     "data": {
      "image/png": "[encoded data removed]",
      "text/plain": [
       "<Figure size 400x400 with 1 Axes>"
      ]
     },
     "metadata": {},
     "output_type": "display_data"
    }
   ],
   "source": [
    "fig, ax = plt.subplots(1, 1, figsize=(4, 4))\n",
    "ax.plot(volume_true_list, volume_pred_list, 'o', ms=10)\n",
    "fsize=16\n",
    "ax.set_xlabel(r'True Volume ($\\mathrm{\\AA}^3$)', fontsize=fsize)\n",
    "ax.set_ylabel(r'Predicted Volume ($\\mathrm{\\AA}^3$)', fontsize=fsize)\n",
    "ax.plot([min(volume_true_list), max(volume_true_list)], [min(volume_true_list), max(volume_true_list)], 'k--')\n",
    "plt.show()"
   ]
  }
 ],
 "metadata": {
  "kernelspec": {
   "display_name": "jax",
   "language": "python",
   "name": "python3"
  },
  "language_info": {
   "codemirror_mode": {
    "name": "ipython",
    "version": 3
   },
   "file_extension": ".py",
   "mimetype": "text/x-python",
   "name": "python",
   "nbconvert_exporter": "python",
   "pygments_lexer": "ipython3",
   "version": "3.10.12"
  }
 },
 "nbformat": 4,
 "nbformat_minor": 2
}
